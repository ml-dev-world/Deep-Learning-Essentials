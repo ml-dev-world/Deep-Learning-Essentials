{
 "cells": [
  {
   "cell_type": "code",
   "execution_count": 1,
   "id": "9e0c293c",
   "metadata": {},
   "outputs": [],
   "source": [
    "import os \n",
    "os.environ['KMP_DUPLICATE_LIB_OK']='True'"
   ]
  },
  {
   "cell_type": "code",
   "execution_count": 2,
   "id": "903f8943",
   "metadata": {},
   "outputs": [],
   "source": [
    "# Import dependencies\n",
    "from collections import OrderedDict\n",
    "from tqdm.auto import tqdm\n",
    "\n",
    "import torch\n",
    "import torchvision\n",
    "import torch.nn as nn\n",
    "import torch.nn.functional as F\n",
    "import torch.optim as optim\n",
    "from torchvision.datasets.mnist import MNIST\n",
    "import torchvision.transforms as transforms\n",
    "from torch.utils.data import DataLoader\n",
    "from torch.utils.data.sampler import RandomSampler, SequentialSampler\n",
    "import torch.nn.init as init\n",
    "\n",
    "import random\n",
    "import numpy as np\n",
    "import psutil\n",
    "from torchsummary import summary\n",
    "import matplotlib.pyplot as plt\n",
    "\n",
    "import warnings \n",
    "warnings.filterwarnings(\"ignore\")"
   ]
  },
  {
   "cell_type": "code",
   "execution_count": 3,
   "id": "4b56f9ea-54b0-4175-972a-523290fdbe41",
   "metadata": {},
   "outputs": [
    {
     "name": "stdout",
     "output_type": "stream",
     "text": [
      "Random seed set to 42\n"
     ]
    }
   ],
   "source": [
    "def set_experiment_seed(seed=42):\n",
    "    \"\"\"\n",
    "    Set random seeds and CUDA-related flags for experiment reproducibility.\n",
    "    \"\"\"\n",
    "    # Set random seeds for reproducibility\n",
    "    torch.manual_seed(seed)\n",
    "    np.random.seed(seed)\n",
    "    random.seed(seed)\n",
    "\n",
    "    # If using GPU, set random seed for CUDA operations\n",
    "    if torch.cuda.is_available():\n",
    "        torch.cuda.manual_seed(seed)\n",
    "        torch.backends.cudnn.deterministic = True\n",
    "        torch.backends.cudnn.benchmark = False  # Set to False for reproducibility\n",
    "\n",
    "    # Optionally log seed information\n",
    "    print(f\"Random seed set to {seed}\")\n",
    "\n",
    "set_experiment_seed()"
   ]
  },
  {
   "cell_type": "code",
   "execution_count": 4,
   "id": "079ce688",
   "metadata": {},
   "outputs": [],
   "source": [
    "# Download MNIST dataset\n",
    "data_train = MNIST(\n",
    "    \"./data/mnist\", download=True, \n",
    "    transform=transforms.Compose([\n",
    "        transforms.Resize((32, 32)),\n",
    "        transforms.RandomRotation(degrees=15),\n",
    "        transforms.RandomAffine(degrees=0, translate=(0.1, 0.1)),\n",
    "        transforms.RandomVerticalFlip(),\n",
    "        transforms.ColorJitter(brightness=0.2, contrast=0.2),\n",
    "        transforms.GaussianBlur(kernel_size=1),\n",
    "        transforms.ToTensor()\n",
    "    ])\n",
    ")\n",
    "        \n",
    "data_test = MNIST(\n",
    "    \"./data/mnist\", download=True, train=False,\n",
    "    transform=transforms.Compose([\n",
    "        transforms.Resize((32, 32)),\n",
    "        transforms.ToTensor()\n",
    "    ])\n",
    ")"
   ]
  },
  {
   "cell_type": "code",
   "execution_count": 32,
   "id": "372c5b4a",
   "metadata": {},
   "outputs": [],
   "source": [
    "# Define hyperparameters\n",
    "N_CLASSES = 10\n",
    "EPOCHS = 50\n",
    "BATCH_SIZE = 512\n",
    "DROPOUT_PROB = 0.2\n",
    "USE_BATCHNORM = True\n",
    "LABEL_SMOOTHING = 0.1\n",
    "LR = 1.34E-03"
   ]
  },
  {
   "cell_type": "code",
   "execution_count": 6,
   "id": "93918f18",
   "metadata": {},
   "outputs": [],
   "source": [
    "# plt.figure(figsize=(10,10))\n",
    "# for i in range(25):\n",
    "#     plt.subplot(5,5,i+1)\n",
    "#     plt.xticks([])\n",
    "#     plt.yticks([])\n",
    "#     plt.grid(False)\n",
    "#     plt.imshow(data_train[i][0].permute(1,2,0).numpy(), cmap=plt.cm.binary)\n",
    "#     plt.xlabel(data_train[i][1])\n",
    "# plt.show()"
   ]
  },
  {
   "cell_type": "markdown",
   "id": "ce264b0f-c32e-4907-bc34-c7644df7d2c7",
   "metadata": {},
   "source": [
    "`torch.utils.data.DataLoader` supports asynchronous data loading and data augmentation in separate worker subprocesses. The default setting for DataLoader is `num_workers=0`, which means that the data loading is synchronous and done in the main process. As a result the main training process has to wait for the data to be available to continue the execution.\r\n",
    "\r\n",
    "Settin`g num_workers >` 0 enables asynchronous data loading and overlap between the training and data loading. num_workers should be tuned depending on the workload, CPU, GPU, and location of training data.`\r\n",
    "\r\n",
    "DataLo`ader acce`pts pin_me`mory argument, which defaults` to F`alse. When using a GPU it’s better to `set pin_memory=`True, this instru`cts DataLo`ader to use pinned memory and enables faster and asynchronous memory copy from the host to the GPU."
   ]
  },
  {
   "cell_type": "code",
   "execution_count": 7,
   "id": "fb249649-163b-495a-bd21-94711d5ec411",
   "metadata": {},
   "outputs": [],
   "source": [
    "def calculate_num_workers():\n",
    "    # Calculate the number of CPU cores\n",
    "    num_cpu_cores = os.cpu_count()\n",
    "\n",
    "    # Set a safe maximum multiplier value (e.g., 0.5) to avoid using all available resources\n",
    "    max_multiplier = 0.5\n",
    "\n",
    "    # Calculate the number of workers based on the available resources\n",
    "    multiplier = min(sum(psutil.cpu_percent(interval=1, percpu=True)) / 100.0, max_multiplier)\n",
    "    \n",
    "    # Ensure that num_workers is at least 1\n",
    "    num_workers = max(1, int(num_cpu_cores * multiplier))\n",
    "\n",
    "    return num_workers"
   ]
  },
  {
   "cell_type": "code",
   "execution_count": 8,
   "id": "5b752015",
   "metadata": {},
   "outputs": [],
   "source": [
    "# Define train dataloader\n",
    "train_dataloader = DataLoader(\n",
    "    data_train, batch_size=BATCH_SIZE, \n",
    "    sampler=RandomSampler(data_train), \n",
    "    pin_memory=True, num_workers=calculate_num_workers()\n",
    ")\n",
    "\n",
    "# Define test dataloader\n",
    "test_dataloader = DataLoader(\n",
    "    data_test, batch_size=BATCH_SIZE, \n",
    "    sampler=SequentialSampler(data_test),\n",
    "    pin_memory=True, num_workers=calculate_num_workers()\n",
    ")"
   ]
  },
  {
   "cell_type": "markdown",
   "id": "6864f541-00b1-4851-a1da-288992d8d709",
   "metadata": {},
   "source": [
    "`torch.nn.Conv2d()` has `bias` parameter which defaults to `True` (the same is true for `Conv1d` and `Conv3d` ).\n",
    "\n",
    "If a `nn.Conv2d` layer is directly followed by a `nn.BatchNorm2d` layer, then the bias in the convolution is not needed, instead use `nn.Conv2d(..., bias=False, ....)`. Bias is not needed because in the first step `BatchNorm` subtracts the mean, which effectively cancels out the effect of bias.\n",
    "\n",
    "This is also applicable to 1d and 3d convolutions as long as `BatchNorm`(or other normalization layer) normalizes on the same dimension as convolution’s bias."
   ]
  },
  {
   "cell_type": "code",
   "execution_count": 43,
   "id": "35af50e0-5861-444c-ab61-8581c61f9af0",
   "metadata": {},
   "outputs": [],
   "source": [
    "class LeNet(nn.Module):\n",
    "    def __init__(self):\n",
    "        super(LeNet, self).__init__()\n",
    "                \n",
    "        self.features1 = nn.Sequential(\n",
    "            nn.Conv2d(1, 6, kernel_size=(5, 5), bias=not USE_BATCHNORM),\n",
    "            self._get_norm_layer(6),\n",
    "            nn.ReLU(),\n",
    "            nn.MaxPool2d(kernel_size=(2, 2), stride=2),\n",
    "            nn.Dropout2d(p=DROPOUT_PROB)\n",
    "        )\n",
    "        \n",
    "        self.features2 = nn.Sequential(\n",
    "            nn.Conv2d(6, 16, kernel_size=(5, 5), bias=not USE_BATCHNORM),\n",
    "            self._get_norm_layer(16),\n",
    "            nn.ReLU(),\n",
    "            nn.MaxPool2d(kernel_size=(2, 2), stride=2),\n",
    "            nn.Dropout2d(p=DROPOUT_PROB)\n",
    "        )\n",
    "\n",
    "        self.features3 = nn.Sequential(\n",
    "            nn.Conv2d(16, 120, kernel_size=(5, 5), bias=not USE_BATCHNORM),\n",
    "            self._get_norm_layer(120),\n",
    "            nn.ReLU(),\n",
    "            nn.Dropout2d(p=DROPOUT_PROB)\n",
    "        )\n",
    "\n",
    "        self.classifier = nn.Sequential(\n",
    "            nn.Linear(120, 84, bias=True),\n",
    "            nn.ReLU(),\n",
    "            nn.Dropout(p=DROPOUT_PROB),\n",
    "            nn.Linear(84, 10, bias=True)\n",
    "        )\n",
    "\n",
    "        # Initialize layers\n",
    "        self.apply(self._initialize_weights)\n",
    "\n",
    "    def _get_norm_layer(self, channels):\n",
    "        if USE_BATCHNORM:\n",
    "            return nn.BatchNorm2d(channels)\n",
    "        else:\n",
    "            return nn.Identity()\n",
    "\n",
    "    def _initialize_weights(self, m):\n",
    "        if isinstance(m, nn.Conv2d) or isinstance(m, nn.Linear):\n",
    "            init.kaiming_uniform_(m.weight)\n",
    "            if m.bias is not None:\n",
    "                init.constant_(m.bias, 0)\n",
    "        \n",
    "    def forward(self, x):\n",
    "        x = self.features1(x)\n",
    "        x = self.features2(x)\n",
    "        x = self.features3(x)\n",
    "        x = x.view(x.size(0), -1)\n",
    "        x = self.classifier(x)\n",
    "        return x"
   ]
  },
  {
   "cell_type": "code",
   "execution_count": 44,
   "id": "621c6db2-e8a3-42cc-ab36-5694abdf5764",
   "metadata": {},
   "outputs": [],
   "source": [
    "device = torch.device(\"cuda\" if torch.cuda.is_available() else \"cpu\")"
   ]
  },
  {
   "cell_type": "code",
   "execution_count": 45,
   "id": "31f61bca",
   "metadata": {},
   "outputs": [
    {
     "name": "stdout",
     "output_type": "stream",
     "text": [
      "----------------------------------------------------------------\n",
      "        Layer (type)               Output Shape         Param #\n",
      "================================================================\n",
      "            Conv2d-1           [512, 6, 28, 28]             150\n",
      "       BatchNorm2d-2           [512, 6, 28, 28]              12\n",
      "              ReLU-3           [512, 6, 28, 28]               0\n",
      "         MaxPool2d-4           [512, 6, 14, 14]               0\n",
      "         Dropout2d-5           [512, 6, 14, 14]               0\n",
      "            Conv2d-6          [512, 16, 10, 10]           2,400\n",
      "       BatchNorm2d-7          [512, 16, 10, 10]              32\n",
      "              ReLU-8          [512, 16, 10, 10]               0\n",
      "         MaxPool2d-9            [512, 16, 5, 5]               0\n",
      "        Dropout2d-10            [512, 16, 5, 5]               0\n",
      "           Conv2d-11           [512, 120, 1, 1]          48,000\n",
      "      BatchNorm2d-12           [512, 120, 1, 1]             240\n",
      "             ReLU-13           [512, 120, 1, 1]               0\n",
      "        Dropout2d-14           [512, 120, 1, 1]               0\n",
      "           Linear-15                  [512, 84]          10,164\n",
      "             ReLU-16                  [512, 84]               0\n",
      "          Dropout-17                  [512, 84]               0\n",
      "           Linear-18                  [512, 10]             850\n",
      "================================================================\n",
      "Total params: 61,848\n",
      "Trainable params: 61,848\n",
      "Non-trainable params: 0\n",
      "----------------------------------------------------------------\n",
      "Input size (MB): 2.00\n",
      "Forward/backward pass size (MB): 89.09\n",
      "Params size (MB): 0.24\n",
      "Estimated Total Size (MB): 91.32\n",
      "----------------------------------------------------------------\n"
     ]
    }
   ],
   "source": [
    "# Instantiate the model\n",
    "model = LeNet()\n",
    "model = model.to(device)\n",
    "\n",
    "# Test with a random input\n",
    "summary(model, input_size=(1, 32, 32), batch_size=BATCH_SIZE)"
   ]
  },
  {
   "cell_type": "markdown",
   "id": "6d186351-babd-4d4e-886e-d9338ca71640",
   "metadata": {
    "jp-MarkdownHeadingCollapsed": true
   },
   "source": [
    "#### 1. Cross Entropy Loss\n",
    "The standard cross-entropy loss for classification tasks is given by:\n",
    "\n",
    "$$ \\text{Traditional Cross Entropy Loss: } H(y, \\hat{y}) = - \\sum_i y_i \\log(\\hat{y}_i) $$\n",
    "\n",
    " - $y_i$ is a binary indicator of whether class $i$ is the correct classification.  \n",
    " - $p_i$ is the predicted probability of class $i$.\n",
    "\n",
    "#### 2. Label Smoothed Cross Entropy\n",
    "Label Smoothing Cross Entropy Loss introduces a modification to the target distribution:\n",
    "\n",
    " $$ \\text{Label Smoothed Cross Entropy Loss} = - \\sum_i \\left( (1 - \\text{smoothing}) \\cdot 1_{\\{y_i\\}} + \\frac{\\text{smoothing}}{C-1} \\cdot 1_{\\{1 - y_i\\}} \\right) \\cdot \\log(p_i) $$\n",
    "\n",
    "Where:\n",
    "- $1_{\\{y_i\\}}$ is a binary indicator of whether class $i$ is the correct classification.\n",
    "- $p_i$ is the predicted probability of class $i$.\n",
    "- $C$ is the number of classes.\n",
    "- $\\text{smoothing}$  is the smoothing factor.\n",
    "\n"
   ]
  },
  {
   "cell_type": "code",
   "execution_count": 46,
   "id": "5556bcc8-3ff2-4169-b316-0a7b17aa1d2e",
   "metadata": {},
   "outputs": [],
   "source": [
    "class LabelSmoothedCrossEntropy(nn.Module):\n",
    "    def __init__(self, num_classes, smoothing):\n",
    "        super(LabelSmoothedCrossEntropy, self).__init__()\n",
    "        self.num_classes = num_classes\n",
    "        self.smoothing = smoothing\n",
    "        self.confidence = 1.0 - smoothing\n",
    "\n",
    "    def forward(self, input_logits, target):\n",
    "        log_probs = F.log_softmax(input_logits, dim=-1)\n",
    "        true_dist = torch.zeros_like(log_probs)\n",
    "        true_dist.fill_(self.smoothing / (self.num_classes - 1))\n",
    "        true_dist.scatter_(1, target.data.unsqueeze(1), self.confidence)\n",
    "        loss = -torch.sum(true_dist * log_probs) / input_logits.size(0)\n",
    "        return loss"
   ]
  },
  {
   "cell_type": "code",
   "execution_count": 48,
   "id": "262d50c6-de05-416f-8ad7-14792edf403c",
   "metadata": {},
   "outputs": [],
   "source": [
    "# Initialize loss\n",
    "# criterion = nn.CrossEntropyLoss()\n",
    "criterion = LabelSmoothedCrossEntropy(num_classes=N_CLASSES, smoothing=LABEL_SMOOTHING)\n",
    "\n",
    "# Initialize optimizer\n",
    "optimizer = optim.Adam(model.parameters(), lr=LR)\n",
    "\n",
    "# Initialize scheduler\n",
    "scheduler = optim.lr_scheduler.ReduceLROnPlateau(optimizer, mode='min', patience=1, threshold=1e-6)"
   ]
  },
  {
   "cell_type": "markdown",
   "id": "e88f5212-0ec9-4be0-bca4-260d4d6f6cf1",
   "metadata": {
    "jp-MarkdownHeadingCollapsed": true
   },
   "source": [
    "#### LR Finder"
   ]
  },
  {
   "cell_type": "code",
   "execution_count": 49,
   "id": "c872fb49-b472-44e3-bc6c-bfced9e7a162",
   "metadata": {},
   "outputs": [],
   "source": [
    "class TrainDataLoaderIter:\n",
    "    \"\"\"\n",
    "    Iterator for a PyTorch DataLoader, facilitating easy iteration over batches of data.\n",
    "\n",
    "    Args:\n",
    "        dataloader (torch.utils.data.DataLoader): The PyTorch DataLoader providing batches of data.\n",
    "        auto_reset (bool, optional): If True, the iterator resets to the beginning of the DataLoader\n",
    "            when it reaches the end. If False, a StopIteration exception is raised at the end.\n",
    "            Default is True.\n",
    "\n",
    "    Methods:\n",
    "        inputs_labels_from_batch(batch_data):\n",
    "            Extracts inputs and labels from a batch of data.\n",
    "\n",
    "        __next__():\n",
    "            Gets the next batch of data from the DataLoader, automatically resetting if necessary.\n",
    "\n",
    "        __iter__():\n",
    "            Returns the iterator object.\n",
    "\n",
    "    Usage:\n",
    "        # Create a TrainDataLoaderIter object\n",
    "        train_iter = TrainDataLoaderIter(train_dataloader)\n",
    "\n",
    "        # Iterate over batches of data\n",
    "        for inputs, labels in train_iter:\n",
    "            # Perform training using the current batch\n",
    "\n",
    "    Example with custom inputs_labels_from_batch:\n",
    "        class CustomTrainDataLoaderIter(TrainDataLoaderIter):\n",
    "            def inputs_labels_from_batch(self, batch_data):\n",
    "                # Custom logic to extract inputs and labels from the batch_data\n",
    "                inputs, labels = batch_data['data'], batch_data['label']\n",
    "                return inputs, labels\n",
    "    \"\"\"\n",
    "    def __init__(self, dataloader, auto_reset=True):\n",
    "        \"\"\"\n",
    "        Initialize the TrainDataLoaderIter.\n",
    "\n",
    "        Args:\n",
    "            dataloader (torch.utils.data.DataLoader): The PyTorch DataLoader providing batches of data.\n",
    "            auto_reset (bool, optional): If True, the iterator resets to the beginning of the DataLoader\n",
    "                when it reaches the end. If False, a StopIteration exception is raised at the end.\n",
    "                Default is True.\n",
    "        \"\"\"\n",
    "        self.dataloader = dataloader\n",
    "        self._iterator = iter(dataloader)\n",
    "        self.auto_reset = auto_reset\n",
    "\n",
    "    def inputs_labels_from_batch(self, batch_data):\n",
    "        \"\"\"\n",
    "        Extract inputs and labels from a batch of data.\n",
    "\n",
    "        Args:\n",
    "            batch_data: Batch of data returned by the DataLoader.\n",
    "\n",
    "        Returns:\n",
    "            Tuple: A tuple containing inputs and labels extracted from the batch_data.\n",
    "        \"\"\"\n",
    "        inputs, labels = batch_data\n",
    "        return inputs, labels\n",
    "\n",
    "    def __next__(self):\n",
    "        \"\"\"\n",
    "        Get the next batch of data from the DataLoader, automatically resetting if necessary.\n",
    "\n",
    "        Returns:\n",
    "            Tuple: A tuple containing inputs and labels for the next batch of data.\n",
    "\n",
    "        Raises:\n",
    "            StopIteration: If auto_reset is False and the end of the DataLoader is reached.\n",
    "        \"\"\"\n",
    "        try:\n",
    "            batch = next(self._iterator)\n",
    "            inputs, labels = self.inputs_labels_from_batch(batch)\n",
    "        except StopIteration:\n",
    "            if self.auto_reset:\n",
    "                self._iterator = iter(self.dataloader)\n",
    "                batch = next(self._iterator)\n",
    "                inputs, labels = self.inputs_labels_from_batch(batch)\n",
    "            else:\n",
    "                raise\n",
    "\n",
    "        return inputs, labels\n",
    "\n",
    "    def __iter__(self):\n",
    "        \"\"\"\n",
    "        Returns the iterator object.\n",
    "\n",
    "        Returns:\n",
    "            self: The iterator object.\n",
    "        \"\"\"\n",
    "        return self"
   ]
  },
  {
   "cell_type": "code",
   "execution_count": 50,
   "id": "b37eec82-ec8f-407e-be48-d3c532047c7c",
   "metadata": {},
   "outputs": [],
   "source": [
    "class LinearLR(torch.optim.lr_scheduler._LRScheduler):\n",
    "    \"\"\"\n",
    "    Linear learning rate scheduler.\n",
    "\n",
    "    Args:\n",
    "        optimizer (torch.optim.Optimizer): Optimizer to adjust the learning rate for.\n",
    "        end_lr (float): The final learning rate after the specified number of iterations.\n",
    "        num_iter (int): The total number of iterations for the learning rate schedule.\n",
    "        last_epoch (int, optional): The index of the last epoch. Default is -1.\n",
    "\n",
    "    Methods:\n",
    "        get_lr():\n",
    "            Calculate the linearly adjusted learning rates based on the current iteration.\n",
    "\n",
    "    Usage:\n",
    "        # Create a LinearLR scheduler\n",
    "        linear_scheduler = LinearLR(optimizer, end_lr=0.001, num_iter=100)\n",
    "\n",
    "        # Inside the training loop\n",
    "        for epoch in range(num_epochs):\n",
    "            for batch in data_loader:\n",
    "                # Perform training using the current batch\n",
    "\n",
    "                # Update the learning rate\n",
    "                linear_scheduler.step()\n",
    "\n",
    "    Note: Ensure that the scheduler is called within the training loop after each training step.\n",
    "\n",
    "    Example:\n",
    "        linear_scheduler = LinearLR(optimizer, end_lr=0.001, num_iter=100)\n",
    "        for epoch in range(num_epochs):\n",
    "            for batch in data_loader:\n",
    "                # Perform training using the current batch\n",
    "\n",
    "                # Update the learning rate\n",
    "                linear_scheduler.step()\n",
    "    \"\"\"\n",
    "\n",
    "    def __init__(self, optimizer, end_lr, num_iter, last_epoch=-1):\n",
    "        \"\"\"\n",
    "        Initialize the LinearLR scheduler.\n",
    "\n",
    "        Args:\n",
    "            optimizer (torch.optim.Optimizer): Optimizer to adjust the learning rate for.\n",
    "            end_lr (float): The final learning rate after the specified number of iterations.\n",
    "            num_iter (int): The total number of iterations for the learning rate schedule.\n",
    "            last_epoch (int, optional): The index of the last epoch. Default is -1.\n",
    "        \"\"\"\n",
    "        self.end_lr = end_lr\n",
    "        self.num_iter = num_iter\n",
    "        super(LinearLR, self).__init__(optimizer, last_epoch)\n",
    "\n",
    "    def get_lr(self):\n",
    "        \"\"\"\n",
    "        Calculate the linearly adjusted learning rates based on the current iteration.\n",
    "\n",
    "        Returns:\n",
    "            list: List of adjusted learning rates for each parameter group.\n",
    "        \"\"\"\n",
    "        r = self.last_epoch / (self.num_iter - 1)\n",
    "        return [base_lr + r * (self.end_lr - base_lr) for base_lr in self.base_lrs]\n",
    "\n",
    "    \n",
    "class ExponentialLR(torch.optim.lr_scheduler._LRScheduler):\n",
    "    \"\"\"\n",
    "    Exponential learning rate scheduler.\n",
    "\n",
    "    Args:\n",
    "        optimizer (torch.optim.Optimizer): Optimizer to adjust the learning rate for.\n",
    "        end_lr (float): The final learning rate after the specified number of iterations.\n",
    "        num_iter (int): The total number of iterations for the learning rate schedule.\n",
    "        last_epoch (int, optional): The index of the last epoch. Default is -1.\n",
    "\n",
    "    Methods:\n",
    "        get_lr():\n",
    "            Calculate the exponentially adjusted learning rates based on the current iteration.\n",
    "\n",
    "    Usage:\n",
    "        # Create an ExponentialLR scheduler\n",
    "        exponential_scheduler = ExponentialLR(optimizer, end_lr=0.001, num_iter=100)\n",
    "\n",
    "        # Inside the training loop\n",
    "        for epoch in range(num_epochs):\n",
    "            for batch in data_loader:\n",
    "                # Perform training using the current batch\n",
    "\n",
    "                # Update the learning rate\n",
    "                exponential_scheduler.step()\n",
    "\n",
    "    Note: Ensure that the scheduler is called within the training loop after each training step.\n",
    "\n",
    "    Example:\n",
    "        exponential_scheduler = ExponentialLR(optimizer, end_lr=0.001, num_iter=100)\n",
    "        for epoch in range(num_epochs):\n",
    "            for batch in data_loader:\n",
    "                # Perform training using the current batch\n",
    "\n",
    "                # Update the learning rate\n",
    "                exponential_scheduler.step()\n",
    "    \"\"\"\n",
    "\n",
    "    def __init__(self, optimizer, end_lr, num_iter, last_epoch=-1):\n",
    "        \"\"\"\n",
    "        Initialize the ExponentialLR scheduler.\n",
    "\n",
    "        Args:\n",
    "            optimizer (torch.optim.Optimizer): Optimizer to adjust the learning rate for.\n",
    "            end_lr (float): The final learning rate after the specified number of iterations.\n",
    "            num_iter (int): The total number of iterations for the learning rate schedule.\n",
    "            last_epoch (int, optional): The index of the last epoch. Default is -1.\n",
    "        \"\"\"\n",
    "        self.end_lr = end_lr\n",
    "        self.num_iter = num_iter\n",
    "        super(ExponentialLR, self).__init__(optimizer, last_epoch)\n",
    "\n",
    "    def get_lr(self):\n",
    "        \"\"\"\n",
    "        Calculate the exponentially adjusted learning rates based on the current iteration.\n",
    "\n",
    "        Returns:\n",
    "            list: List of adjusted learning rates for each parameter group.\n",
    "        \"\"\"\n",
    "        r = self.last_epoch / (self.num_iter - 1)\n",
    "        return [base_lr * (self.end_lr / base_lr) ** r for base_lr in self.base_lrs]\n"
   ]
  },
  {
   "cell_type": "code",
   "execution_count": 51,
   "id": "1bde5469-f2cd-456e-b904-2bbff34dbdf1",
   "metadata": {},
   "outputs": [],
   "source": [
    "class LearningRateFinder:\n",
    "    \"\"\"\n",
    "    Learning rate finder class for determining an optimal learning rate during model training.\n",
    "\n",
    "    Args:\n",
    "        model (torch.nn.Module): The neural network model to train.\n",
    "        criterion: The loss function used for training.\n",
    "        optimizer: The optimizer used for updating model parameters.\n",
    "        device (torch.device): The device (CPU or GPU) on which to perform training.\n",
    "\n",
    "    Attributes:\n",
    "        model (torch.nn.Module): The neural network model to train.\n",
    "        criterion: The loss function used for training.\n",
    "        optimizer: The optimizer used for updating model parameters.\n",
    "        device (torch.device): The device (CPU or GPU) on which to perform training.\n",
    "        history (dict): A dictionary to store the learning rate and loss history during search.\n",
    "            Keys: 'lr' for learning rates, 'loss' for corresponding losses.\n",
    "        best_loss: The best observed loss during the learning rate search.\n",
    "\n",
    "    Methods:\n",
    "        find_lr(train_dataloader, start_lr=None, end_lr=10, num_iter=100, step_mode=\"exp\",\n",
    "                smooth_f=0.05, diverge_th=5, early_stop_patience=None):\n",
    "            Search for the optimal learning rate within the specified range.\n",
    "\n",
    "        _train_batch(train_iter):\n",
    "            Train a single batch and update the model parameters.\n",
    "\n",
    "        set_learning_rate(start_lrs):\n",
    "            Set the learning rate(s) for the optimizer.\n",
    "\n",
    "        plot(skip_start=10, skip_end=5, log_lr=True, show_lr=None):\n",
    "            Plot the learning rate search results and suggest an optimal learning rate.\n",
    "\n",
    "    Usage:\n",
    "        # Create a LearningRateFinder instance\n",
    "        lr_finder = LearningRateFinder(model, criterion, optimizer, device)\n",
    "\n",
    "        # Find the optimal learning rate\n",
    "        lr_finder.find_lr(train_dataloader, start_lr=1e-5, end_lr=10, num_iter=100)\n",
    "\n",
    "        # Plot the learning rate search results\n",
    "        lr_finder.plot()\n",
    "    \"\"\"\n",
    "    def __init__(self, model, criterion, optimizer, device):\n",
    "        \"\"\"\n",
    "        Initialize the LearningRateFinder.\n",
    "\n",
    "        Args:\n",
    "            model (torch.nn.Module): The neural network model to train.\n",
    "            criterion: The loss function used for training.\n",
    "            optimizer: The optimizer used for updating model parameters.\n",
    "            device (torch.device): The device (CPU or GPU) on which to perform training.\n",
    "        \"\"\"\n",
    "        self.model = model\n",
    "        self.criterion = criterion\n",
    "        self.optimizer = optimizer\n",
    "        self.device = device\n",
    "        self.history = {\"lr\": [], \"loss\": []}\n",
    "        self.best_loss = None\n",
    "        \n",
    "        self.model.to(device)\n",
    "        \n",
    "    def find_lr(\n",
    "        self, train_dataloader, \n",
    "        start_lr=None, end_lr=10, \n",
    "        num_iter=100, step_mode=\"exp\", \n",
    "        smooth_f=0.05, diverge_th=5,\n",
    "        early_stop_patience=None\n",
    "    ):\n",
    "        \"\"\"\n",
    "        Search for the optimal learning rate within the specified range.\n",
    "\n",
    "        Args:\n",
    "            train_dataloader: The dataloader providing training batches.\n",
    "            start_lr (float or List[float], optional): The starting learning rate(s).\n",
    "                If None, uses the learning rate(s) from the optimizer. Default is None.\n",
    "            end_lr (float): The ending learning rate for the search.\n",
    "            num_iter (int): The number of iterations for the search.\n",
    "            step_mode (str, optional): The mode for adjusting learning rates (\"exp\" or \"linear\").\n",
    "                Default is \"exp\".\n",
    "            smooth_f (float, optional): The smoothing factor for loss values. Default is 0.05.\n",
    "            diverge_th (float, optional): The threshold for loss divergence. Default is 5.\n",
    "            early_stop_patience (int, optional): The patience for early stopping. Default is None.\n",
    "\n",
    "        Returns:\n",
    "            None\n",
    "        \"\"\"\n",
    "        # Initialize variables to track learning rate search history\n",
    "        self.history = {\"lr\": [], \"loss\": []}\n",
    "        self.best_loss = None # Best loss during the learning rate search\n",
    "        early_stop_counter = 0 # Counter for early stopping criteria\n",
    "\n",
    "        # Set initial learning rate if provided\n",
    "        if start_lr:\n",
    "            self.set_learning_rate(start_lr)\n",
    "\n",
    "        # Choose a learning rate scheduler based on the specified step_mode\n",
    "        if step_mode == \"exp\":\n",
    "            lr_schedule = ExponentialLR(self.optimizer, end_lr=end_lr, num_iter=num_iter) \n",
    "        elif step_mode == \"linear\":\n",
    "            lr_schedule = LinearLR(self.optimizer, end_lr=end_lr, num_iter=num_iter)\n",
    "\n",
    "        # Create an iterator for the training dataloader\n",
    "        train_iter = TrainDataLoaderIter(train_dataloader)\n",
    "\n",
    "        # Iterate over the specified number of iterations to find the optimal learning rate\n",
    "        for iteration in tqdm(range(num_iter)):\n",
    "            # Train a batch and obtain the loss\n",
    "            loss = self._train_batch(\n",
    "                train_iter\n",
    "            )\n",
    "            # Record the current learning rate in the history\n",
    "            self.history[\"lr\"].append(lr_schedule.get_lr()[0])\n",
    "            lr_schedule.step() # Update the learning rate according to the scheduler\n",
    "\n",
    "            # Update the best_loss if this is the first iteration, or if a lower loss is encountered\n",
    "            if iteration == 0:\n",
    "                self.best_loss = loss\n",
    "            else:\n",
    "                # Apply smoothing to the loss if specified\n",
    "                if smooth_f > 0:\n",
    "                    loss = smooth_f * loss + (1 - smooth_f) * self.history[\"loss\"][-1]\n",
    "\n",
    "                # Update best_loss and early stopping counter if a lower loss is not encountered\n",
    "                if loss < self.best_loss:\n",
    "                    self.best_loss = loss\n",
    "                else:\n",
    "                    # Check for early stopping based on patience\n",
    "                    early_stop_counter += 1\n",
    "                    if early_stop_patience and early_stop_counter > early_stop_patience:\n",
    "                        print(f\"Early stopping: Loss has not improved for {early_stop_patience} iterations.\")\n",
    "                        break\n",
    "\n",
    "            # Record the current loss in the history\n",
    "            self.history[\"loss\"].append(loss)\n",
    "            # Check for divergence in loss and stop the search if criteria are met\n",
    "            if loss > diverge_th * self.best_loss:\n",
    "                print(\"Stopping early, the loss has diverged.\")\n",
    "                break\n",
    "\n",
    "        # Print a message indicating the completion of the learning rate search\n",
    "        print(\"Learning rate search finished.\")\n",
    "        \n",
    "    def _train_batch(self, train_iter):\n",
    "        \"\"\"\n",
    "        Train a single batch and update the model parameters.\n",
    "\n",
    "        Args:\n",
    "            train_iter: Iterator providing training batches.\n",
    "\n",
    "        Returns:\n",
    "            float: The loss value for the current batch.\n",
    "        \"\"\"\n",
    "        # Set the model in training mode and zero the gradients\n",
    "        self.model.train()\n",
    "        self.optimizer.zero_grad()\n",
    "\n",
    "        # Retrieve inputs and labels for the current batch\n",
    "        inputs, labels = next(train_iter)\n",
    "        inputs, labels = inputs.to(self.device), labels.to(self.device)\n",
    "\n",
    "        # Forward pass: compute model predictions and calculate the loss\n",
    "        outputs = self.model(inputs)\n",
    "        loss = self.criterion(outputs, labels)\n",
    "\n",
    "        # Backward pass: compute gradients and update model parameters\n",
    "        loss.backward()\n",
    "        self.optimizer.step()\n",
    "        \n",
    "        # Return the loss value as a float\n",
    "        return loss.item()\n",
    "    \n",
    "    def set_learning_rate(self, start_lrs):\n",
    "        \"\"\"\n",
    "        Set the learning rate(s) for the optimizer.\n",
    "\n",
    "        Args:\n",
    "            start_lrs (float or List[float]): The initial learning rate(s) to be set.\n",
    "\n",
    "        Returns:\n",
    "            None\n",
    "        \"\"\"\n",
    "        # Ensure start_lrs is a list to handle single and multiple parameter groups\n",
    "        if not isinstance(start_lrs, list):\n",
    "            start_lrs = [start_lrs] * len(self.optimizer.param_groups)\n",
    "\n",
    "        # Update the learning rate for each parameter group\n",
    "        for param_group, start_lr in zip(self.optimizer.param_groups, start_lrs):\n",
    "            param_group['lr'] = start_lr\n",
    "            \n",
    "    def plot(self, skip_start = 10, skip_end=5, log_lr=True, show_lr=None):\n",
    "        \"\"\"\n",
    "        Plot the learning rate search results and suggest an optimal learning rate.\n",
    "\n",
    "        Args:\n",
    "            skip_start (int, optional): Number of initial iterations to skip in the plot. Default is 10.\n",
    "            skip_end (int, optional): Number of final iterations to skip in the plot. Default is 5.\n",
    "            log_lr (bool, optional): Whether to use a logarithmic scale for the learning rate axis.\n",
    "                Default is True.\n",
    "            show_lr (float, optional): The learning rate to highlight on the plot.\n",
    "\n",
    "        Returns:\n",
    "            tuple: A tuple containing the plot axis and the suggested optimal learning rate.\n",
    "        \"\"\"\n",
    "        lrs = self.history[\"lr\"]\n",
    "        losses = self.history[\"loss\"]\n",
    "        if skip_end == 0:\n",
    "            lrs = lrs[skip_start:]\n",
    "            losses = losses[skip_start:]\n",
    "        else:\n",
    "            lrs = lrs[skip_start:-skip_end]\n",
    "            losses = losses[skip_start:-skip_end]\n",
    "            \n",
    "        fig, ax = plt.subplots()    \n",
    "        ax.plot(lrs, losses)\n",
    "        \n",
    "        print(\"LR suggestion: steepest gradient\")\n",
    "        min_grad_idx = (np.gradient(np.array(losses))).argmin()\n",
    "        print(\"Suggested LR: {:.2E}\".format(lrs[min_grad_idx]))\n",
    "        ax.scatter(\n",
    "            lrs[min_grad_idx],\n",
    "            losses[min_grad_idx],\n",
    "            s=75,\n",
    "            marker=\"o\",\n",
    "            color=\"red\",\n",
    "            zorder=3,\n",
    "            label=\"steepest gradient\",\n",
    "        )\n",
    "        ax.legend()\n",
    "        \n",
    "        if log_lr:\n",
    "            ax.set_xscale(\"log\")\n",
    "        ax.set_xlabel(\"Learning rate\")\n",
    "        ax.set_ylabel(\"Loss\")\n",
    "        \n",
    "        if show_lr is not None:\n",
    "            ax.axvline(x=show_lr, color=\"red\")\n",
    "            \n",
    "        plt.show()\n",
    "            \n",
    "        return ax, lrs[min_grad_idx]"
   ]
  },
  {
   "cell_type": "code",
   "execution_count": 52,
   "id": "2e6a0e9d-798f-4adc-b110-ef203922bb6e",
   "metadata": {},
   "outputs": [],
   "source": [
    "# lr_finder = LearningRateFinder(model, criterion, optimizer, device)\n",
    "# lr_finder.find_lr(train_dataloader, num_iter=500, start_lr=1e-3)\n",
    "# lr_finder.plot()"
   ]
  },
  {
   "cell_type": "markdown",
   "id": "6297eb60-ff83-4f9a-abbb-47919289ecc4",
   "metadata": {
    "jp-MarkdownHeadingCollapsed": true
   },
   "source": [
    "#### Train"
   ]
  },
  {
   "cell_type": "code",
   "execution_count": 53,
   "id": "34cd9acf",
   "metadata": {},
   "outputs": [],
   "source": [
    "def train(epoch):\n",
    "    model.train()\n",
    "    total_loss = 0.0\n",
    "\n",
    "    with tqdm(total=len(train_dataloader), desc=f\"Epoch {epoch}/Training\", unit=\"batch\") as pbar:\n",
    "        for i, (images, labels) in enumerate(train_dataloader):\n",
    "            images, labels = images.to(device), labels.to(device)\n",
    "            \n",
    "            optimizer.zero_grad()\n",
    "            output = model(images)\n",
    "            loss = criterion(output, labels)\n",
    "            loss.backward()\n",
    "            optimizer.step()\n",
    "            \n",
    "            total_loss += loss.item()\n",
    "            pbar.update(1)\n",
    "            pbar.set_postfix(loss=total_loss / (i+1))\n",
    "\n",
    "    avg_loss = total_loss / len(train_dataloader.dataset)\n",
    "    scheduler.step(metrics=avg_loss)\n",
    "    print(f\"[Train][Epoch {epoch}] Average Loss: {avg_loss:.5f}, Updated Learning Rate: {optimizer.param_groups[0]['lr']}\")"
   ]
  },
  {
   "cell_type": "markdown",
   "id": "a217af40-7a4e-4a1e-8cfc-133fc220090f",
   "metadata": {
    "jp-MarkdownHeadingCollapsed": true
   },
   "source": [
    "#### Eval"
   ]
  },
  {
   "cell_type": "code",
   "execution_count": 54,
   "id": "de2f38e6",
   "metadata": {},
   "outputs": [],
   "source": [
    "def test(epoch):\n",
    "    model.eval()\n",
    "    total_correct = 0\n",
    "    total_loss = 0.0\n",
    "\n",
    "    with tqdm(total=len(test_dataloader), desc=f\"Epoch {epoch}/Testing\", unit=\"batch\") as pbar: \n",
    "        with torch.no_grad():\n",
    "            for i, (images, labels) in enumerate(test_dataloader):\n",
    "                images, labels = images.to(device), labels.to(device)\n",
    "                \n",
    "                output = model(images)                \n",
    "                loss = criterion(output, labels)\n",
    "\n",
    "                total_loss += loss.item()\n",
    "                pbar.update(1)\n",
    "                pbar.set_postfix(loss=total_loss / (i+1))\n",
    "                \n",
    "                pred = output.detach().max(1)[1]\n",
    "                total_correct += pred.eq(labels.view_as(pred)).sum()\n",
    "            \n",
    "    avg_loss = total_loss / len(test_dataloader.dataset)\n",
    "    accuracy = total_correct / len(test_dataloader.dataset)\n",
    "    \n",
    "    print(f\"[Test][Epoch {epoch}] Loss: {avg_loss:.5f}, Accuracy: {accuracy:3f}\")\n",
    "    return avg_loss"
   ]
  },
  {
   "cell_type": "markdown",
   "id": "2e589a1d-848f-4045-813c-662ef287e348",
   "metadata": {
    "jp-MarkdownHeadingCollapsed": true
   },
   "source": [
    "#### Run"
   ]
  },
  {
   "cell_type": "code",
   "execution_count": 55,
   "id": "0c3cd024",
   "metadata": {},
   "outputs": [],
   "source": [
    "def run():\n",
    "    for epoch in range(EPOCHS):\n",
    "        train(epoch)\n",
    "        val_loss = test(epoch)"
   ]
  },
  {
   "cell_type": "code",
   "execution_count": 56,
   "id": "04e628b2-39af-4e82-8d13-e94a3f4ffd86",
   "metadata": {},
   "outputs": [
    {
     "data": {
      "application/vnd.jupyter.widget-view+json": {
       "model_id": "52e807052853468280291dd10b8b22ae",
       "version_major": 2,
       "version_minor": 0
      },
      "text/plain": [
       "Epoch 0/Training:   0%|          | 0/118 [00:00<?, ?batch/s]"
      ]
     },
     "metadata": {},
     "output_type": "display_data"
    },
    {
     "name": "stdout",
     "output_type": "stream",
     "text": [
      "[Train][Epoch 0] Average Loss: 0.00360, Updated Learning Rate: 0.00134\n"
     ]
    },
    {
     "data": {
      "application/vnd.jupyter.widget-view+json": {
       "model_id": "40ac1513c2e14abfa5b4c61d2df5bb81",
       "version_major": 2,
       "version_minor": 0
      },
      "text/plain": [
       "Epoch 0/Testing:   0%|          | 0/20 [00:00<?, ?batch/s]"
      ]
     },
     "metadata": {},
     "output_type": "display_data"
    },
    {
     "name": "stdout",
     "output_type": "stream",
     "text": [
      "[Test][Epoch 0] Loss: 0.00204, Accuracy: 0.852800\n"
     ]
    },
    {
     "data": {
      "application/vnd.jupyter.widget-view+json": {
       "model_id": "f9a761c16f814fd78ca92b7bdfcddac5",
       "version_major": 2,
       "version_minor": 0
      },
      "text/plain": [
       "Epoch 1/Training:   0%|          | 0/118 [00:00<?, ?batch/s]"
      ]
     },
     "metadata": {},
     "output_type": "display_data"
    },
    {
     "name": "stdout",
     "output_type": "stream",
     "text": [
      "[Train][Epoch 1] Average Loss: 0.00266, Updated Learning Rate: 0.00134\n"
     ]
    },
    {
     "data": {
      "application/vnd.jupyter.widget-view+json": {
       "model_id": "afa8807309a742f4ae37a1a4fbff86a6",
       "version_major": 2,
       "version_minor": 0
      },
      "text/plain": [
       "Epoch 1/Testing:   0%|          | 0/20 [00:00<?, ?batch/s]"
      ]
     },
     "metadata": {},
     "output_type": "display_data"
    },
    {
     "name": "stdout",
     "output_type": "stream",
     "text": [
      "[Test][Epoch 1] Loss: 0.00166, Accuracy: 0.919500\n"
     ]
    },
    {
     "data": {
      "application/vnd.jupyter.widget-view+json": {
       "model_id": "0b95c6821cc84cff891a934c769121f3",
       "version_major": 2,
       "version_minor": 0
      },
      "text/plain": [
       "Epoch 2/Training:   0%|          | 0/118 [00:00<?, ?batch/s]"
      ]
     },
     "metadata": {},
     "output_type": "display_data"
    },
    {
     "name": "stdout",
     "output_type": "stream",
     "text": [
      "[Train][Epoch 2] Average Loss: 0.00233, Updated Learning Rate: 0.00134\n"
     ]
    },
    {
     "data": {
      "application/vnd.jupyter.widget-view+json": {
       "model_id": "a394a5cbdeaa416189209815b18a9a6b",
       "version_major": 2,
       "version_minor": 0
      },
      "text/plain": [
       "Epoch 2/Testing:   0%|          | 0/20 [00:00<?, ?batch/s]"
      ]
     },
     "metadata": {},
     "output_type": "display_data"
    },
    {
     "name": "stdout",
     "output_type": "stream",
     "text": [
      "[Test][Epoch 2] Loss: 0.00155, Accuracy: 0.936300\n"
     ]
    },
    {
     "data": {
      "application/vnd.jupyter.widget-view+json": {
       "model_id": "bae11c25905a43bfb30ba0d1826a982c",
       "version_major": 2,
       "version_minor": 0
      },
      "text/plain": [
       "Epoch 3/Training:   0%|          | 0/118 [00:00<?, ?batch/s]"
      ]
     },
     "metadata": {},
     "output_type": "display_data"
    },
    {
     "name": "stdout",
     "output_type": "stream",
     "text": [
      "[Train][Epoch 3] Average Loss: 0.00214, Updated Learning Rate: 0.00134\n"
     ]
    },
    {
     "data": {
      "application/vnd.jupyter.widget-view+json": {
       "model_id": "d2a94e5acddb4f3c919ca6ceeb8311cf",
       "version_major": 2,
       "version_minor": 0
      },
      "text/plain": [
       "Epoch 3/Testing:   0%|          | 0/20 [00:00<?, ?batch/s]"
      ]
     },
     "metadata": {},
     "output_type": "display_data"
    },
    {
     "name": "stdout",
     "output_type": "stream",
     "text": [
      "[Test][Epoch 3] Loss: 0.00147, Accuracy: 0.951100\n"
     ]
    },
    {
     "data": {
      "application/vnd.jupyter.widget-view+json": {
       "model_id": "4a631cd50dd4438882be0b5c74232a4e",
       "version_major": 2,
       "version_minor": 0
      },
      "text/plain": [
       "Epoch 4/Training:   0%|          | 0/118 [00:00<?, ?batch/s]"
      ]
     },
     "metadata": {},
     "output_type": "display_data"
    },
    {
     "name": "stdout",
     "output_type": "stream",
     "text": [
      "[Train][Epoch 4] Average Loss: 0.00203, Updated Learning Rate: 0.00134\n"
     ]
    },
    {
     "data": {
      "application/vnd.jupyter.widget-view+json": {
       "model_id": "0f2683b769d24c6c865ce0c1cc25363d",
       "version_major": 2,
       "version_minor": 0
      },
      "text/plain": [
       "Epoch 4/Testing:   0%|          | 0/20 [00:00<?, ?batch/s]"
      ]
     },
     "metadata": {},
     "output_type": "display_data"
    },
    {
     "name": "stdout",
     "output_type": "stream",
     "text": [
      "[Test][Epoch 4] Loss: 0.00144, Accuracy: 0.956800\n"
     ]
    },
    {
     "data": {
      "application/vnd.jupyter.widget-view+json": {
       "model_id": "b5bbc111a9394d5bbccdc71c6934cedf",
       "version_major": 2,
       "version_minor": 0
      },
      "text/plain": [
       "Epoch 5/Training:   0%|          | 0/118 [00:00<?, ?batch/s]"
      ]
     },
     "metadata": {},
     "output_type": "display_data"
    },
    {
     "name": "stdout",
     "output_type": "stream",
     "text": [
      "[Train][Epoch 5] Average Loss: 0.00196, Updated Learning Rate: 0.00134\n"
     ]
    },
    {
     "data": {
      "application/vnd.jupyter.widget-view+json": {
       "model_id": "1b219d91dd3c47e1b758891bfba1d9b8",
       "version_major": 2,
       "version_minor": 0
      },
      "text/plain": [
       "Epoch 5/Testing:   0%|          | 0/20 [00:00<?, ?batch/s]"
      ]
     },
     "metadata": {},
     "output_type": "display_data"
    },
    {
     "name": "stdout",
     "output_type": "stream",
     "text": [
      "[Test][Epoch 5] Loss: 0.00141, Accuracy: 0.958500\n"
     ]
    },
    {
     "data": {
      "application/vnd.jupyter.widget-view+json": {
       "model_id": "d875be8615814addbe894970244159e0",
       "version_major": 2,
       "version_minor": 0
      },
      "text/plain": [
       "Epoch 6/Training:   0%|          | 0/118 [00:00<?, ?batch/s]"
      ]
     },
     "metadata": {},
     "output_type": "display_data"
    },
    {
     "name": "stdout",
     "output_type": "stream",
     "text": [
      "[Train][Epoch 6] Average Loss: 0.00190, Updated Learning Rate: 0.00134\n"
     ]
    },
    {
     "data": {
      "application/vnd.jupyter.widget-view+json": {
       "model_id": "cb6efcfce063474f83914f37420c0710",
       "version_major": 2,
       "version_minor": 0
      },
      "text/plain": [
       "Epoch 6/Testing:   0%|          | 0/20 [00:00<?, ?batch/s]"
      ]
     },
     "metadata": {},
     "output_type": "display_data"
    },
    {
     "name": "stdout",
     "output_type": "stream",
     "text": [
      "[Test][Epoch 6] Loss: 0.00139, Accuracy: 0.964300\n"
     ]
    },
    {
     "data": {
      "application/vnd.jupyter.widget-view+json": {
       "model_id": "5c078bf7f0394a699ee22a0a9b336548",
       "version_major": 2,
       "version_minor": 0
      },
      "text/plain": [
       "Epoch 7/Training:   0%|          | 0/118 [00:00<?, ?batch/s]"
      ]
     },
     "metadata": {},
     "output_type": "display_data"
    },
    {
     "name": "stdout",
     "output_type": "stream",
     "text": [
      "[Train][Epoch 7] Average Loss: 0.00184, Updated Learning Rate: 0.00134\n"
     ]
    },
    {
     "data": {
      "application/vnd.jupyter.widget-view+json": {
       "model_id": "38c04a0bed0841f4a20c7d6bc0bcfb2f",
       "version_major": 2,
       "version_minor": 0
      },
      "text/plain": [
       "Epoch 7/Testing:   0%|          | 0/20 [00:00<?, ?batch/s]"
      ]
     },
     "metadata": {},
     "output_type": "display_data"
    },
    {
     "name": "stdout",
     "output_type": "stream",
     "text": [
      "[Test][Epoch 7] Loss: 0.00136, Accuracy: 0.966000\n"
     ]
    },
    {
     "data": {
      "application/vnd.jupyter.widget-view+json": {
       "model_id": "b3efc8cf1b264d359298248d5faa6920",
       "version_major": 2,
       "version_minor": 0
      },
      "text/plain": [
       "Epoch 8/Training:   0%|          | 0/118 [00:00<?, ?batch/s]"
      ]
     },
     "metadata": {},
     "output_type": "display_data"
    },
    {
     "name": "stdout",
     "output_type": "stream",
     "text": [
      "[Train][Epoch 8] Average Loss: 0.00181, Updated Learning Rate: 0.00134\n"
     ]
    },
    {
     "data": {
      "application/vnd.jupyter.widget-view+json": {
       "model_id": "7c2b6e0f09564ebcbc27d0e4fa4a9437",
       "version_major": 2,
       "version_minor": 0
      },
      "text/plain": [
       "Epoch 8/Testing:   0%|          | 0/20 [00:00<?, ?batch/s]"
      ]
     },
     "metadata": {},
     "output_type": "display_data"
    },
    {
     "name": "stdout",
     "output_type": "stream",
     "text": [
      "[Test][Epoch 8] Loss: 0.00135, Accuracy: 0.968500\n"
     ]
    },
    {
     "data": {
      "application/vnd.jupyter.widget-view+json": {
       "model_id": "b9d4510fd82b4bb88957d8c98d257990",
       "version_major": 2,
       "version_minor": 0
      },
      "text/plain": [
       "Epoch 9/Training:   0%|          | 0/118 [00:00<?, ?batch/s]"
      ]
     },
     "metadata": {},
     "output_type": "display_data"
    },
    {
     "name": "stdout",
     "output_type": "stream",
     "text": [
      "[Train][Epoch 9] Average Loss: 0.00178, Updated Learning Rate: 0.00134\n"
     ]
    },
    {
     "data": {
      "application/vnd.jupyter.widget-view+json": {
       "model_id": "ccba21b5b9a8455a94c189589310a7e1",
       "version_major": 2,
       "version_minor": 0
      },
      "text/plain": [
       "Epoch 9/Testing:   0%|          | 0/20 [00:00<?, ?batch/s]"
      ]
     },
     "metadata": {},
     "output_type": "display_data"
    },
    {
     "name": "stdout",
     "output_type": "stream",
     "text": [
      "[Test][Epoch 9] Loss: 0.00133, Accuracy: 0.969100\n"
     ]
    },
    {
     "data": {
      "application/vnd.jupyter.widget-view+json": {
       "model_id": "c81ea8b97d944ecab75edee9c5303186",
       "version_major": 2,
       "version_minor": 0
      },
      "text/plain": [
       "Epoch 10/Training:   0%|          | 0/118 [00:00<?, ?batch/s]"
      ]
     },
     "metadata": {},
     "output_type": "display_data"
    },
    {
     "name": "stdout",
     "output_type": "stream",
     "text": [
      "[Train][Epoch 10] Average Loss: 0.00175, Updated Learning Rate: 0.00134\n"
     ]
    },
    {
     "data": {
      "application/vnd.jupyter.widget-view+json": {
       "model_id": "1fc94c4051114078a0eaf58cf3fb0efa",
       "version_major": 2,
       "version_minor": 0
      },
      "text/plain": [
       "Epoch 10/Testing:   0%|          | 0/20 [00:00<?, ?batch/s]"
      ]
     },
     "metadata": {},
     "output_type": "display_data"
    },
    {
     "name": "stdout",
     "output_type": "stream",
     "text": [
      "[Test][Epoch 10] Loss: 0.00133, Accuracy: 0.967800\n"
     ]
    },
    {
     "data": {
      "application/vnd.jupyter.widget-view+json": {
       "model_id": "02d9f755afe342eea7d34b5b05384056",
       "version_major": 2,
       "version_minor": 0
      },
      "text/plain": [
       "Epoch 11/Training:   0%|          | 0/118 [00:00<?, ?batch/s]"
      ]
     },
     "metadata": {},
     "output_type": "display_data"
    },
    {
     "name": "stdout",
     "output_type": "stream",
     "text": [
      "[Train][Epoch 11] Average Loss: 0.00173, Updated Learning Rate: 0.00134\n"
     ]
    },
    {
     "data": {
      "application/vnd.jupyter.widget-view+json": {
       "model_id": "ad1747ab7b8e4d3fa4479bb61d3db9b8",
       "version_major": 2,
       "version_minor": 0
      },
      "text/plain": [
       "Epoch 11/Testing:   0%|          | 0/20 [00:00<?, ?batch/s]"
      ]
     },
     "metadata": {},
     "output_type": "display_data"
    },
    {
     "name": "stdout",
     "output_type": "stream",
     "text": [
      "[Test][Epoch 11] Loss: 0.00132, Accuracy: 0.969600\n"
     ]
    },
    {
     "data": {
      "application/vnd.jupyter.widget-view+json": {
       "model_id": "54fe7d05cfb941b3b8bfafd5b3d50b86",
       "version_major": 2,
       "version_minor": 0
      },
      "text/plain": [
       "Epoch 12/Training:   0%|          | 0/118 [00:00<?, ?batch/s]"
      ]
     },
     "metadata": {},
     "output_type": "display_data"
    },
    {
     "name": "stdout",
     "output_type": "stream",
     "text": [
      "[Train][Epoch 12] Average Loss: 0.00171, Updated Learning Rate: 0.00134\n"
     ]
    },
    {
     "data": {
      "application/vnd.jupyter.widget-view+json": {
       "model_id": "b0f64935575e453c88bc9cee35233feb",
       "version_major": 2,
       "version_minor": 0
      },
      "text/plain": [
       "Epoch 12/Testing:   0%|          | 0/20 [00:00<?, ?batch/s]"
      ]
     },
     "metadata": {},
     "output_type": "display_data"
    },
    {
     "name": "stdout",
     "output_type": "stream",
     "text": [
      "[Test][Epoch 12] Loss: 0.00130, Accuracy: 0.972800\n"
     ]
    },
    {
     "data": {
      "application/vnd.jupyter.widget-view+json": {
       "model_id": "2f9112ace76d4f088c5c742a3a65f63c",
       "version_major": 2,
       "version_minor": 0
      },
      "text/plain": [
       "Epoch 13/Training:   0%|          | 0/118 [00:00<?, ?batch/s]"
      ]
     },
     "metadata": {},
     "output_type": "display_data"
    },
    {
     "name": "stdout",
     "output_type": "stream",
     "text": [
      "[Train][Epoch 13] Average Loss: 0.00168, Updated Learning Rate: 0.00134\n"
     ]
    },
    {
     "data": {
      "application/vnd.jupyter.widget-view+json": {
       "model_id": "f9fc6c5cdd924a75a2eda0afe2a64526",
       "version_major": 2,
       "version_minor": 0
      },
      "text/plain": [
       "Epoch 13/Testing:   0%|          | 0/20 [00:00<?, ?batch/s]"
      ]
     },
     "metadata": {},
     "output_type": "display_data"
    },
    {
     "name": "stdout",
     "output_type": "stream",
     "text": [
      "[Test][Epoch 13] Loss: 0.00130, Accuracy: 0.972200\n"
     ]
    },
    {
     "data": {
      "application/vnd.jupyter.widget-view+json": {
       "model_id": "d5f6255fd06c4a0fa6d69d849922d6ed",
       "version_major": 2,
       "version_minor": 0
      },
      "text/plain": [
       "Epoch 14/Training:   0%|          | 0/118 [00:00<?, ?batch/s]"
      ]
     },
     "metadata": {},
     "output_type": "display_data"
    },
    {
     "name": "stdout",
     "output_type": "stream",
     "text": [
      "[Train][Epoch 14] Average Loss: 0.00166, Updated Learning Rate: 0.00134\n"
     ]
    },
    {
     "data": {
      "application/vnd.jupyter.widget-view+json": {
       "model_id": "7d1913508fa34ceaa9f7d905ebb15d27",
       "version_major": 2,
       "version_minor": 0
      },
      "text/plain": [
       "Epoch 14/Testing:   0%|          | 0/20 [00:00<?, ?batch/s]"
      ]
     },
     "metadata": {},
     "output_type": "display_data"
    },
    {
     "name": "stdout",
     "output_type": "stream",
     "text": [
      "[Test][Epoch 14] Loss: 0.00130, Accuracy: 0.971000\n"
     ]
    },
    {
     "data": {
      "application/vnd.jupyter.widget-view+json": {
       "model_id": "7c0b662aa58a412f9af853d93d4948d8",
       "version_major": 2,
       "version_minor": 0
      },
      "text/plain": [
       "Epoch 15/Training:   0%|          | 0/118 [00:00<?, ?batch/s]"
      ]
     },
     "metadata": {},
     "output_type": "display_data"
    },
    {
     "name": "stdout",
     "output_type": "stream",
     "text": [
      "[Train][Epoch 15] Average Loss: 0.00165, Updated Learning Rate: 0.00134\n"
     ]
    },
    {
     "data": {
      "application/vnd.jupyter.widget-view+json": {
       "model_id": "311835da601d401197e52fe7ee989f2d",
       "version_major": 2,
       "version_minor": 0
      },
      "text/plain": [
       "Epoch 15/Testing:   0%|          | 0/20 [00:00<?, ?batch/s]"
      ]
     },
     "metadata": {},
     "output_type": "display_data"
    },
    {
     "name": "stdout",
     "output_type": "stream",
     "text": [
      "[Test][Epoch 15] Loss: 0.00129, Accuracy: 0.973200\n"
     ]
    },
    {
     "data": {
      "application/vnd.jupyter.widget-view+json": {
       "model_id": "7a3366e358c54f72ac4d809bc238e4e7",
       "version_major": 2,
       "version_minor": 0
      },
      "text/plain": [
       "Epoch 16/Training:   0%|          | 0/118 [00:00<?, ?batch/s]"
      ]
     },
     "metadata": {},
     "output_type": "display_data"
    },
    {
     "name": "stdout",
     "output_type": "stream",
     "text": [
      "[Train][Epoch 16] Average Loss: 0.00164, Updated Learning Rate: 0.00134\n"
     ]
    },
    {
     "data": {
      "application/vnd.jupyter.widget-view+json": {
       "model_id": "4be1e7df5d5e439588a3bc0d4c197476",
       "version_major": 2,
       "version_minor": 0
      },
      "text/plain": [
       "Epoch 16/Testing:   0%|          | 0/20 [00:00<?, ?batch/s]"
      ]
     },
     "metadata": {},
     "output_type": "display_data"
    },
    {
     "name": "stdout",
     "output_type": "stream",
     "text": [
      "[Test][Epoch 16] Loss: 0.00128, Accuracy: 0.973500\n"
     ]
    },
    {
     "data": {
      "application/vnd.jupyter.widget-view+json": {
       "model_id": "90b2020ea97e445d904d1673b73fc378",
       "version_major": 2,
       "version_minor": 0
      },
      "text/plain": [
       "Epoch 17/Training:   0%|          | 0/118 [00:00<?, ?batch/s]"
      ]
     },
     "metadata": {},
     "output_type": "display_data"
    },
    {
     "name": "stdout",
     "output_type": "stream",
     "text": [
      "[Train][Epoch 17] Average Loss: 0.00163, Updated Learning Rate: 0.00134\n"
     ]
    },
    {
     "data": {
      "application/vnd.jupyter.widget-view+json": {
       "model_id": "31958b6f7d8b49a5b4f48152faf16f0a",
       "version_major": 2,
       "version_minor": 0
      },
      "text/plain": [
       "Epoch 17/Testing:   0%|          | 0/20 [00:00<?, ?batch/s]"
      ]
     },
     "metadata": {},
     "output_type": "display_data"
    },
    {
     "name": "stdout",
     "output_type": "stream",
     "text": [
      "[Test][Epoch 17] Loss: 0.00129, Accuracy: 0.972100\n"
     ]
    },
    {
     "data": {
      "application/vnd.jupyter.widget-view+json": {
       "model_id": "803eb78ca8ae4c68a0576f1dbac7d1fa",
       "version_major": 2,
       "version_minor": 0
      },
      "text/plain": [
       "Epoch 18/Training:   0%|          | 0/118 [00:00<?, ?batch/s]"
      ]
     },
     "metadata": {},
     "output_type": "display_data"
    },
    {
     "name": "stdout",
     "output_type": "stream",
     "text": [
      "[Train][Epoch 18] Average Loss: 0.00162, Updated Learning Rate: 0.00134\n"
     ]
    },
    {
     "data": {
      "application/vnd.jupyter.widget-view+json": {
       "model_id": "22a9c9a491644f2287db0f351a6007fc",
       "version_major": 2,
       "version_minor": 0
      },
      "text/plain": [
       "Epoch 18/Testing:   0%|          | 0/20 [00:00<?, ?batch/s]"
      ]
     },
     "metadata": {},
     "output_type": "display_data"
    },
    {
     "name": "stdout",
     "output_type": "stream",
     "text": [
      "[Test][Epoch 18] Loss: 0.00127, Accuracy: 0.973700\n"
     ]
    },
    {
     "data": {
      "application/vnd.jupyter.widget-view+json": {
       "model_id": "be1a3ee8fba144ea9bb32374d636d806",
       "version_major": 2,
       "version_minor": 0
      },
      "text/plain": [
       "Epoch 19/Training:   0%|          | 0/118 [00:00<?, ?batch/s]"
      ]
     },
     "metadata": {},
     "output_type": "display_data"
    },
    {
     "name": "stdout",
     "output_type": "stream",
     "text": [
      "[Train][Epoch 19] Average Loss: 0.00162, Updated Learning Rate: 0.00134\n"
     ]
    },
    {
     "data": {
      "application/vnd.jupyter.widget-view+json": {
       "model_id": "6cbce4eaac674010b6513844246b8d4b",
       "version_major": 2,
       "version_minor": 0
      },
      "text/plain": [
       "Epoch 19/Testing:   0%|          | 0/20 [00:00<?, ?batch/s]"
      ]
     },
     "metadata": {},
     "output_type": "display_data"
    },
    {
     "name": "stdout",
     "output_type": "stream",
     "text": [
      "[Test][Epoch 19] Loss: 0.00126, Accuracy: 0.973800\n"
     ]
    },
    {
     "data": {
      "application/vnd.jupyter.widget-view+json": {
       "model_id": "d3f8d91d95e147d5b85f8fb06028b853",
       "version_major": 2,
       "version_minor": 0
      },
      "text/plain": [
       "Epoch 20/Training:   0%|          | 0/118 [00:00<?, ?batch/s]"
      ]
     },
     "metadata": {},
     "output_type": "display_data"
    },
    {
     "name": "stdout",
     "output_type": "stream",
     "text": [
      "[Train][Epoch 20] Average Loss: 0.00160, Updated Learning Rate: 0.00134\n"
     ]
    },
    {
     "data": {
      "application/vnd.jupyter.widget-view+json": {
       "model_id": "25e9e626dde14dc3b65957039c60e6a5",
       "version_major": 2,
       "version_minor": 0
      },
      "text/plain": [
       "Epoch 20/Testing:   0%|          | 0/20 [00:00<?, ?batch/s]"
      ]
     },
     "metadata": {},
     "output_type": "display_data"
    },
    {
     "name": "stdout",
     "output_type": "stream",
     "text": [
      "[Test][Epoch 20] Loss: 0.00127, Accuracy: 0.974700\n"
     ]
    },
    {
     "data": {
      "application/vnd.jupyter.widget-view+json": {
       "model_id": "cb991d3bea9a47719e4734dbe7bf189e",
       "version_major": 2,
       "version_minor": 0
      },
      "text/plain": [
       "Epoch 21/Training:   0%|          | 0/118 [00:00<?, ?batch/s]"
      ]
     },
     "metadata": {},
     "output_type": "display_data"
    },
    {
     "name": "stdout",
     "output_type": "stream",
     "text": [
      "[Train][Epoch 21] Average Loss: 0.00159, Updated Learning Rate: 0.00134\n"
     ]
    },
    {
     "data": {
      "application/vnd.jupyter.widget-view+json": {
       "model_id": "e4b8bc0b45af47288b4fd9a9d96968f3",
       "version_major": 2,
       "version_minor": 0
      },
      "text/plain": [
       "Epoch 21/Testing:   0%|          | 0/20 [00:00<?, ?batch/s]"
      ]
     },
     "metadata": {},
     "output_type": "display_data"
    },
    {
     "name": "stdout",
     "output_type": "stream",
     "text": [
      "[Test][Epoch 21] Loss: 0.00127, Accuracy: 0.974200\n"
     ]
    },
    {
     "data": {
      "application/vnd.jupyter.widget-view+json": {
       "model_id": "3d70444f216b4a8fb04dad6e455e462a",
       "version_major": 2,
       "version_minor": 0
      },
      "text/plain": [
       "Epoch 22/Training:   0%|          | 0/118 [00:00<?, ?batch/s]"
      ]
     },
     "metadata": {},
     "output_type": "display_data"
    },
    {
     "name": "stdout",
     "output_type": "stream",
     "text": [
      "[Train][Epoch 22] Average Loss: 0.00158, Updated Learning Rate: 0.00134\n"
     ]
    },
    {
     "data": {
      "application/vnd.jupyter.widget-view+json": {
       "model_id": "82ac54c5e471451d85a83a4f8f82a3b7",
       "version_major": 2,
       "version_minor": 0
      },
      "text/plain": [
       "Epoch 22/Testing:   0%|          | 0/20 [00:00<?, ?batch/s]"
      ]
     },
     "metadata": {},
     "output_type": "display_data"
    },
    {
     "name": "stdout",
     "output_type": "stream",
     "text": [
      "[Test][Epoch 22] Loss: 0.00126, Accuracy: 0.974300\n"
     ]
    },
    {
     "data": {
      "application/vnd.jupyter.widget-view+json": {
       "model_id": "aca83b8a9a1d47d6a33a0cc464e97d3b",
       "version_major": 2,
       "version_minor": 0
      },
      "text/plain": [
       "Epoch 23/Training:   0%|          | 0/118 [00:00<?, ?batch/s]"
      ]
     },
     "metadata": {},
     "output_type": "display_data"
    },
    {
     "name": "stdout",
     "output_type": "stream",
     "text": [
      "[Train][Epoch 23] Average Loss: 0.00157, Updated Learning Rate: 0.00134\n"
     ]
    },
    {
     "data": {
      "application/vnd.jupyter.widget-view+json": {
       "model_id": "40f3169ae1e5403f8308f2d696e6cbd4",
       "version_major": 2,
       "version_minor": 0
      },
      "text/plain": [
       "Epoch 23/Testing:   0%|          | 0/20 [00:00<?, ?batch/s]"
      ]
     },
     "metadata": {},
     "output_type": "display_data"
    },
    {
     "name": "stdout",
     "output_type": "stream",
     "text": [
      "[Test][Epoch 23] Loss: 0.00126, Accuracy: 0.975600\n"
     ]
    },
    {
     "data": {
      "application/vnd.jupyter.widget-view+json": {
       "model_id": "4178c184f34b4718a67917766fc6c0be",
       "version_major": 2,
       "version_minor": 0
      },
      "text/plain": [
       "Epoch 24/Training:   0%|          | 0/118 [00:00<?, ?batch/s]"
      ]
     },
     "metadata": {},
     "output_type": "display_data"
    },
    {
     "name": "stdout",
     "output_type": "stream",
     "text": [
      "[Train][Epoch 24] Average Loss: 0.00157, Updated Learning Rate: 0.00134\n"
     ]
    },
    {
     "data": {
      "application/vnd.jupyter.widget-view+json": {
       "model_id": "88e995eb320d423d9b1dae3789e93f68",
       "version_major": 2,
       "version_minor": 0
      },
      "text/plain": [
       "Epoch 24/Testing:   0%|          | 0/20 [00:00<?, ?batch/s]"
      ]
     },
     "metadata": {},
     "output_type": "display_data"
    },
    {
     "name": "stdout",
     "output_type": "stream",
     "text": [
      "[Test][Epoch 24] Loss: 0.00126, Accuracy: 0.974000\n"
     ]
    },
    {
     "data": {
      "application/vnd.jupyter.widget-view+json": {
       "model_id": "38c7bbb5d61a4962b2bfe8338436c807",
       "version_major": 2,
       "version_minor": 0
      },
      "text/plain": [
       "Epoch 25/Training:   0%|          | 0/118 [00:00<?, ?batch/s]"
      ]
     },
     "metadata": {},
     "output_type": "display_data"
    },
    {
     "name": "stdout",
     "output_type": "stream",
     "text": [
      "[Train][Epoch 25] Average Loss: 0.00156, Updated Learning Rate: 0.00134\n"
     ]
    },
    {
     "data": {
      "application/vnd.jupyter.widget-view+json": {
       "model_id": "0cd7f27eafbe406bbaf9027e75309a8c",
       "version_major": 2,
       "version_minor": 0
      },
      "text/plain": [
       "Epoch 25/Testing:   0%|          | 0/20 [00:00<?, ?batch/s]"
      ]
     },
     "metadata": {},
     "output_type": "display_data"
    },
    {
     "name": "stdout",
     "output_type": "stream",
     "text": [
      "[Test][Epoch 25] Loss: 0.00125, Accuracy: 0.978000\n"
     ]
    },
    {
     "data": {
      "application/vnd.jupyter.widget-view+json": {
       "model_id": "82c3d9e7c0bf4a4bb929e1ab1a5d2d33",
       "version_major": 2,
       "version_minor": 0
      },
      "text/plain": [
       "Epoch 26/Training:   0%|          | 0/118 [00:00<?, ?batch/s]"
      ]
     },
     "metadata": {},
     "output_type": "display_data"
    },
    {
     "name": "stdout",
     "output_type": "stream",
     "text": [
      "[Train][Epoch 26] Average Loss: 0.00155, Updated Learning Rate: 0.00134\n"
     ]
    },
    {
     "data": {
      "application/vnd.jupyter.widget-view+json": {
       "model_id": "d24792ce61dc4f93b17154ac45308bd8",
       "version_major": 2,
       "version_minor": 0
      },
      "text/plain": [
       "Epoch 26/Testing:   0%|          | 0/20 [00:00<?, ?batch/s]"
      ]
     },
     "metadata": {},
     "output_type": "display_data"
    },
    {
     "name": "stdout",
     "output_type": "stream",
     "text": [
      "[Test][Epoch 26] Loss: 0.00125, Accuracy: 0.977600\n"
     ]
    },
    {
     "data": {
      "application/vnd.jupyter.widget-view+json": {
       "model_id": "cc49bd9b717c48fbab3ec39546c73abe",
       "version_major": 2,
       "version_minor": 0
      },
      "text/plain": [
       "Epoch 27/Training:   0%|          | 0/118 [00:00<?, ?batch/s]"
      ]
     },
     "metadata": {},
     "output_type": "display_data"
    },
    {
     "name": "stdout",
     "output_type": "stream",
     "text": [
      "[Train][Epoch 27] Average Loss: 0.00154, Updated Learning Rate: 0.00134\n"
     ]
    },
    {
     "data": {
      "application/vnd.jupyter.widget-view+json": {
       "model_id": "d61cb8ae54c145b99dcfc4060a040059",
       "version_major": 2,
       "version_minor": 0
      },
      "text/plain": [
       "Epoch 27/Testing:   0%|          | 0/20 [00:00<?, ?batch/s]"
      ]
     },
     "metadata": {},
     "output_type": "display_data"
    },
    {
     "name": "stdout",
     "output_type": "stream",
     "text": [
      "[Test][Epoch 27] Loss: 0.00124, Accuracy: 0.976800\n"
     ]
    },
    {
     "data": {
      "application/vnd.jupyter.widget-view+json": {
       "model_id": "fedd68122cdf49e0876754c3dba1b906",
       "version_major": 2,
       "version_minor": 0
      },
      "text/plain": [
       "Epoch 28/Training:   0%|          | 0/118 [00:00<?, ?batch/s]"
      ]
     },
     "metadata": {},
     "output_type": "display_data"
    },
    {
     "name": "stdout",
     "output_type": "stream",
     "text": [
      "[Train][Epoch 28] Average Loss: 0.00154, Updated Learning Rate: 0.00134\n"
     ]
    },
    {
     "data": {
      "application/vnd.jupyter.widget-view+json": {
       "model_id": "43a011e907164bc9a8a61e110df5b3da",
       "version_major": 2,
       "version_minor": 0
      },
      "text/plain": [
       "Epoch 28/Testing:   0%|          | 0/20 [00:00<?, ?batch/s]"
      ]
     },
     "metadata": {},
     "output_type": "display_data"
    },
    {
     "name": "stdout",
     "output_type": "stream",
     "text": [
      "[Test][Epoch 28] Loss: 0.00124, Accuracy: 0.975900\n"
     ]
    },
    {
     "data": {
      "application/vnd.jupyter.widget-view+json": {
       "model_id": "ef8a5a1b53a949c9a1f3fd6f164bf5bf",
       "version_major": 2,
       "version_minor": 0
      },
      "text/plain": [
       "Epoch 29/Training:   0%|          | 0/118 [00:00<?, ?batch/s]"
      ]
     },
     "metadata": {},
     "output_type": "display_data"
    },
    {
     "name": "stdout",
     "output_type": "stream",
     "text": [
      "[Train][Epoch 29] Average Loss: 0.00154, Updated Learning Rate: 0.00134\n"
     ]
    },
    {
     "data": {
      "application/vnd.jupyter.widget-view+json": {
       "model_id": "8f36dced92a14ec1908867bbf5166469",
       "version_major": 2,
       "version_minor": 0
      },
      "text/plain": [
       "Epoch 29/Testing:   0%|          | 0/20 [00:00<?, ?batch/s]"
      ]
     },
     "metadata": {},
     "output_type": "display_data"
    },
    {
     "name": "stdout",
     "output_type": "stream",
     "text": [
      "[Test][Epoch 29] Loss: 0.00124, Accuracy: 0.976400\n"
     ]
    },
    {
     "data": {
      "application/vnd.jupyter.widget-view+json": {
       "model_id": "acd0a0b28acb417198e034050f1dff0f",
       "version_major": 2,
       "version_minor": 0
      },
      "text/plain": [
       "Epoch 30/Training:   0%|          | 0/118 [00:00<?, ?batch/s]"
      ]
     },
     "metadata": {},
     "output_type": "display_data"
    },
    {
     "name": "stdout",
     "output_type": "stream",
     "text": [
      "[Train][Epoch 30] Average Loss: 0.00153, Updated Learning Rate: 0.00134\n"
     ]
    },
    {
     "data": {
      "application/vnd.jupyter.widget-view+json": {
       "model_id": "cc17ca7c9c1445bdbb1a1254197c1c9d",
       "version_major": 2,
       "version_minor": 0
      },
      "text/plain": [
       "Epoch 30/Testing:   0%|          | 0/20 [00:00<?, ?batch/s]"
      ]
     },
     "metadata": {},
     "output_type": "display_data"
    },
    {
     "name": "stdout",
     "output_type": "stream",
     "text": [
      "[Test][Epoch 30] Loss: 0.00124, Accuracy: 0.977500\n"
     ]
    },
    {
     "data": {
      "application/vnd.jupyter.widget-view+json": {
       "model_id": "8809aba280824941bf9d8198e80650a5",
       "version_major": 2,
       "version_minor": 0
      },
      "text/plain": [
       "Epoch 31/Training:   0%|          | 0/118 [00:00<?, ?batch/s]"
      ]
     },
     "metadata": {},
     "output_type": "display_data"
    },
    {
     "name": "stdout",
     "output_type": "stream",
     "text": [
      "[Train][Epoch 31] Average Loss: 0.00153, Updated Learning Rate: 0.00134\n"
     ]
    },
    {
     "data": {
      "application/vnd.jupyter.widget-view+json": {
       "model_id": "92ba865ae8fa4f2cb0667467dde2cd94",
       "version_major": 2,
       "version_minor": 0
      },
      "text/plain": [
       "Epoch 31/Testing:   0%|          | 0/20 [00:00<?, ?batch/s]"
      ]
     },
     "metadata": {},
     "output_type": "display_data"
    },
    {
     "name": "stdout",
     "output_type": "stream",
     "text": [
      "[Test][Epoch 31] Loss: 0.00124, Accuracy: 0.976800\n"
     ]
    },
    {
     "data": {
      "application/vnd.jupyter.widget-view+json": {
       "model_id": "ae1022aacbb341fe8f65777e9f87d6d4",
       "version_major": 2,
       "version_minor": 0
      },
      "text/plain": [
       "Epoch 32/Training:   0%|          | 0/118 [00:00<?, ?batch/s]"
      ]
     },
     "metadata": {},
     "output_type": "display_data"
    },
    {
     "name": "stdout",
     "output_type": "stream",
     "text": [
      "[Train][Epoch 32] Average Loss: 0.00152, Updated Learning Rate: 0.00134\n"
     ]
    },
    {
     "data": {
      "application/vnd.jupyter.widget-view+json": {
       "model_id": "d398940776c546938af2887e5b92fdf4",
       "version_major": 2,
       "version_minor": 0
      },
      "text/plain": [
       "Epoch 32/Testing:   0%|          | 0/20 [00:00<?, ?batch/s]"
      ]
     },
     "metadata": {},
     "output_type": "display_data"
    },
    {
     "name": "stdout",
     "output_type": "stream",
     "text": [
      "[Test][Epoch 32] Loss: 0.00124, Accuracy: 0.976100\n"
     ]
    },
    {
     "data": {
      "application/vnd.jupyter.widget-view+json": {
       "model_id": "01ff6de8308c4fee9079922b2378dc4a",
       "version_major": 2,
       "version_minor": 0
      },
      "text/plain": [
       "Epoch 33/Training:   0%|          | 0/118 [00:00<?, ?batch/s]"
      ]
     },
     "metadata": {},
     "output_type": "display_data"
    },
    {
     "name": "stdout",
     "output_type": "stream",
     "text": [
      "[Train][Epoch 33] Average Loss: 0.00152, Updated Learning Rate: 0.00134\n"
     ]
    },
    {
     "data": {
      "application/vnd.jupyter.widget-view+json": {
       "model_id": "ea250789fad34e2bb1d3abb50dc2def5",
       "version_major": 2,
       "version_minor": 0
      },
      "text/plain": [
       "Epoch 33/Testing:   0%|          | 0/20 [00:00<?, ?batch/s]"
      ]
     },
     "metadata": {},
     "output_type": "display_data"
    },
    {
     "name": "stdout",
     "output_type": "stream",
     "text": [
      "[Test][Epoch 33] Loss: 0.00123, Accuracy: 0.978400\n"
     ]
    },
    {
     "data": {
      "application/vnd.jupyter.widget-view+json": {
       "model_id": "31fd8fa4b6cd48b4bd10d4789169a373",
       "version_major": 2,
       "version_minor": 0
      },
      "text/plain": [
       "Epoch 34/Training:   0%|          | 0/118 [00:00<?, ?batch/s]"
      ]
     },
     "metadata": {},
     "output_type": "display_data"
    },
    {
     "name": "stdout",
     "output_type": "stream",
     "text": [
      "[Train][Epoch 34] Average Loss: 0.00151, Updated Learning Rate: 0.00134\n"
     ]
    },
    {
     "data": {
      "application/vnd.jupyter.widget-view+json": {
       "model_id": "e78b641afefb4776b5b421609fb54a7b",
       "version_major": 2,
       "version_minor": 0
      },
      "text/plain": [
       "Epoch 34/Testing:   0%|          | 0/20 [00:00<?, ?batch/s]"
      ]
     },
     "metadata": {},
     "output_type": "display_data"
    },
    {
     "name": "stdout",
     "output_type": "stream",
     "text": [
      "[Test][Epoch 34] Loss: 0.00123, Accuracy: 0.978000\n"
     ]
    },
    {
     "data": {
      "application/vnd.jupyter.widget-view+json": {
       "model_id": "adeb64c28ff2426a9868f8124978784f",
       "version_major": 2,
       "version_minor": 0
      },
      "text/plain": [
       "Epoch 35/Training:   0%|          | 0/118 [00:00<?, ?batch/s]"
      ]
     },
     "metadata": {},
     "output_type": "display_data"
    },
    {
     "name": "stdout",
     "output_type": "stream",
     "text": [
      "[Train][Epoch 35] Average Loss: 0.00151, Updated Learning Rate: 0.00134\n"
     ]
    },
    {
     "data": {
      "application/vnd.jupyter.widget-view+json": {
       "model_id": "0a5000dc100b4821b52524bec3adb6f1",
       "version_major": 2,
       "version_minor": 0
      },
      "text/plain": [
       "Epoch 35/Testing:   0%|          | 0/20 [00:00<?, ?batch/s]"
      ]
     },
     "metadata": {},
     "output_type": "display_data"
    },
    {
     "name": "stdout",
     "output_type": "stream",
     "text": [
      "[Test][Epoch 35] Loss: 0.00123, Accuracy: 0.975200\n"
     ]
    },
    {
     "data": {
      "application/vnd.jupyter.widget-view+json": {
       "model_id": "b0590cbae36f42c798fbb757d3eb3dad",
       "version_major": 2,
       "version_minor": 0
      },
      "text/plain": [
       "Epoch 36/Training:   0%|          | 0/118 [00:00<?, ?batch/s]"
      ]
     },
     "metadata": {},
     "output_type": "display_data"
    },
    {
     "name": "stdout",
     "output_type": "stream",
     "text": [
      "[Train][Epoch 36] Average Loss: 0.00151, Updated Learning Rate: 0.00134\n"
     ]
    },
    {
     "data": {
      "application/vnd.jupyter.widget-view+json": {
       "model_id": "7748f46a0fec48eb9a73f17b18a3a8e8",
       "version_major": 2,
       "version_minor": 0
      },
      "text/plain": [
       "Epoch 36/Testing:   0%|          | 0/20 [00:00<?, ?batch/s]"
      ]
     },
     "metadata": {},
     "output_type": "display_data"
    },
    {
     "name": "stdout",
     "output_type": "stream",
     "text": [
      "[Test][Epoch 36] Loss: 0.00123, Accuracy: 0.977000\n"
     ]
    },
    {
     "data": {
      "application/vnd.jupyter.widget-view+json": {
       "model_id": "976260b4a84d401080e40854582b2b79",
       "version_major": 2,
       "version_minor": 0
      },
      "text/plain": [
       "Epoch 37/Training:   0%|          | 0/118 [00:00<?, ?batch/s]"
      ]
     },
     "metadata": {},
     "output_type": "display_data"
    },
    {
     "name": "stdout",
     "output_type": "stream",
     "text": [
      "[Train][Epoch 37] Average Loss: 0.00150, Updated Learning Rate: 0.00134\n"
     ]
    },
    {
     "data": {
      "application/vnd.jupyter.widget-view+json": {
       "model_id": "deec3d91788949589d3eacc85f785c97",
       "version_major": 2,
       "version_minor": 0
      },
      "text/plain": [
       "Epoch 37/Testing:   0%|          | 0/20 [00:00<?, ?batch/s]"
      ]
     },
     "metadata": {},
     "output_type": "display_data"
    },
    {
     "name": "stdout",
     "output_type": "stream",
     "text": [
      "[Test][Epoch 37] Loss: 0.00123, Accuracy: 0.978000\n"
     ]
    },
    {
     "data": {
      "application/vnd.jupyter.widget-view+json": {
       "model_id": "9c0d30221dd3436e8701b1e576d1c9b5",
       "version_major": 2,
       "version_minor": 0
      },
      "text/plain": [
       "Epoch 38/Training:   0%|          | 0/118 [00:00<?, ?batch/s]"
      ]
     },
     "metadata": {},
     "output_type": "display_data"
    },
    {
     "name": "stdout",
     "output_type": "stream",
     "text": [
      "[Train][Epoch 38] Average Loss: 0.00150, Updated Learning Rate: 0.00134\n"
     ]
    },
    {
     "data": {
      "application/vnd.jupyter.widget-view+json": {
       "model_id": "9d987bfc31264b33b1d71ebff54250cf",
       "version_major": 2,
       "version_minor": 0
      },
      "text/plain": [
       "Epoch 38/Testing:   0%|          | 0/20 [00:00<?, ?batch/s]"
      ]
     },
     "metadata": {},
     "output_type": "display_data"
    },
    {
     "name": "stdout",
     "output_type": "stream",
     "text": [
      "[Test][Epoch 38] Loss: 0.00122, Accuracy: 0.978800\n"
     ]
    },
    {
     "data": {
      "application/vnd.jupyter.widget-view+json": {
       "model_id": "11f59389206f41238a46eefed10a32cd",
       "version_major": 2,
       "version_minor": 0
      },
      "text/plain": [
       "Epoch 39/Training:   0%|          | 0/118 [00:00<?, ?batch/s]"
      ]
     },
     "metadata": {},
     "output_type": "display_data"
    },
    {
     "name": "stdout",
     "output_type": "stream",
     "text": [
      "[Train][Epoch 39] Average Loss: 0.00150, Updated Learning Rate: 0.00134\n"
     ]
    },
    {
     "data": {
      "application/vnd.jupyter.widget-view+json": {
       "model_id": "a3856188e51c4db292dda2c38a9964ad",
       "version_major": 2,
       "version_minor": 0
      },
      "text/plain": [
       "Epoch 39/Testing:   0%|          | 0/20 [00:00<?, ?batch/s]"
      ]
     },
     "metadata": {},
     "output_type": "display_data"
    },
    {
     "name": "stdout",
     "output_type": "stream",
     "text": [
      "[Test][Epoch 39] Loss: 0.00122, Accuracy: 0.977900\n"
     ]
    },
    {
     "data": {
      "application/vnd.jupyter.widget-view+json": {
       "model_id": "912dcd02940d4bc08897593109a866c4",
       "version_major": 2,
       "version_minor": 0
      },
      "text/plain": [
       "Epoch 40/Training:   0%|          | 0/118 [00:00<?, ?batch/s]"
      ]
     },
     "metadata": {},
     "output_type": "display_data"
    },
    {
     "name": "stdout",
     "output_type": "stream",
     "text": [
      "[Train][Epoch 40] Average Loss: 0.00149, Updated Learning Rate: 0.00134\n"
     ]
    },
    {
     "data": {
      "application/vnd.jupyter.widget-view+json": {
       "model_id": "508dffe755e44dd78befd0f9049b679c",
       "version_major": 2,
       "version_minor": 0
      },
      "text/plain": [
       "Epoch 40/Testing:   0%|          | 0/20 [00:00<?, ?batch/s]"
      ]
     },
     "metadata": {},
     "output_type": "display_data"
    },
    {
     "name": "stdout",
     "output_type": "stream",
     "text": [
      "[Test][Epoch 40] Loss: 0.00123, Accuracy: 0.976800\n"
     ]
    },
    {
     "data": {
      "application/vnd.jupyter.widget-view+json": {
       "model_id": "7f654cd5b40042ea936a5a11445c8e39",
       "version_major": 2,
       "version_minor": 0
      },
      "text/plain": [
       "Epoch 41/Training:   0%|          | 0/118 [00:00<?, ?batch/s]"
      ]
     },
     "metadata": {},
     "output_type": "display_data"
    },
    {
     "name": "stdout",
     "output_type": "stream",
     "text": [
      "[Train][Epoch 41] Average Loss: 0.00149, Updated Learning Rate: 0.00134\n"
     ]
    },
    {
     "data": {
      "application/vnd.jupyter.widget-view+json": {
       "model_id": "a6f8f211a49444a6b67b6b91ac513c2d",
       "version_major": 2,
       "version_minor": 0
      },
      "text/plain": [
       "Epoch 41/Testing:   0%|          | 0/20 [00:00<?, ?batch/s]"
      ]
     },
     "metadata": {},
     "output_type": "display_data"
    },
    {
     "name": "stdout",
     "output_type": "stream",
     "text": [
      "[Test][Epoch 41] Loss: 0.00122, Accuracy: 0.978300\n"
     ]
    },
    {
     "data": {
      "application/vnd.jupyter.widget-view+json": {
       "model_id": "57e916e3d9504ef58b34857f251ea014",
       "version_major": 2,
       "version_minor": 0
      },
      "text/plain": [
       "Epoch 42/Training:   0%|          | 0/118 [00:00<?, ?batch/s]"
      ]
     },
     "metadata": {},
     "output_type": "display_data"
    },
    {
     "name": "stdout",
     "output_type": "stream",
     "text": [
      "[Train][Epoch 42] Average Loss: 0.00149, Updated Learning Rate: 0.000134\n"
     ]
    },
    {
     "data": {
      "application/vnd.jupyter.widget-view+json": {
       "model_id": "5a27b575b0a5437aa2de3d28a1bb8f31",
       "version_major": 2,
       "version_minor": 0
      },
      "text/plain": [
       "Epoch 42/Testing:   0%|          | 0/20 [00:00<?, ?batch/s]"
      ]
     },
     "metadata": {},
     "output_type": "display_data"
    },
    {
     "name": "stdout",
     "output_type": "stream",
     "text": [
      "[Test][Epoch 42] Loss: 0.00122, Accuracy: 0.977200\n"
     ]
    },
    {
     "data": {
      "application/vnd.jupyter.widget-view+json": {
       "model_id": "b525bbc47937412b8086b3ecbea950ca",
       "version_major": 2,
       "version_minor": 0
      },
      "text/plain": [
       "Epoch 43/Training:   0%|          | 0/118 [00:00<?, ?batch/s]"
      ]
     },
     "metadata": {},
     "output_type": "display_data"
    },
    {
     "name": "stdout",
     "output_type": "stream",
     "text": [
      "[Train][Epoch 43] Average Loss: 0.00148, Updated Learning Rate: 0.000134\n"
     ]
    },
    {
     "data": {
      "application/vnd.jupyter.widget-view+json": {
       "model_id": "9ad2b445982a4e32847d084e245546ec",
       "version_major": 2,
       "version_minor": 0
      },
      "text/plain": [
       "Epoch 43/Testing:   0%|          | 0/20 [00:00<?, ?batch/s]"
      ]
     },
     "metadata": {},
     "output_type": "display_data"
    },
    {
     "name": "stdout",
     "output_type": "stream",
     "text": [
      "[Test][Epoch 43] Loss: 0.00122, Accuracy: 0.978700\n"
     ]
    },
    {
     "data": {
      "application/vnd.jupyter.widget-view+json": {
       "model_id": "5fab8fb611754fbb8e66cc67d6da3c90",
       "version_major": 2,
       "version_minor": 0
      },
      "text/plain": [
       "Epoch 44/Training:   0%|          | 0/118 [00:00<?, ?batch/s]"
      ]
     },
     "metadata": {},
     "output_type": "display_data"
    },
    {
     "name": "stdout",
     "output_type": "stream",
     "text": [
      "[Train][Epoch 44] Average Loss: 0.00148, Updated Learning Rate: 0.000134\n"
     ]
    },
    {
     "data": {
      "application/vnd.jupyter.widget-view+json": {
       "model_id": "6fe4f7029b4f4a87a68e1525d151d05d",
       "version_major": 2,
       "version_minor": 0
      },
      "text/plain": [
       "Epoch 44/Testing:   0%|          | 0/20 [00:00<?, ?batch/s]"
      ]
     },
     "metadata": {},
     "output_type": "display_data"
    },
    {
     "name": "stdout",
     "output_type": "stream",
     "text": [
      "[Test][Epoch 44] Loss: 0.00122, Accuracy: 0.978100\n"
     ]
    },
    {
     "data": {
      "application/vnd.jupyter.widget-view+json": {
       "model_id": "b7c203bb4cb941fb9157a014538731db",
       "version_major": 2,
       "version_minor": 0
      },
      "text/plain": [
       "Epoch 45/Training:   0%|          | 0/118 [00:00<?, ?batch/s]"
      ]
     },
     "metadata": {},
     "output_type": "display_data"
    },
    {
     "name": "stdout",
     "output_type": "stream",
     "text": [
      "[Train][Epoch 45] Average Loss: 0.00148, Updated Learning Rate: 0.000134\n"
     ]
    },
    {
     "data": {
      "application/vnd.jupyter.widget-view+json": {
       "model_id": "be94313a048e4cd8a1e2403d224d0c37",
       "version_major": 2,
       "version_minor": 0
      },
      "text/plain": [
       "Epoch 45/Testing:   0%|          | 0/20 [00:00<?, ?batch/s]"
      ]
     },
     "metadata": {},
     "output_type": "display_data"
    },
    {
     "name": "stdout",
     "output_type": "stream",
     "text": [
      "[Test][Epoch 45] Loss: 0.00122, Accuracy: 0.978100\n"
     ]
    },
    {
     "data": {
      "application/vnd.jupyter.widget-view+json": {
       "model_id": "2aab5da418a844ad83322fc93657c4c7",
       "version_major": 2,
       "version_minor": 0
      },
      "text/plain": [
       "Epoch 46/Training:   0%|          | 0/118 [00:00<?, ?batch/s]"
      ]
     },
     "metadata": {},
     "output_type": "display_data"
    },
    {
     "name": "stdout",
     "output_type": "stream",
     "text": [
      "[Train][Epoch 46] Average Loss: 0.00147, Updated Learning Rate: 0.000134\n"
     ]
    },
    {
     "data": {
      "application/vnd.jupyter.widget-view+json": {
       "model_id": "2bd2b609b03544a99fbbbf65615d32b5",
       "version_major": 2,
       "version_minor": 0
      },
      "text/plain": [
       "Epoch 46/Testing:   0%|          | 0/20 [00:00<?, ?batch/s]"
      ]
     },
     "metadata": {},
     "output_type": "display_data"
    },
    {
     "name": "stdout",
     "output_type": "stream",
     "text": [
      "[Test][Epoch 46] Loss: 0.00122, Accuracy: 0.978500\n"
     ]
    },
    {
     "data": {
      "application/vnd.jupyter.widget-view+json": {
       "model_id": "788ae82fca3b43f5bda119947ff7dbd8",
       "version_major": 2,
       "version_minor": 0
      },
      "text/plain": [
       "Epoch 47/Training:   0%|          | 0/118 [00:00<?, ?batch/s]"
      ]
     },
     "metadata": {},
     "output_type": "display_data"
    },
    {
     "name": "stdout",
     "output_type": "stream",
     "text": [
      "[Train][Epoch 47] Average Loss: 0.00147, Updated Learning Rate: 0.000134\n"
     ]
    },
    {
     "data": {
      "application/vnd.jupyter.widget-view+json": {
       "model_id": "73942eb5f0994b609b9bd8860cb956f5",
       "version_major": 2,
       "version_minor": 0
      },
      "text/plain": [
       "Epoch 47/Testing:   0%|          | 0/20 [00:00<?, ?batch/s]"
      ]
     },
     "metadata": {},
     "output_type": "display_data"
    },
    {
     "name": "stdout",
     "output_type": "stream",
     "text": [
      "[Test][Epoch 47] Loss: 0.00122, Accuracy: 0.978000\n"
     ]
    },
    {
     "data": {
      "application/vnd.jupyter.widget-view+json": {
       "model_id": "23b6f0fa00674ba7ac2069f412207275",
       "version_major": 2,
       "version_minor": 0
      },
      "text/plain": [
       "Epoch 48/Training:   0%|          | 0/118 [00:00<?, ?batch/s]"
      ]
     },
     "metadata": {},
     "output_type": "display_data"
    },
    {
     "name": "stdout",
     "output_type": "stream",
     "text": [
      "[Train][Epoch 48] Average Loss: 0.00147, Updated Learning Rate: 0.000134\n"
     ]
    },
    {
     "data": {
      "application/vnd.jupyter.widget-view+json": {
       "model_id": "3ab2f06961e142f5b6bc6af5cf2b97a2",
       "version_major": 2,
       "version_minor": 0
      },
      "text/plain": [
       "Epoch 48/Testing:   0%|          | 0/20 [00:00<?, ?batch/s]"
      ]
     },
     "metadata": {},
     "output_type": "display_data"
    },
    {
     "name": "stdout",
     "output_type": "stream",
     "text": [
      "[Test][Epoch 48] Loss: 0.00121, Accuracy: 0.978800\n"
     ]
    },
    {
     "data": {
      "application/vnd.jupyter.widget-view+json": {
       "model_id": "60b1b4b9fc1f4c7cb1a0d3e9af15d95f",
       "version_major": 2,
       "version_minor": 0
      },
      "text/plain": [
       "Epoch 49/Training:   0%|          | 0/118 [00:00<?, ?batch/s]"
      ]
     },
     "metadata": {},
     "output_type": "display_data"
    },
    {
     "name": "stdout",
     "output_type": "stream",
     "text": [
      "[Train][Epoch 49] Average Loss: 0.00147, Updated Learning Rate: 0.000134\n"
     ]
    },
    {
     "data": {
      "application/vnd.jupyter.widget-view+json": {
       "model_id": "66cd690164f7474e9dd9b10ad5aaa2a8",
       "version_major": 2,
       "version_minor": 0
      },
      "text/plain": [
       "Epoch 49/Testing:   0%|          | 0/20 [00:00<?, ?batch/s]"
      ]
     },
     "metadata": {},
     "output_type": "display_data"
    },
    {
     "name": "stdout",
     "output_type": "stream",
     "text": [
      "[Test][Epoch 49] Loss: 0.00121, Accuracy: 0.979500\n"
     ]
    }
   ],
   "source": [
    "run()"
   ]
  },
  {
   "cell_type": "code",
   "execution_count": null,
   "id": "cfe42492",
   "metadata": {},
   "outputs": [],
   "source": []
  },
  {
   "cell_type": "code",
   "execution_count": null,
   "id": "fd33fbf9-1624-4450-bf58-347bc6ca0be0",
   "metadata": {},
   "outputs": [],
   "source": []
  },
  {
   "cell_type": "code",
   "execution_count": null,
   "id": "e7ee87b2-3663-4643-aeaf-05b7be98dd42",
   "metadata": {},
   "outputs": [],
   "source": []
  }
 ],
 "metadata": {
  "kernelspec": {
   "display_name": "Python 3 (ipykernel)",
   "language": "python",
   "name": "python3"
  },
  "language_info": {
   "codemirror_mode": {
    "name": "ipython",
    "version": 3
   },
   "file_extension": ".py",
   "mimetype": "text/x-python",
   "name": "python",
   "nbconvert_exporter": "python",
   "pygments_lexer": "ipython3",
   "version": "3.9.18"
  }
 },
 "nbformat": 4,
 "nbformat_minor": 5
}
