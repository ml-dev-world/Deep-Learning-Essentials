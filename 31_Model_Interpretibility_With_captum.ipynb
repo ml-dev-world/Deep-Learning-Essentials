{
 "cells": [
  {
   "cell_type": "code",
   "execution_count": 2,
   "id": "9e0c293c",
   "metadata": {},
   "outputs": [],
   "source": [
    "import os \n",
    "os.environ['KMP_DUPLICATE_LIB_OK']='True'"
   ]
  },
  {
   "cell_type": "code",
   "execution_count": 77,
   "id": "903f8943",
   "metadata": {},
   "outputs": [],
   "source": [
    "# Import dependencies\n",
    "import time\n",
    "import math\n",
    "import datetime\n",
    "from collections import OrderedDict\n",
    "from tqdm.auto import tqdm\n",
    "from pathlib import Path\n",
    "from thop import profile\n",
    "\n",
    "import torch\n",
    "import torchvision\n",
    "import torch.nn as nn\n",
    "import torch.nn.functional as F\n",
    "import torch.optim as optim\n",
    "from torch.optim import lr_scheduler\n",
    "from torchvision.datasets.mnist import MNIST\n",
    "import torchvision.transforms as transforms\n",
    "from torch.utils.data import DataLoader\n",
    "from torch.utils.data.sampler import RandomSampler, SequentialSampler\n",
    "import torch.nn.init as init\n",
    "\n",
    "import mlflow\n",
    "import random\n",
    "import numpy as np\n",
    "import psutil\n",
    "import subprocess\n",
    "from torchsummary import summary\n",
    "import matplotlib.pyplot as plt\n",
    "import seaborn as sns\n",
    "from sklearn.metrics import confusion_matrix, classification_report\n",
    "from sklearn.metrics import precision_score, recall_score, f1_score, accuracy_score\n",
    "\n",
    "\n",
    "from captum.attr import FeatureAblation\n",
    "from captum.attr import Occlusion\n",
    "from captum.attr import LayerConductance\n",
    "from captum.attr import IntegratedGradients\n",
    "from captum.attr import Saliency\n",
    "from captum.attr import DeepLift\n",
    "from captum.attr import NoiseTunnel\n",
    "from captum.attr import visualization as viz\n",
    "\n",
    "import warnings \n",
    "warnings.filterwarnings(\"ignore\")"
   ]
  },
  {
   "cell_type": "code",
   "execution_count": 78,
   "id": "13abf35c-ae3c-4ff4-8c4f-c5bbb27e87bd",
   "metadata": {},
   "outputs": [],
   "source": [
    "# torch.cuda.memory._record_memory_history()"
   ]
  },
  {
   "cell_type": "code",
   "execution_count": 79,
   "id": "1db77c57-1975-4f86-9188-59fcc8203174",
   "metadata": {},
   "outputs": [],
   "source": [
    "def increment_path(path, exist_ok=False, sep='', mkdir=True):\n",
    "    path = Path(path)\n",
    "    if path.exists() and not exist_ok:\n",
    "        path, suffix = (path.with_suffix(''), path.suffix) if path.is_file() else (path, '')\n",
    "        for n in range(2, 9999):\n",
    "            p = f'{path}{sep}{n}{suffix}'\n",
    "            if not os.path.exists(p):\n",
    "                break\n",
    "        path = Path(p)\n",
    "    if mkdir:\n",
    "        path.mkdir(parents=True, exist_ok=True)\n",
    "    return path"
   ]
  },
  {
   "cell_type": "code",
   "execution_count": 80,
   "id": "94032296-1658-4b03-bb63-5c2283e00ce5",
   "metadata": {},
   "outputs": [],
   "source": [
    "EXPERIMENT_NAME = \"exp\"\n",
    "FILE = Path(os.getcwd()).resolve()\n",
    "SAVE_DIR = increment_path(FILE / \"artifacts\" / f\"{EXPERIMENT_NAME}\", exist_ok=False)\n",
    "(SAVE_DIR / 'checkpoints').mkdir(parents=True, exist_ok=True)"
   ]
  },
  {
   "cell_type": "code",
   "execution_count": 8,
   "id": "15c8f025-3784-446b-b6a6-f9570e0bec97",
   "metadata": {},
   "outputs": [
    {
     "name": "stderr",
     "output_type": "stream",
     "text": [
      "2024/03/14 00:29:06 INFO mlflow.tracking.fluent: Experiment with name 'exp27' does not exist. Creating a new experiment.\n"
     ]
    },
    {
     "data": {
      "text/plain": [
       "<Experiment: artifact_location='file:///C:/Users/Hp/Desktop/mldev/2024/Git/mldevworld/Deep-Learning-Essentials/mlruns/27', creation_time=1710356346782, experiment_id='27', last_update_time=1710356346782, lifecycle_stage='active', name='exp27', tags={}>"
      ]
     },
     "execution_count": 8,
     "metadata": {},
     "output_type": "execute_result"
    }
   ],
   "source": [
    "local_tracking_uri = f\"sqlite:///mlflow/mlflow.db\"\n",
    "mlflow.set_tracking_uri(local_tracking_uri)\n",
    "mlflow.set_experiment(SAVE_DIR.stem)"
   ]
  },
  {
   "cell_type": "code",
   "execution_count": 9,
   "id": "4b56f9ea-54b0-4175-972a-523290fdbe41",
   "metadata": {},
   "outputs": [
    {
     "name": "stdout",
     "output_type": "stream",
     "text": [
      "Random seed set to 42\n"
     ]
    }
   ],
   "source": [
    "def set_experiment_seed(seed=42):\n",
    "    \"\"\"\n",
    "    Set random seeds and CUDA-related flags for experiment reproducibility.\n",
    "    \"\"\"\n",
    "    # Set random seeds for reproducibility\n",
    "    torch.manual_seed(seed)\n",
    "    np.random.seed(seed)\n",
    "    random.seed(seed)\n",
    "\n",
    "    # If using GPU, set random seed for CUDA operations\n",
    "    if torch.cuda.is_available():\n",
    "        torch.cuda.manual_seed(seed)\n",
    "        torch.backends.cudnn.deterministic = True\n",
    "        torch.backends.cudnn.benchmark = False  # Set to False for reproducibility\n",
    "\n",
    "    # Optionally log seed information\n",
    "    print(f\"Random seed set to {seed}\")\n",
    "\n",
    "set_experiment_seed()"
   ]
  },
  {
   "cell_type": "code",
   "execution_count": 10,
   "id": "079ce688",
   "metadata": {},
   "outputs": [],
   "source": [
    "# Download MNIST dataset\n",
    "data_train = MNIST(\n",
    "    \"./data/mnist\", download=True, \n",
    "    transform=transforms.Compose([\n",
    "        transforms.Resize((32, 32)),\n",
    "        transforms.RandomRotation(degrees=15),\n",
    "        transforms.RandomAffine(degrees=0, translate=(0.1, 0.1)),\n",
    "        transforms.RandomVerticalFlip(),\n",
    "        transforms.ColorJitter(brightness=0.2, contrast=0.2),\n",
    "        transforms.GaussianBlur(kernel_size=1),\n",
    "        transforms.ToTensor()\n",
    "    ])\n",
    ")\n",
    "        \n",
    "data_test = MNIST(\n",
    "    \"./data/mnist\", download=True, train=False,\n",
    "    transform=transforms.Compose([\n",
    "        transforms.Resize((32, 32)),\n",
    "        transforms.ToTensor()\n",
    "    ])\n",
    ")\n",
    "\n",
    "# Define test time transforms\n",
    "tta_transform = transforms.Compose([\n",
    "    transforms.RandomRotation(degrees=15),\n",
    "    transforms.RandomAffine(degrees=0, translate=(0.1, 0.1)),\n",
    "    transforms.RandomVerticalFlip(),\n",
    "    transforms.ColorJitter(brightness=0.2, contrast=0.2),\n",
    "])"
   ]
  },
  {
   "cell_type": "code",
   "execution_count": 11,
   "id": "372c5b4a",
   "metadata": {},
   "outputs": [],
   "source": [
    "# Define hyperparameters\n",
    "N_CLASSES = 10\n",
    "EPOCHS = 10\n",
    "BATCH_SIZE = 1609\n",
    "DROPOUT_PROB = \t0.12931721102481436\n",
    "USE_BATCHNORM = False\n",
    "LABEL_SMOOTHING = 8.83890730090731e-07\n",
    "LR = 0.028147621640854794\n",
    "WARMUP_PROPORTION = 0.04584907346713653\n",
    "WEIGHT_DECAY = 2.1415275778699216e-06\n",
    "ACCUMULATION_STEPS = 1\n",
    "N_TTA = 8"
   ]
  },
  {
   "cell_type": "code",
   "execution_count": 12,
   "id": "93918f18",
   "metadata": {},
   "outputs": [],
   "source": [
    "# plt.figure(figsize=(10,10))\n",
    "# for i in range(25):\n",
    "#     plt.subplot(5,5,i+1)\n",
    "#     plt.xticks([])\n",
    "#     plt.yticks([])\n",
    "#     plt.grid(False)\n",
    "#     plt.imshow(data_train[i][0].permute(1,2,0).numpy(), cmap=plt.cm.binary)\n",
    "#     plt.xlabel(data_train[i][1])\n",
    "# plt.show()"
   ]
  },
  {
   "cell_type": "markdown",
   "id": "ce264b0f-c32e-4907-bc34-c7644df7d2c7",
   "metadata": {},
   "source": [
    "`torch.utils.data.DataLoader` supports asynchronous data loading and data augmentation in separate worker subprocesses. The default setting for DataLoader is `num_workers=0`, which means that the data loading is synchronous and done in the main process. As a result the main training process has to wait for the data to be available to continue the execution.\r\n",
    "\r\n",
    "Settin`g num_workers >` 0 enables asynchronous data loading and overlap between the training and data loading. num_workers should be tuned depending on the workload, CPU, GPU, and location of training data.`\r\n",
    "\r\n",
    "DataLo`ader acce`pts pin_me`mory argument, which defaults` to F`alse. When using a GPU it’s better to `set pin_memory=`True, this instru`cts DataLo`ader to use pinned memory and enables faster and asynchronous memory copy from the host to the GPU."
   ]
  },
  {
   "cell_type": "code",
   "execution_count": 13,
   "id": "fb249649-163b-495a-bd21-94711d5ec411",
   "metadata": {},
   "outputs": [],
   "source": [
    "def calculate_num_workers():\n",
    "    # Calculate the number of CPU cores\n",
    "    num_cpu_cores = os.cpu_count()\n",
    "\n",
    "    # Set a safe maximum multiplier value (e.g., 0.5) to avoid using all available resources\n",
    "    max_multiplier = 0.5\n",
    "\n",
    "    # Calculate the number of workers based on the available resources\n",
    "    multiplier = min(sum(psutil.cpu_percent(interval=1, percpu=True)) / 100.0, max_multiplier)\n",
    "    \n",
    "    # Ensure that num_workers is at least 1\n",
    "    num_workers = max(1, int(num_cpu_cores * multiplier))\n",
    "\n",
    "    return num_workers"
   ]
  },
  {
   "cell_type": "code",
   "execution_count": 14,
   "id": "5b752015",
   "metadata": {},
   "outputs": [],
   "source": [
    "# Define train dataloader\n",
    "train_dataloader = DataLoader(\n",
    "    data_train, batch_size=BATCH_SIZE, \n",
    "    sampler=RandomSampler(data_train), \n",
    "    pin_memory=True, num_workers=calculate_num_workers()\n",
    ")\n",
    "\n",
    "# Define test dataloader\n",
    "test_dataloader = DataLoader(\n",
    "    data_test, batch_size=BATCH_SIZE, \n",
    "    sampler=SequentialSampler(data_test),\n",
    "    pin_memory=True, num_workers=calculate_num_workers()\n",
    ")"
   ]
  },
  {
   "cell_type": "markdown",
   "id": "6864f541-00b1-4851-a1da-288992d8d709",
   "metadata": {},
   "source": [
    "`torch.nn.Conv2d()` has `bias` parameter which defaults to `True` (the same is true for `Conv1d` and `Conv3d` ).\n",
    "\n",
    "If a `nn.Conv2d` layer is directly followed by a `nn.BatchNorm2d` layer, then the bias in the convolution is not needed, instead use `nn.Conv2d(..., bias=False, ....)`. Bias is not needed because in the first step `BatchNorm` subtracts the mean, which effectively cancels out the effect of bias.\n",
    "\n",
    "This is also applicable to 1d and 3d convolutions as long as `BatchNorm`(or other normalization layer) normalizes on the same dimension as convolution’s bias."
   ]
  },
  {
   "cell_type": "code",
   "execution_count": 15,
   "id": "35af50e0-5861-444c-ab61-8581c61f9af0",
   "metadata": {},
   "outputs": [],
   "source": [
    "class LeNet(nn.Module):\n",
    "    def __init__(self):\n",
    "        super(LeNet, self).__init__()\n",
    "                \n",
    "        self.features1 = nn.Sequential(\n",
    "            nn.Conv2d(1, 6, kernel_size=(5, 5), bias=not USE_BATCHNORM),\n",
    "            self._get_norm_layer(6),\n",
    "            nn.ReLU(),\n",
    "            nn.MaxPool2d(kernel_size=(2, 2), stride=2),\n",
    "            nn.Dropout2d(p=DROPOUT_PROB)\n",
    "        )\n",
    "        \n",
    "        self.features2 = nn.Sequential(\n",
    "            nn.Conv2d(6, 16, kernel_size=(5, 5), bias=not USE_BATCHNORM),\n",
    "            self._get_norm_layer(16),\n",
    "            nn.ReLU(),\n",
    "            nn.MaxPool2d(kernel_size=(2, 2), stride=2),\n",
    "            nn.Dropout2d(p=DROPOUT_PROB)\n",
    "        )\n",
    "\n",
    "        self.features3 = nn.Sequential(\n",
    "            nn.Conv2d(16, 120, kernel_size=(5, 5), bias=not USE_BATCHNORM),\n",
    "            self._get_norm_layer(120),\n",
    "            nn.ReLU(),\n",
    "            nn.Dropout2d(p=DROPOUT_PROB)\n",
    "        )\n",
    "\n",
    "        self.classifier = nn.Sequential(\n",
    "            nn.Linear(120, 84, bias=True),\n",
    "            nn.ReLU(),\n",
    "            nn.Dropout(p=DROPOUT_PROB),\n",
    "            nn.Linear(84, 10, bias=True)\n",
    "        )\n",
    "\n",
    "        # Initialize layers\n",
    "        self.apply(self._initialize_weights)\n",
    "\n",
    "    def _get_norm_layer(self, channels):\n",
    "        if USE_BATCHNORM:\n",
    "            return nn.BatchNorm2d(channels)\n",
    "        else:\n",
    "            return nn.Identity()\n",
    "\n",
    "    def _initialize_weights(self, m):\n",
    "        if isinstance(m, nn.Conv2d) or isinstance(m, nn.Linear):\n",
    "            init.kaiming_uniform_(m.weight)\n",
    "            if m.bias is not None:\n",
    "                init.constant_(m.bias, 0)\n",
    "        \n",
    "    def forward(self, x):\n",
    "        x = self.features1(x)\n",
    "        x = self.features2(x)\n",
    "        x = self.features3(x)\n",
    "        x = x.view(x.size(0), -1)\n",
    "        x = self.classifier(x)\n",
    "        return x"
   ]
  },
  {
   "cell_type": "code",
   "execution_count": 16,
   "id": "621c6db2-e8a3-42cc-ab36-5694abdf5764",
   "metadata": {},
   "outputs": [],
   "source": [
    "device = torch.device(\"cuda\" if torch.cuda.is_available() else \"cpu\")"
   ]
  },
  {
   "cell_type": "code",
   "execution_count": 17,
   "id": "31f61bca",
   "metadata": {},
   "outputs": [
    {
     "name": "stdout",
     "output_type": "stream",
     "text": [
      "----------------------------------------------------------------\n",
      "        Layer (type)               Output Shape         Param #\n",
      "================================================================\n",
      "            Conv2d-1          [1609, 6, 28, 28]             156\n",
      "          Identity-2          [1609, 6, 28, 28]               0\n",
      "              ReLU-3          [1609, 6, 28, 28]               0\n",
      "         MaxPool2d-4          [1609, 6, 14, 14]               0\n",
      "         Dropout2d-5          [1609, 6, 14, 14]               0\n",
      "            Conv2d-6         [1609, 16, 10, 10]           2,416\n",
      "          Identity-7         [1609, 16, 10, 10]               0\n",
      "              ReLU-8         [1609, 16, 10, 10]               0\n",
      "         MaxPool2d-9           [1609, 16, 5, 5]               0\n",
      "        Dropout2d-10           [1609, 16, 5, 5]               0\n",
      "           Conv2d-11          [1609, 120, 1, 1]          48,120\n",
      "         Identity-12          [1609, 120, 1, 1]               0\n",
      "             ReLU-13          [1609, 120, 1, 1]               0\n",
      "        Dropout2d-14          [1609, 120, 1, 1]               0\n",
      "           Linear-15                 [1609, 84]          10,164\n",
      "             ReLU-16                 [1609, 84]               0\n",
      "          Dropout-17                 [1609, 84]               0\n",
      "           Linear-18                 [1609, 10]             850\n",
      "================================================================\n",
      "Total params: 61,706\n",
      "Trainable params: 61,706\n",
      "Non-trainable params: 0\n",
      "----------------------------------------------------------------\n",
      "Input size (MB): 6.29\n",
      "Forward/backward pass size (MB): 279.96\n",
      "Params size (MB): 0.24\n",
      "Estimated Total Size (MB): 286.48\n",
      "----------------------------------------------------------------\n"
     ]
    }
   ],
   "source": [
    "# Instantiate the model\n",
    "model = LeNet()\n",
    "model = model.to(device)\n",
    "\n",
    "# Test with a random input\n",
    "summary(model, input_size=(1, 32, 32), batch_size=BATCH_SIZE)"
   ]
  },
  {
   "cell_type": "markdown",
   "id": "6d186351-babd-4d4e-886e-d9338ca71640",
   "metadata": {},
   "source": [
    "#### 1. Cross Entropy Loss\n",
    "The standard cross-entropy loss for classification tasks is given by:\n",
    "\n",
    "$$ \\text{Traditional Cross Entropy Loss: } H(y, \\hat{y}) = - \\sum_i y_i \\log(\\hat{y}_i) $$\n",
    "\n",
    " - $y_i$ is a binary indicator of whether class $i$ is the correct classification.  \n",
    " - $p_i$ is the predicted probability of class $i$.\n",
    "\n",
    "#### 2. Label Smoothed Cross Entropy\n",
    "Label Smoothing Cross Entropy Loss introduces a modification to the target distribution:\n",
    "\n",
    " $$ \\text{Label Smoothed Cross Entropy Loss} = - \\sum_i \\left( (1 - \\text{smoothing}) \\cdot 1_{\\{y_i\\}} + \\frac{\\text{smoothing}}{C-1} \\cdot 1_{\\{1 - y_i\\}} \\right) \\cdot \\log(p_i) $$\n",
    "\n",
    "Where:\n",
    "- $1_{\\{y_i\\}}$ is a binary indicator of whether class $i$ is the correct classification.\n",
    "- $p_i$ is the predicted probability of class $i$.\n",
    "- $C$ is the number of classes.\n",
    "- $\\text{smoothing}$  is the smoothing factor.\n",
    "\n"
   ]
  },
  {
   "cell_type": "code",
   "execution_count": 18,
   "id": "5556bcc8-3ff2-4169-b316-0a7b17aa1d2e",
   "metadata": {},
   "outputs": [],
   "source": [
    "class LabelSmoothedCrossEntropy(nn.Module):\n",
    "    def __init__(self, num_classes, smoothing):\n",
    "        super(LabelSmoothedCrossEntropy, self).__init__()\n",
    "        self.num_classes = num_classes\n",
    "        self.smoothing = smoothing\n",
    "        self.confidence = 1.0 - smoothing\n",
    "\n",
    "    def forward(self, input_logits, target):\n",
    "        log_probs = F.log_softmax(input_logits, dim=-1)\n",
    "        true_dist = torch.zeros_like(log_probs)\n",
    "        true_dist.fill_(self.smoothing / (self.num_classes - 1))\n",
    "        true_dist.scatter_(1, target.data.unsqueeze(1), self.confidence)\n",
    "        loss = -torch.sum(true_dist * log_probs) / input_logits.size(0)\n",
    "        return loss"
   ]
  },
  {
   "cell_type": "code",
   "execution_count": 19,
   "id": "262d50c6-de05-416f-8ad7-14792edf403c",
   "metadata": {},
   "outputs": [],
   "source": [
    "# Initialize loss\n",
    "# criterion = nn.CrossEntropyLoss()\n",
    "criterion = LabelSmoothedCrossEntropy(num_classes=N_CLASSES, smoothing=LABEL_SMOOTHING)"
   ]
  },
  {
   "cell_type": "markdown",
   "id": "1365bb52-8cf9-414e-bb7e-d87c073b933b",
   "metadata": {},
   "source": [
    "#### Adam w/ Weight Decay"
   ]
  },
  {
   "cell_type": "code",
   "execution_count": 20,
   "id": "3412026a-4b8b-4070-9781-6efb964d3446",
   "metadata": {},
   "outputs": [],
   "source": [
    "# Initialize optimizer\n",
    "# optimizer = optim.Adam(model.parameters(), lr=LR)\n",
    "optimizer = optim.AdamW(model.parameters(), lr=LR, weight_decay=WEIGHT_DECAY)"
   ]
  },
  {
   "cell_type": "markdown",
   "id": "7f78d5cf-5ad7-4d10-be31-cb8d498227c4",
   "metadata": {},
   "source": [
    "#### Cosine Annealing With Warmup"
   ]
  },
  {
   "cell_type": "code",
   "execution_count": 21,
   "id": "6ebc561a-59b6-4848-92f0-bb32d4682d1d",
   "metadata": {},
   "outputs": [],
   "source": [
    "def get_lr_lambda(initial_lr, warmup_steps, total_steps):\n",
    "    def lr_lambda(current_step):\n",
    "        if current_step < warmup_steps:\n",
    "            return initial_lr + (1.0 - initial_lr) * float(current_step) / float(max(1, warmup_steps))\n",
    "        else:\n",
    "            return max(0.0, 0.5 * (1.0 + math.cos(math.pi * (current_step - warmup_steps) / float(total_steps - warmup_steps))))\n",
    "    return lr_lambda"
   ]
  },
  {
   "cell_type": "code",
   "execution_count": 22,
   "id": "b45993ef-a7a2-4154-9eeb-d10e5e003e4d",
   "metadata": {},
   "outputs": [],
   "source": [
    "len_dataloader = len(train_dataloader)\n",
    "num_update_steps_per_epoch = max(len_dataloader // ACCUMULATION_STEPS, 1) \n",
    "num_examples = len(train_dataloader.dataset)\n",
    "max_steps = math.ceil(EPOCHS * num_update_steps_per_epoch)\n",
    "num_warmup_steps = math.ceil(max_steps * WARMUP_PROPORTION)\n",
    "lr_lambda = get_lr_lambda(LR, num_warmup_steps, max_steps)\n",
    "scheduler = lr_scheduler.LambdaLR(optimizer, lr_lambda=lr_lambda)"
   ]
  },
  {
   "cell_type": "markdown",
   "id": "ab52c285-645c-4c4f-a051-565c8eb72c94",
   "metadata": {},
   "source": [
    "#### Adaptive Gradient Clipping"
   ]
  },
  {
   "cell_type": "code",
   "execution_count": 23,
   "id": "d4216258-a9d0-4eda-9aa0-e91543d2f4d9",
   "metadata": {},
   "outputs": [],
   "source": [
    "def unitwise_norm(x, norm_type=2.0):\n",
    "    if x.ndim <= 1:\n",
    "        return x.norm(norm_type)\n",
    "    else:\n",
    "        return x.norm(norm_type, dim=tuple(range(1, x.ndim)), keepdim=True)\n",
    "\n",
    "\n",
    "def adaptive_clip_grad(parameters, clip_factor=0.01, eps=1e-3, norm_type=2.0):\n",
    "    if isinstance(parameters, torch.Tensor):\n",
    "        parameters = [parameters]\n",
    "    for p in parameters:\n",
    "        if p.grad is None:\n",
    "            continue\n",
    "        p_data = p.detach()\n",
    "        g_data = p.grad.detach()\n",
    "        max_norm = unitwise_norm(p_data, norm_type=norm_type).clamp_(min=eps).mul_(clip_factor)\n",
    "        grad_norm = unitwise_norm(g_data, norm_type=norm_type)\n",
    "        clipped_grad = g_data * (max_norm / grad_norm.clamp(min=1e-6))\n",
    "        new_grads = torch.where(grad_norm < max_norm, g_data, clipped_grad)\n",
    "        p.grad.detach().copy_(new_grads)"
   ]
  },
  {
   "cell_type": "markdown",
   "id": "465ce651-83e8-4526-a9fc-bf799b70446b",
   "metadata": {},
   "source": [
    "#### Logging Model Parameters"
   ]
  },
  {
   "cell_type": "code",
   "execution_count": 24,
   "id": "e8aa3340-60e2-4583-8867-d197fb467d33",
   "metadata": {},
   "outputs": [],
   "source": [
    "def calculate_flops(input_size):\n",
    "    input_tensor = torch.randn(*input_size).to(device)\n",
    "    flops, params = profile(model, inputs=(input_tensor,))\n",
    "    return flops\n",
    "\n",
    "def calculate_disk_size():\n",
    "    # Calculate model disk size in bytes\n",
    "    disk_size_bytes = sum(p.numel() * p.element_size() for p in model.parameters())\n",
    "    # Convert bytes to megabytes\n",
    "    disk_size_mb = disk_size_bytes / (1024 * 1024)\n",
    "    return disk_size_mb\n",
    "\n",
    "def get_model_metrics():\n",
    "    num_params = sum(p.numel() for p in model.parameters())\n",
    "    num_trainable_params = sum(p.numel() for p in model.parameters() if p.requires_grad)\n",
    "\n",
    "    # Set an example input size (adjust based on your actual input size)\n",
    "    input_size = tuple(next(iter(train_dataloader))[0][0].unsqueeze(0).shape)\n",
    "\n",
    "    flops = calculate_flops(input_size)\n",
    "    disk_size = calculate_disk_size()\n",
    "\n",
    "    return {\n",
    "        \"num_params\": num_params,\n",
    "        \"num_trainable_params\": num_trainable_params,\n",
    "        \"flops\": flops,\n",
    "        \"disk_size\": disk_size\n",
    "    }"
   ]
  },
  {
   "cell_type": "markdown",
   "id": "0be3441b-14b2-4251-9bc4-b61b60263606",
   "metadata": {},
   "source": [
    "#### Logging GPU Usage"
   ]
  },
  {
   "cell_type": "code",
   "execution_count": 25,
   "id": "02adfbae-1213-4960-b91a-0abf1079256a",
   "metadata": {},
   "outputs": [],
   "source": [
    "def get_gpu_usage():\n",
    "    try:\n",
    "        # Run nvidia-smi command to get GPU utilization information\n",
    "        result = subprocess.run([\"nvidia-smi\", \"--query-gpu=utilization.gpu\", \"--format=csv,nounits,noheader\"], stdout=subprocess.PIPE, text=True)\n",
    "        gpu_usage = int(result.stdout.strip())\n",
    "        return gpu_usage\n",
    "    except Exception as e:\n",
    "        print(f\"Error getting GPU usage: {e}\")\n",
    "        return None"
   ]
  },
  {
   "cell_type": "markdown",
   "id": "6297eb60-ff83-4f9a-abbb-47919289ecc4",
   "metadata": {},
   "source": [
    "#### Train\n",
    "\n",
    "##### Gradient Penalty\n",
    "Its primary purpose is to encourage smoothness in the learned representations of the model by penalizing sharp changes or oscillations in the model's gradients.\n",
    "\n",
    "##### Gradient Accumulation\n",
    "Gradient accumulation adds gradients over an effective batch of size `batch_per_iter * iters_to_accumulate` (`* num_procs` if distributed). The scale should be calibrated for the effective batch, which means inf/NaN checking, step skipping if inf/NaN grads are found, and scale updates should occur at effective-batch granularity. Also, grads should remain scaled, and the scale factor should remain constant, while grads for a given effective batch are accumulated. If grads are unscaled (or the scale factor changes) before accumulation is complete, the next backward pass will add scaled grads to unscaled grads (or grads scaled by a different factor) after which it’s impossible to recover the accumulated unscaled grads `step` must apply.\n",
    "\n",
    "##### Automatic Mixed Precision Training\n",
    "Automatic Mixed Precision (AMP) training is a technique used in deep learning to accelerate training by using a combination of lower-precision and higher-precision numerical representations. The primary idea behind AMP is to use lower-precision data types (such as float16) for some parts of the model computation, while maintaining higher precision (such as float32) for critical numerical stability aspects."
   ]
  },
  {
   "cell_type": "code",
   "execution_count": 26,
   "id": "34cd9acf",
   "metadata": {},
   "outputs": [],
   "source": [
    "def train(epoch):\n",
    "    model.train()\n",
    "    total_loss = 0.0\n",
    "    \n",
    "    # Create a GradScaler once at the beginning of training.\n",
    "    scaler = torch.cuda.amp.GradScaler()\n",
    "    \n",
    "    optimizer.zero_grad()\n",
    "    with tqdm(total=len(train_dataloader), desc=f\"Epoch {epoch}/Training\", unit=\"batch\") as pbar:\n",
    "        for i, (images, labels) in enumerate(train_dataloader):\n",
    "            images, labels = images.to(device), labels.to(device)\n",
    "\n",
    "            # Runs the forward pass with autocasting.\n",
    "            with torch.autocast(device_type=device.type, dtype=torch.float16, enabled=True):\n",
    "                output = model(images)\n",
    "                loss = criterion(output, labels)\n",
    "\n",
    "            # # Scales the loss for autograd.grad's backward pass, producing scaled_grad_params\n",
    "            # scaled_grad_params = torch.autograd.grad(outputs=scaler.scale(loss), inputs=model.parameters(), create_graph=True)\n",
    "    \n",
    "            # # Creates unscaled grad_params before computing the penalty. scaled_grad_params are\n",
    "            # # not owned by any optimizer, so ordinary division is used instead of scaler.unscale_:\n",
    "            # inv_scale = 1. / scaler.get_scale()\n",
    "            # grad_params = [p * inv_scale for p in scaled_grad_params]\n",
    "    \n",
    "            # # Computes the penalty term and adds it to the loss\n",
    "            # with torch.autocast(device_type=device.type, dtype=torch.float16, enabled=True):\n",
    "            #     grad_norm = 0\n",
    "            #     for grad in grad_params:\n",
    "            #         grad_norm += grad.pow(2).sum()\n",
    "            #     grad_norm = grad_norm.sqrt()\n",
    "            #     loss = loss + grad_norm\n",
    "\n",
    "            # Scale the loss by accumulation steps\n",
    "            if ACCUMULATION_STEPS > 1:\n",
    "                with torch.autocast(device_type=device.type, dtype=torch.float16, enabled=True):\n",
    "                    loss = loss / ACCUMULATION_STEPS\n",
    "                \n",
    "            # Applies scaling to the backward call as usual.\n",
    "            # Accumulates leaf gradients that are correctly scaled.\n",
    "            scaler.scale(loss).backward()\n",
    "\n",
    "            if (i + 1) % ACCUMULATION_STEPS == 0:\n",
    "                # Unscales the gradients of optimizer's assigned params in-place\n",
    "                scaler.unscale_(optimizer)\n",
    "                # torch.nn.utils.clip_grad_norm_(model.parameters(), max_norm=5.0)\n",
    "                adaptive_clip_grad(model.parameters())\n",
    "\n",
    "                # optimizer's gradients are already unscaled, so scaler.step does not unscale them,\n",
    "                # although it still skips optimizer.step() if the gradients contain infs or NaNs.\n",
    "                scaler.step(optimizer)\n",
    "\n",
    "                mlflow.log_metric(\"lr\", optimizer.param_groups[0][\"lr\"])\n",
    "                scheduler.step()\n",
    "\n",
    "                # Updates the scale for next iteration.\n",
    "                scaler.update()\n",
    "                \n",
    "                for param in model.parameters():\n",
    "                    param.grad = None\n",
    "            \n",
    "            total_loss += loss.item()\n",
    "            pbar.update(1)\n",
    "            pbar.set_postfix(loss=total_loss / (i+1), lr=f\"{optimizer.param_groups[0]['lr']:.5f}\")\n",
    "\n",
    "    avg_loss = total_loss / len(train_dataloader.dataset)\n",
    "    mlflow.log_metric(\"train_loss\", avg_loss)\n",
    "        \n",
    "    print(f\"[Train][Epoch {epoch}] Average Loss: {avg_loss:.5f}, Updated Learning Rate: {optimizer.param_groups[0]['lr']}\")"
   ]
  },
  {
   "cell_type": "markdown",
   "id": "a217af40-7a4e-4a1e-8cfc-133fc220090f",
   "metadata": {},
   "source": [
    "#### Eval"
   ]
  },
  {
   "cell_type": "code",
   "execution_count": 27,
   "id": "65850723-b84a-4915-8429-644a1805ba97",
   "metadata": {},
   "outputs": [],
   "source": [
    "class BestLossTracker:\n",
    "    def __init__(self):\n",
    "        self.best_loss = float('inf')\n",
    "    \n",
    "    def update_best_loss(self, avg_loss):\n",
    "        if avg_loss < self.best_loss:\n",
    "            self.best_loss = avg_loss\n",
    "            return True\n",
    "        return False"
   ]
  },
  {
   "cell_type": "code",
   "execution_count": 28,
   "id": "c2ca1f2b-086a-4160-a0a6-f0abb7c43100",
   "metadata": {},
   "outputs": [],
   "source": [
    "class EarlyStopping:\n",
    "    def __init__(self, patience=5, delta=0.0):\n",
    "        self.patience = patience\n",
    "        self.delta = delta\n",
    "        self.counter = 0\n",
    "        self.best_loss = float('inf')\n",
    "        self.early_stop = False\n",
    "\n",
    "    def update_best_loss(self, val_loss):\n",
    "        if val_loss < self.best_loss - self.delta:\n",
    "            self.best_loss = val_loss\n",
    "            self.counter = 0\n",
    "        else:\n",
    "            self.counter += 1\n",
    "            if self.counter >= self.patience:\n",
    "                self.early_stop = True\n",
    "\n",
    "        return not self.early_stop"
   ]
  },
  {
   "cell_type": "code",
   "execution_count": 29,
   "id": "de2f38e6",
   "metadata": {},
   "outputs": [],
   "source": [
    "def test(epoch, best_loss_tracker):\n",
    "    model.eval()\n",
    "    total_correct = 0\n",
    "    total_loss = 0.0\n",
    "\n",
    "    with tqdm(total=len(test_dataloader), desc=f\"Epoch {epoch}/Testing\", unit=\"batch\") as pbar: \n",
    "        with torch.no_grad():\n",
    "            for i, (images, labels) in enumerate(test_dataloader):\n",
    "                images, labels = images.to(device), labels.to(device)\n",
    "                \n",
    "                # Test-time augmentation\n",
    "                augmented_predictions = []\n",
    "                augmented_losses = []\n",
    "                for _ in range(N_TTA):\n",
    "                    augmented_images = tta_transform(images)\n",
    "                    augmented_output = model(augmented_images)\n",
    "                    augmented_loss = criterion(augmented_output, labels)\n",
    "                    augmented_losses.append(augmented_loss.item())\n",
    "                    augmented_predictions.append(augmented_output.detach().cpu().numpy())\n",
    "\n",
    "                # Take the average loss over augmentations\n",
    "                total_loss += sum(augmented_losses) / len(augmented_losses)\n",
    "                \n",
    "                # Take the average of predictions across augmentations\n",
    "                final_predictions = torch.tensor(np.array(augmented_predictions), dtype=torch.float32).mean(dim=0)\n",
    "                pred = final_predictions.detach().max(1)[1].to(device)\n",
    "                total_correct += pred.eq(labels.view_as(pred)).sum()\n",
    "                \n",
    "    avg_loss = total_loss / len(test_dataloader.dataset)\n",
    "    accuracy = total_correct / len(test_dataloader.dataset)\n",
    "\n",
    "    mlflow.log_metric(\"val_loss\", avg_loss)\n",
    "    mlflow.log_metric(\"val_accuracy\", accuracy)\n",
    "    \n",
    "    if best_loss_tracker.update_best_loss(avg_loss):\n",
    "        checkpoint_name = f\"checkpoint_best_epoch_{epoch}.pth\"\n",
    "        checkpoint_path = str(SAVE_DIR / \"checkpoints\" / checkpoint_name)\n",
    "        torch.save(model.state_dict(), checkpoint_path)\n",
    "        print(f\"[Test][Epoch {epoch}] New best model found! Saving checkpoint. Loss: {avg_loss:.5f}, Accuracy: {accuracy:.3f}\")\n",
    "    else:\n",
    "        print(f\"[Test][Epoch {epoch}] Loss: {avg_loss:.5f}, Accuracy: {accuracy:.3f}\")\n",
    "    \n",
    "    return avg_loss"
   ]
  },
  {
   "cell_type": "markdown",
   "id": "2e589a1d-848f-4045-813c-662ef287e348",
   "metadata": {},
   "source": [
    "#### Run"
   ]
  },
  {
   "cell_type": "code",
   "execution_count": 30,
   "id": "0c3cd024",
   "metadata": {},
   "outputs": [],
   "source": [
    "def run():\n",
    "    with mlflow.start_run(run_name=\"Understanding_CUDA_Memory_Usage\"):\n",
    "        mlflow.log_param(\"torch_version\", torch.__version__)\n",
    "        mlflow.log_param(\"mlflow_version\", mlflow.__version__)\n",
    "\n",
    "        hyper_params = {\n",
    "            \"accumulation_steps\": ACCUMULATION_STEPS, \n",
    "            \"batch_size\": BATCH_SIZE, \n",
    "            \"dropout\":DROPOUT_PROB,\n",
    "            \"epochs\": EPOCHS, \n",
    "            \"batchnorm\": USE_BATCHNORM,\n",
    "            \"label_smoothing\": LABEL_SMOOTHING,\n",
    "            \"start_lr\": LR,\n",
    "            \"warmup_proortion\": WARMUP_PROPORTION,\n",
    "            \"weight_decay\": WEIGHT_DECAY\n",
    "        }\n",
    "\n",
    "        mlflow.log_params(hyper_params)\n",
    "        mlflow.set_tags({\"model\": \"lenet\", \"dataset\": \"mnist\"})\n",
    "        mlflow.pytorch.log_model(model, \"model\")\n",
    "        mlflow.log_param(\"start_time\", datetime.datetime.now().strftime(\"%Y-%m-%d %H:%M:%S\"))\n",
    "\n",
    "        model_metrics = get_model_metrics()\n",
    "        mlflow.log_param(\"num_params\", model_metrics['num_params'])\n",
    "        mlflow.log_param(\"num_trainable_params\", model_metrics['num_trainable_params'])\n",
    "        mlflow.log_param(\"flops\", model_metrics['flops'])\n",
    "        mlflow.log_param(\"disk_size\", model_metrics['disk_size'])\n",
    "\n",
    "        best_loss_tracker = BestLossTracker()\n",
    "        early_stopping = EarlyStopping(patience=3, delta=1e-6)\n",
    "\n",
    "        start_time = time.time()\n",
    "        for epoch in range(EPOCHS):\n",
    "            train(epoch)\n",
    "            val_loss = test(epoch, best_loss_tracker)\n",
    "            \n",
    "            if get_gpu_usage() is not None:\n",
    "                mlflow.log_metric(\"gpu\", get_gpu_usage(), step=epoch)\n",
    "\n",
    "            if not early_stopping.update_best_loss(val_loss):\n",
    "                print(\"Early stopping triggered.\")\n",
    "                break\n",
    "\n",
    "\n",
    "        total_time = time.time() - start_time\n",
    "        avg_epoch_time = total_time / EPOCHS\n",
    "        avg_batch_time = avg_epoch_time / len(train_dataloader)\n",
    "\n",
    "        mlflow.log_metric(\"total_training_time\", total_time)\n",
    "        mlflow.log_metric(\"average_epoch_time\", avg_epoch_time)\n",
    "        mlflow.log_metric(\"average_batch_time\", avg_batch_time)\n",
    "        mlflow.log_param(\"end_time\", datetime.datetime.now().strftime(\"%Y-%m-%d %H:%M:%S\"))\n",
    "\n",
    "# torch.cuda.memory._dump_snapshot(\"snapshot.pickle\")"
   ]
  },
  {
   "cell_type": "code",
   "execution_count": 31,
   "id": "04e628b2-39af-4e82-8d13-e94a3f4ffd86",
   "metadata": {},
   "outputs": [
    {
     "name": "stderr",
     "output_type": "stream",
     "text": [
      "2024/03/14 00:29:11 WARNING mlflow.utils.requirements_utils: Found torch version (2.2.0+cu118) contains a local version label (+cu118). MLflow logged a pip requirement for this package as 'torch==2.2.0' without the local version label to make it installable from PyPI. To specify pip requirements containing local version labels, please use `conda_env` or `pip_requirements`.\n",
      "2024/03/14 00:29:16 WARNING mlflow.utils.requirements_utils: Found torch version (2.2.0+cu118) contains a local version label (+cu118). MLflow logged a pip requirement for this package as 'torch==2.2.0' without the local version label to make it installable from PyPI. To specify pip requirements containing local version labels, please use `conda_env` or `pip_requirements`.\n"
     ]
    },
    {
     "name": "stdout",
     "output_type": "stream",
     "text": [
      "[INFO] Register count_convNd() for <class 'torch.nn.modules.conv.Conv2d'>.\n",
      "[INFO] Register zero_ops() for <class 'torch.nn.modules.activation.ReLU'>.\n",
      "[INFO] Register zero_ops() for <class 'torch.nn.modules.pooling.MaxPool2d'>.\n",
      "[INFO] Register zero_ops() for <class 'torch.nn.modules.container.Sequential'>.\n",
      "[INFO] Register count_linear() for <class 'torch.nn.modules.linear.Linear'>.\n",
      "[INFO] Register zero_ops() for <class 'torch.nn.modules.dropout.Dropout'>.\n"
     ]
    },
    {
     "data": {
      "application/vnd.jupyter.widget-view+json": {
       "model_id": "83532eb1b8df424b80dc3f407a80e76b",
       "version_major": 2,
       "version_minor": 0
      },
      "text/plain": [
       "Epoch 0/Training:   0%|          | 0/38 [00:00<?, ?batch/s]"
      ]
     },
     "metadata": {},
     "output_type": "display_data"
    },
    {
     "name": "stdout",
     "output_type": "stream",
     "text": [
      "[Train][Epoch 0] Average Loss: 0.00092, Updated Learning Rate: 0.027936158958914464\n"
     ]
    },
    {
     "data": {
      "application/vnd.jupyter.widget-view+json": {
       "model_id": "ec81df8571f54d50bb3c73a090a5a821",
       "version_major": 2,
       "version_minor": 0
      },
      "text/plain": [
       "Epoch 0/Testing:   0%|          | 0/7 [00:00<?, ?batch/s]"
      ]
     },
     "metadata": {},
     "output_type": "display_data"
    },
    {
     "name": "stdout",
     "output_type": "stream",
     "text": [
      "[Test][Epoch 0] New best model found! Saving checkpoint. Loss: 0.00038, Accuracy: 0.917\n"
     ]
    },
    {
     "data": {
      "application/vnd.jupyter.widget-view+json": {
       "model_id": "603fcd64f57b4cd786f05e38e4ade04b",
       "version_major": 2,
       "version_minor": 0
      },
      "text/plain": [
       "Epoch 1/Training:   0%|          | 0/38 [00:00<?, ?batch/s]"
      ]
     },
     "metadata": {},
     "output_type": "display_data"
    },
    {
     "name": "stdout",
     "output_type": "stream",
     "text": [
      "[Train][Epoch 1] Average Loss: 0.00036, Updated Learning Rate: 0.026402075025726137\n"
     ]
    },
    {
     "data": {
      "application/vnd.jupyter.widget-view+json": {
       "model_id": "ee24148055644f159d41f7a3ab149355",
       "version_major": 2,
       "version_minor": 0
      },
      "text/plain": [
       "Epoch 1/Testing:   0%|          | 0/7 [00:00<?, ?batch/s]"
      ]
     },
     "metadata": {},
     "output_type": "display_data"
    },
    {
     "name": "stdout",
     "output_type": "stream",
     "text": [
      "[Test][Epoch 1] New best model found! Saving checkpoint. Loss: 0.00020, Accuracy: 0.956\n"
     ]
    },
    {
     "data": {
      "application/vnd.jupyter.widget-view+json": {
       "model_id": "b6fede2e685a42a1953d6d6d49ec4a49",
       "version_major": 2,
       "version_minor": 0
      },
      "text/plain": [
       "Epoch 2/Training:   0%|          | 0/38 [00:00<?, ?batch/s]"
      ]
     },
     "metadata": {},
     "output_type": "display_data"
    },
    {
     "name": "stdout",
     "output_type": "stream",
     "text": [
      "[Train][Epoch 2] Average Loss: 0.00028, Updated Learning Rate: 0.023539336241444258\n"
     ]
    },
    {
     "data": {
      "application/vnd.jupyter.widget-view+json": {
       "model_id": "b2f514d9f4b34c24b73b821d14fb796e",
       "version_major": 2,
       "version_minor": 0
      },
      "text/plain": [
       "Epoch 2/Testing:   0%|          | 0/7 [00:00<?, ?batch/s]"
      ]
     },
     "metadata": {},
     "output_type": "display_data"
    },
    {
     "name": "stdout",
     "output_type": "stream",
     "text": [
      "[Test][Epoch 2] New best model found! Saving checkpoint. Loss: 0.00016, Accuracy: 0.965\n"
     ]
    },
    {
     "data": {
      "application/vnd.jupyter.widget-view+json": {
       "model_id": "4a845676ad6541969096748daf8d2ad6",
       "version_major": 2,
       "version_minor": 0
      },
      "text/plain": [
       "Epoch 3/Training:   0%|          | 0/38 [00:00<?, ?batch/s]"
      ]
     },
     "metadata": {},
     "output_type": "display_data"
    },
    {
     "name": "stdout",
     "output_type": "stream",
     "text": [
      "[Train][Epoch 3] Average Loss: 0.00024, Updated Learning Rate: 0.019656468746473504\n"
     ]
    },
    {
     "data": {
      "application/vnd.jupyter.widget-view+json": {
       "model_id": "1c45a927671e4bc4960f4cd6d00c3ece",
       "version_major": 2,
       "version_minor": 0
      },
      "text/plain": [
       "Epoch 3/Testing:   0%|          | 0/7 [00:00<?, ?batch/s]"
      ]
     },
     "metadata": {},
     "output_type": "display_data"
    },
    {
     "name": "stdout",
     "output_type": "stream",
     "text": [
      "[Test][Epoch 3] New best model found! Saving checkpoint. Loss: 0.00014, Accuracy: 0.970\n"
     ]
    },
    {
     "data": {
      "application/vnd.jupyter.widget-view+json": {
       "model_id": "072aa2249299469cb190009649c5cedd",
       "version_major": 2,
       "version_minor": 0
      },
      "text/plain": [
       "Epoch 4/Training:   0%|          | 0/38 [00:00<?, ?batch/s]"
      ]
     },
     "metadata": {},
     "output_type": "display_data"
    },
    {
     "name": "stdout",
     "output_type": "stream",
     "text": [
      "[Train][Epoch 4] Average Loss: 0.00022, Updated Learning Rate: 0.015171941081675348\n"
     ]
    },
    {
     "data": {
      "application/vnd.jupyter.widget-view+json": {
       "model_id": "f0cb796eb5ca4e5cae1d86fb113a9c85",
       "version_major": 2,
       "version_minor": 0
      },
      "text/plain": [
       "Epoch 4/Testing:   0%|          | 0/7 [00:00<?, ?batch/s]"
      ]
     },
     "metadata": {},
     "output_type": "display_data"
    },
    {
     "name": "stdout",
     "output_type": "stream",
     "text": [
      "[Test][Epoch 4] New best model found! Saving checkpoint. Loss: 0.00013, Accuracy: 0.968\n"
     ]
    },
    {
     "data": {
      "application/vnd.jupyter.widget-view+json": {
       "model_id": "62ea3940feca41bebd13f7ca69fa8c38",
       "version_major": 2,
       "version_minor": 0
      },
      "text/plain": [
       "Epoch 5/Training:   0%|          | 0/38 [00:00<?, ?batch/s]"
      ]
     },
     "metadata": {},
     "output_type": "display_data"
    },
    {
     "name": "stdout",
     "output_type": "stream",
     "text": [
      "[Train][Epoch 5] Average Loss: 0.00019, Updated Learning Rate: 0.010569064550042183\n"
     ]
    },
    {
     "data": {
      "application/vnd.jupyter.widget-view+json": {
       "model_id": "d4dc4f815aec4dafa837e0c176f43158",
       "version_major": 2,
       "version_minor": 0
      },
      "text/plain": [
       "Epoch 5/Testing:   0%|          | 0/7 [00:00<?, ?batch/s]"
      ]
     },
     "metadata": {},
     "output_type": "display_data"
    },
    {
     "name": "stdout",
     "output_type": "stream",
     "text": [
      "[Test][Epoch 5] New best model found! Saving checkpoint. Loss: 0.00011, Accuracy: 0.973\n"
     ]
    },
    {
     "data": {
      "application/vnd.jupyter.widget-view+json": {
       "model_id": "a48c31a4cf5e432f980fec0555008e2a",
       "version_major": 2,
       "version_minor": 0
      },
      "text/plain": [
       "Epoch 6/Training:   0%|          | 0/38 [00:00<?, ?batch/s]"
      ]
     },
     "metadata": {},
     "output_type": "display_data"
    },
    {
     "name": "stdout",
     "output_type": "stream",
     "text": [
      "[Train][Epoch 6] Average Loss: 0.00017, Updated Learning Rate: 0.006343905274987439\n"
     ]
    },
    {
     "data": {
      "application/vnd.jupyter.widget-view+json": {
       "model_id": "d5c32d659bd54212afa1993b44082c3f",
       "version_major": 2,
       "version_minor": 0
      },
      "text/plain": [
       "Epoch 6/Testing:   0%|          | 0/7 [00:00<?, ?batch/s]"
      ]
     },
     "metadata": {},
     "output_type": "display_data"
    },
    {
     "name": "stdout",
     "output_type": "stream",
     "text": [
      "[Test][Epoch 6] New best model found! Saving checkpoint. Loss: 0.00010, Accuracy: 0.975\n"
     ]
    },
    {
     "data": {
      "application/vnd.jupyter.widget-view+json": {
       "model_id": "7be52ef3e2bd4095837301309b8c813c",
       "version_major": 2,
       "version_minor": 0
      },
      "text/plain": [
       "Epoch 7/Training:   0%|          | 0/38 [00:00<?, ?batch/s]"
      ]
     },
     "metadata": {},
     "output_type": "display_data"
    },
    {
     "name": "stdout",
     "output_type": "stream",
     "text": [
      "[Train][Epoch 7] Average Loss: 0.00016, Updated Learning Rate: 0.0029518216325127794\n"
     ]
    },
    {
     "data": {
      "application/vnd.jupyter.widget-view+json": {
       "model_id": "82e1110bcf404b97a1e20769573fdb53",
       "version_major": 2,
       "version_minor": 0
      },
      "text/plain": [
       "Epoch 7/Testing:   0%|          | 0/7 [00:00<?, ?batch/s]"
      ]
     },
     "metadata": {},
     "output_type": "display_data"
    },
    {
     "name": "stdout",
     "output_type": "stream",
     "text": [
      "[Test][Epoch 7] Loss: 0.00011, Accuracy: 0.975\n"
     ]
    },
    {
     "data": {
      "application/vnd.jupyter.widget-view+json": {
       "model_id": "9beaef01630741cdae10de8b946c2687",
       "version_major": 2,
       "version_minor": 0
      },
      "text/plain": [
       "Epoch 8/Training:   0%|          | 0/38 [00:00<?, ?batch/s]"
      ]
     },
     "metadata": {},
     "output_type": "display_data"
    },
    {
     "name": "stdout",
     "output_type": "stream",
     "text": [
      "[Train][Epoch 8] Average Loss: 0.00016, Updated Learning Rate: 0.000758388882187354\n"
     ]
    },
    {
     "data": {
      "application/vnd.jupyter.widget-view+json": {
       "model_id": "c1be71de5c1d4bb0b44f656f2c307002",
       "version_major": 2,
       "version_minor": 0
      },
      "text/plain": [
       "Epoch 8/Testing:   0%|          | 0/7 [00:00<?, ?batch/s]"
      ]
     },
     "metadata": {},
     "output_type": "display_data"
    },
    {
     "name": "stdout",
     "output_type": "stream",
     "text": [
      "[Test][Epoch 8] Loss: 0.00010, Accuracy: 0.976\n"
     ]
    },
    {
     "data": {
      "application/vnd.jupyter.widget-view+json": {
       "model_id": "e5fd2f372a714a719d33ccafba1f8b96",
       "version_major": 2,
       "version_minor": 0
      },
      "text/plain": [
       "Epoch 9/Training:   0%|          | 0/38 [00:00<?, ?batch/s]"
      ]
     },
     "metadata": {},
     "output_type": "display_data"
    },
    {
     "name": "stdout",
     "output_type": "stream",
     "text": [
      "[Train][Epoch 9] Average Loss: 0.00015, Updated Learning Rate: 0.0\n"
     ]
    },
    {
     "data": {
      "application/vnd.jupyter.widget-view+json": {
       "model_id": "f0f5f7586c5e4889a38ec24eabe5cff2",
       "version_major": 2,
       "version_minor": 0
      },
      "text/plain": [
       "Epoch 9/Testing:   0%|          | 0/7 [00:00<?, ?batch/s]"
      ]
     },
     "metadata": {},
     "output_type": "display_data"
    },
    {
     "name": "stdout",
     "output_type": "stream",
     "text": [
      "[Test][Epoch 9] New best model found! Saving checkpoint. Loss: 0.00009, Accuracy: 0.977\n"
     ]
    }
   ],
   "source": [
    "run()"
   ]
  },
  {
   "cell_type": "markdown",
   "id": "f12b1d5c-6bd7-479c-82d9-9d630e47056c",
   "metadata": {},
   "source": [
    "### Evaluation"
   ]
  },
  {
   "cell_type": "code",
   "execution_count": 40,
   "id": "7ae47305-cd05-4317-b279-631031e8ae73",
   "metadata": {},
   "outputs": [],
   "source": [
    "def evaluate(model, dataloader):\n",
    "    model.eval()\n",
    "    all_predictions = []\n",
    "    all_labels = []\n",
    "    all_probabilities = []\n",
    "\n",
    "    with torch.no_grad():\n",
    "        for inputs, labels in dataloader:\n",
    "            outputs = model(inputs.to(device))\n",
    "            _, predictions = torch.max(outputs, 1)\n",
    "            probabilities = torch.nn.functional.softmax(outputs, dim=1)\n",
    "\n",
    "            all_predictions.extend(predictions.cpu().numpy())\n",
    "            all_labels.extend(labels.numpy())\n",
    "            all_probabilities.extend(probabilities.cpu().numpy())\n",
    "\n",
    "    return all_predictions, all_labels, all_probabilities"
   ]
  },
  {
   "cell_type": "markdown",
   "id": "307ee4e9-f00c-4d09-83dd-eebc75b56681",
   "metadata": {},
   "source": [
    "#### Error Analysis"
   ]
  },
  {
   "cell_type": "code",
   "execution_count": 41,
   "id": "c638b25d-c4e8-45f9-a814-381f72c1842f",
   "metadata": {},
   "outputs": [],
   "source": [
    "# Run evaluation and gather predictions, labels and probablities\n",
    "classes = [str(i) for i in range(10)]\n",
    "model_predictions, true_labels, model_probablities = evaluate(model, test_dataloader)"
   ]
  },
  {
   "cell_type": "code",
   "execution_count": 42,
   "id": "004eea67-788b-4501-a1b3-d31944d6f487",
   "metadata": {},
   "outputs": [],
   "source": [
    "def print_classification_report(y_true, y_pred, target_names):\n",
    "    print(classification_report(y_true, y_pred, target_names=target_names))"
   ]
  },
  {
   "cell_type": "code",
   "execution_count": 43,
   "id": "31ea4aca-cb0c-4276-aae9-9d1665b33a12",
   "metadata": {},
   "outputs": [
    {
     "name": "stdout",
     "output_type": "stream",
     "text": [
      "              precision    recall  f1-score   support\n",
      "\n",
      "           0       0.98      0.99      0.99       980\n",
      "           1       1.00      0.99      0.99      1135\n",
      "           2       0.91      0.95      0.93      1032\n",
      "           3       0.99      0.98      0.98      1010\n",
      "           4       0.99      0.99      0.99       982\n",
      "           5       0.95      0.93      0.94       892\n",
      "           6       0.99      0.99      0.99       958\n",
      "           7       0.96      0.98      0.97      1028\n",
      "           8       0.99      0.98      0.99       974\n",
      "           9       0.98      0.97      0.97      1009\n",
      "\n",
      "    accuracy                           0.97     10000\n",
      "   macro avg       0.97      0.97      0.97     10000\n",
      "weighted avg       0.97      0.97      0.97     10000\n",
      "\n"
     ]
    }
   ],
   "source": [
    "print_classification_report(true_labels, model_predictions, classes)"
   ]
  },
  {
   "cell_type": "markdown",
   "id": "1e2d02e8-b4f8-401f-8641-361eeb4e54f6",
   "metadata": {},
   "source": [
    "### Confusion Matrix"
   ]
  },
  {
   "cell_type": "code",
   "execution_count": 44,
   "id": "30296f9c-1409-4734-9e15-6a5700f464b7",
   "metadata": {},
   "outputs": [],
   "source": [
    "def plot_confusion_matrix(y_true, y_pred, classes, title='Confusion Matrix', cmap=plt.cm.Blues):\n",
    "    cm = confusion_matrix(y_true, y_pred)\n",
    "    plt.figure(figsize=(8, 6))\n",
    "    sns.heatmap(cm, annot=True, fmt=\"d\", cmap=cmap, xticklabels=classes, yticklabels=classes)\n",
    "    plt.title(title)\n",
    "    plt.xlabel('Predicted Label')\n",
    "    plt.ylabel('True Label')\n",
    "    plt.show()"
   ]
  },
  {
   "cell_type": "code",
   "execution_count": 45,
   "id": "af118226-8bb7-44d7-b56d-daf52ebdb63c",
   "metadata": {},
   "outputs": [
    {
     "data": {
      "image/png": "[encoded data removed]",
      "text/plain": [
       "<Figure size 800x600 with 2 Axes>"
      ]
     },
     "metadata": {},
     "output_type": "display_data"
    }
   ],
   "source": [
    "plot_confusion_matrix(true_labels, model_predictions, classes)"
   ]
  },
  {
   "cell_type": "markdown",
   "id": "4ad56254-c91d-4950-a4ee-9695b90bec59",
   "metadata": {},
   "source": [
    "### Classwise Metrics"
   ]
  },
  {
   "cell_type": "code",
   "execution_count": 46,
   "id": "b5242205-3431-4e79-8caf-3a23a4c361c5",
   "metadata": {},
   "outputs": [],
   "source": [
    "classes = [i for i in range(10)]"
   ]
  },
  {
   "cell_type": "code",
   "execution_count": 47,
   "id": "feffe680-dc93-4b89-8284-cac850619345",
   "metadata": {},
   "outputs": [
    {
     "name": "stdout",
     "output_type": "stream",
     "text": [
      "\n",
      "Class 0 Metrics:\n",
      "  Precision: 1.0000\n",
      "  Recall:    0.9929\n",
      "  F1-Score:  0.9964\n",
      "\n",
      "Class 1 Metrics:\n",
      "  Precision: 1.0000\n",
      "  Recall:    0.9885\n",
      "  F1-Score:  0.9942\n",
      "\n",
      "Class 2 Metrics:\n",
      "  Precision: 1.0000\n",
      "  Recall:    0.9467\n",
      "  F1-Score:  0.9726\n",
      "\n",
      "Class 3 Metrics:\n",
      "  Precision: 1.0000\n",
      "  Recall:    0.9772\n",
      "  F1-Score:  0.9885\n",
      "\n",
      "Class 4 Metrics:\n",
      "  Precision: 1.0000\n",
      "  Recall:    0.9878\n",
      "  F1-Score:  0.9939\n",
      "\n",
      "Class 5 Metrics:\n",
      "  Precision: 1.0000\n",
      "  Recall:    0.9294\n",
      "  F1-Score:  0.9634\n",
      "\n",
      "Class 6 Metrics:\n",
      "  Precision: 1.0000\n",
      "  Recall:    0.9896\n",
      "  F1-Score:  0.9948\n",
      "\n",
      "Class 7 Metrics:\n",
      "  Precision: 1.0000\n",
      "  Recall:    0.9805\n",
      "  F1-Score:  0.9902\n",
      "\n",
      "Class 8 Metrics:\n",
      "  Precision: 1.0000\n",
      "  Recall:    0.9784\n",
      "  F1-Score:  0.9891\n",
      "\n",
      "Class 9 Metrics:\n",
      "  Precision: 1.0000\n",
      "  Recall:    0.9653\n",
      "  F1-Score:  0.9823\n",
      "\n",
      "Overall Accuracy: 0.9741\n"
     ]
    }
   ],
   "source": [
    "y_test, y_pred = np.array(true_labels), np.array(model_predictions)\n",
    "for cls in classes:\n",
    "    cls_indices = (y_test == cls)\n",
    "    cls_precision = precision_score(y_test[cls_indices], y_pred[cls_indices], average='weighted')\n",
    "    cls_recall = recall_score(y_test[cls_indices], y_pred[cls_indices], average='weighted')\n",
    "    cls_f1_score = f1_score(y_test[cls_indices], y_pred[cls_indices], average='weighted')\n",
    "    \n",
    "    print(f\"\\nClass {cls} Metrics:\")\n",
    "    print(f\"  Precision: {cls_precision:.4f}\")\n",
    "    print(f\"  Recall:    {cls_recall:.4f}\")\n",
    "    print(f\"  F1-Score:  {cls_f1_score:.4f}\")\n",
    "\n",
    "# Print overall accuracy\n",
    "accuracy = accuracy_score(y_test, y_pred)\n",
    "print(f\"\\nOverall Accuracy: {accuracy:.4f}\")"
   ]
  },
  {
   "cell_type": "markdown",
   "id": "21338170-45a7-48e1-9459-612ff41281f0",
   "metadata": {},
   "source": [
    "### Model Interpretibility"
   ]
  },
  {
   "cell_type": "code",
   "execution_count": 132,
   "id": "c0a418dc-d4f2-4136-b44a-5ed31a7fce5f",
   "metadata": {},
   "outputs": [
    {
     "data": {
      "text/plain": [
       "LeNet(\n",
       "  (features1): Sequential(\n",
       "    (0): Conv2d(1, 6, kernel_size=(5, 5), stride=(1, 1))\n",
       "    (1): Identity()\n",
       "    (2): ReLU()\n",
       "    (3): MaxPool2d(kernel_size=(2, 2), stride=2, padding=0, dilation=1, ceil_mode=False)\n",
       "    (4): Dropout2d(p=0.12931721102481436, inplace=False)\n",
       "  )\n",
       "  (features2): Sequential(\n",
       "    (0): Conv2d(6, 16, kernel_size=(5, 5), stride=(1, 1))\n",
       "    (1): Identity()\n",
       "    (2): ReLU()\n",
       "    (3): MaxPool2d(kernel_size=(2, 2), stride=2, padding=0, dilation=1, ceil_mode=False)\n",
       "    (4): Dropout2d(p=0.12931721102481436, inplace=False)\n",
       "  )\n",
       "  (features3): Sequential(\n",
       "    (0): Conv2d(16, 120, kernel_size=(5, 5), stride=(1, 1))\n",
       "    (1): Identity()\n",
       "    (2): ReLU()\n",
       "    (3): Dropout2d(p=0.12931721102481436, inplace=False)\n",
       "  )\n",
       "  (classifier): Sequential(\n",
       "    (0): Linear(in_features=120, out_features=84, bias=True)\n",
       "    (1): ReLU()\n",
       "    (2): Dropout(p=0.12931721102481436, inplace=False)\n",
       "    (3): Linear(in_features=84, out_features=10, bias=True)\n",
       "  )\n",
       ")"
      ]
     },
     "execution_count": 132,
     "metadata": {},
     "output_type": "execute_result"
    }
   ],
   "source": [
    "# Load the pre-trained model state dictionary from a saved checkpoint file\n",
    "model.load_state_dict(torch.load(\"../Deep-Learning-Essentials/artifacts/exp27/checkpoints/checkpoint_best_epoch_9.pth\"))\n",
    "\n",
    "# Set the model to evaluation mode\n",
    "model.eval()\n",
    "\n",
    "# The model is now loaded with weights from the specified checkpoint file and ready for inference\n",
    "# Evaluation mode is set to ensure that parameters like dropout are fixed, and the model behaves deterministically during inference."
   ]
  },
  {
   "cell_type": "code",
   "execution_count": 133,
   "id": "d7e092db-e7cb-4e69-9f60-775125147fa2",
   "metadata": {},
   "outputs": [],
   "source": [
    "# Get a batch of images and labels from the test dataloader\n",
    "images, labels = next(iter(test_dataloader))\n",
    "# Move the images and labels to the device (e.g., GPU if available)\n",
    "images, labels = images.to(device), labels.to(device)\n",
    "\n",
    "# Choose a specific index from the batch (e.g., the first index)\n",
    "ind = 0\n",
    "\n",
    "# Select the input image and label for the chosen index\n",
    "input_image = images[ind].unsqueeze(0)\n",
    "input_label = labels[ind]\n",
    "\n",
    "# Set the 'requires_grad' attribute to True to enable gradient computation for the input\n",
    "input_image.requires_grad = True\n",
    "\n",
    "# The 'input_image' tensor is now ready for interpretation techniques that require gradient information.\n",
    "# You can use this tensor as input for methods like Saliency, Integrated Gradients, etc.\n",
    "# Note: 'input_label' can be used as the target label for techniques that require target information.\n"
   ]
  },
  {
   "cell_type": "code",
   "execution_count": 134,
   "id": "5810c494-ba47-4e65-a140-61f576823942",
   "metadata": {},
   "outputs": [],
   "source": [
    "def attribute_image_features(algorithm, input, **kwargs):\n",
    "    # Ensure that gradients are cleared before attribution\n",
    "    model.zero_grad()\n",
    "    \n",
    "    # Use the provided attribution algorithm to compute feature attributions\n",
    "    # Here, 'input' is the input image tensor, and 'labels[ind]' is the target label\n",
    "    # 'kwargs' can be used to pass additional parameters specific to the attribution algorithm\n",
    "    tensor_attributions = algorithm.attribute(\n",
    "        input, target=labels[ind], **kwargs\n",
    "    )\n",
    "    \n",
    "    # Return the computed feature attributions\n",
    "    return tensor_attributions"
   ]
  },
  {
   "cell_type": "markdown",
   "id": "66a4331b-7a67-45fe-b5ce-ad32414665d3",
   "metadata": {},
   "source": [
    "#### Saliency Maps\n",
    "\n",
    "**Description:** Saliency maps highlight the input features that contribute the most to a particular output prediction. In the context of neural networks, saliency maps visualize the gradients of the output with respect to the input features.\r\n",
    "\r\n",
    "**Use Case:** Saliency maps help identify which regions of an input image are crucial for the model's decision-making.\r\n",
    "."
   ]
  },
  {
   "cell_type": "code",
   "execution_count": 112,
   "id": "27be5ab2-6f9f-456a-85d3-c91fdd9e231b",
   "metadata": {},
   "outputs": [],
   "source": [
    "saliency = Saliency(model)\n",
    "grads = saliency.attribute(input, target=labels[ind].item())\n",
    "\n",
    "# Visualize the saliency map\n",
    "saliency_map_np = grads.squeeze(0).cpu().detach().numpy()\n",
    "\n",
    "# Transpose the saliency map if needed\n",
    "saliency_map_np = np.transpose(saliency_map_np, (1, 2, 0))\n",
    "\n",
    "# grads = np.transpose(grads.squeeze().cpu().detach().numpy(), (1, 2, 0))"
   ]
  },
  {
   "cell_type": "markdown",
   "id": "22129303-a92c-4381-977d-c89b3dd5dc9d",
   "metadata": {},
   "source": [
    "#### Integrated Gradients\n",
    "\n",
    "**Description:** Integrated Gradients provide a way to attribute the model's output to its input features by integrating the gradients of the output with respect to the input along a path from a baseline (e.g., an input with all zeros) to the actual input.\r\n",
    "\r\n",
    "**Use Case:** Integrated Gradients help understand how changes in input features contribute to changes in the model's outpu.\r\n"
   ]
  },
  {
   "cell_type": "code",
   "execution_count": 113,
   "id": "e81848bd-4a38-49ad-893c-c531599a4dac",
   "metadata": {},
   "outputs": [
    {
     "name": "stdout",
     "output_type": "stream",
     "text": [
      "Approximation delta:  tensor([0.0216], device='cuda:0', dtype=torch.float64)\n"
     ]
    }
   ],
   "source": [
    "ig = IntegratedGradients(model)\n",
    "attr_ig, delta = attribute_image_features(ig, input, baselines=input * 0, return_convergence_delta=True)\n",
    "attr_ig = np.transpose(attr_ig.squeeze(0).cpu().detach().numpy(), (1, 2, 0))\n",
    "print('Approximation delta: ', abs(delta))"
   ]
  },
  {
   "cell_type": "markdown",
   "id": "0b769a9a-65f4-4f27-80be-2bd2ec070505",
   "metadata": {},
   "source": [
    "#### Integrated Gradients with Noise Tunnel\n",
    "**Description:** Similar to Integrated Gradients, but with the addition of a noise tunnel. The noise tunnel introduces random noise along the integration path to improve the robustness of the interpretation.\r\n",
    "\r\n",
    "**Use Case:** Helps reduce the impact of noise in the input and provides a more stable interpretation.\r\n"
   ]
  },
  {
   "cell_type": "code",
   "execution_count": 114,
   "id": "0f1c7598-4002-4bf2-98c8-aba654248789",
   "metadata": {},
   "outputs": [],
   "source": [
    "ig = IntegratedGradients(model)\n",
    "nt = NoiseTunnel(ig)\n",
    "attr_ig_nt = attribute_image_features(nt, input, baselines=input * 0, nt_type='smoothgrad_sq',\n",
    "                                      nt_samples=100, stdevs=0.2)\n",
    "attr_ig_nt = np.transpose(attr_ig_nt.squeeze(0).cpu().detach().numpy(), (1, 2, 0))"
   ]
  },
  {
   "cell_type": "markdown",
   "id": "f6f3e2a0-7983-4af9-932e-465e797784c1",
   "metadata": {},
   "source": [
    "#### DeepLift\n",
    "\n",
    "**Description:** DeepLIFT assigns contributions to input features by comparing the activations of each neuron to a reference activation. It computes the difference between the current activation and the reference activation to determine feature importance.\r\n",
    "\r\n",
    "**Use Case:** DeepLIFT provides a way to understand the contribution of each input feature to the output, considering the baseline/reference.\r\n"
   ]
  },
  {
   "cell_type": "code",
   "execution_count": 115,
   "id": "a4503b02-b3be-416f-b19f-124d80034e0f",
   "metadata": {},
   "outputs": [],
   "source": [
    "dl = DeepLift(model)\n",
    "attr_dl = attribute_image_features(dl, input, baselines=input * 0)\n",
    "attr_dl = np.transpose(attr_dl.squeeze(0).cpu().detach().numpy(), (1, 2, 0))"
   ]
  },
  {
   "cell_type": "markdown",
   "id": "bed754d0-8444-4c86-ad3c-b31ded29a115",
   "metadata": {},
   "source": [
    "### Occlusion\n",
    "**Description:** Occlusion involves systematically occluding or blocking parts of the input data and observing the impact on the model's output. By measuring the change in output, you can identify important regions.\r\n",
    "\r\n",
    "**Use Case:** Helps understand which areas of the input contribute most to the model's decision, and is particularly useful for image-based models.\r\n"
   ]
  },
  {
   "cell_type": "code",
   "execution_count": 123,
   "id": "2ec65742-0607-4bcb-a39a-3dbceda20905",
   "metadata": {},
   "outputs": [],
   "source": [
    "occlusion = Occlusion(model)\n",
    "occlusion_sensitivity = attribute_image_features(occlusion, input, sliding_window_shapes=(1, 14, 14), strides=(1, 7, 7))\n",
    "occlusion_sensitivity = np.transpose(occlusion_sensitivity.squeeze(0).cpu().detach().numpy(), (1, 2, 0))"
   ]
  },
  {
   "cell_type": "markdown",
   "id": "8c1a88df-7b7c-4800-b4ee-18a1280d1c2a",
   "metadata": {},
   "source": [
    "#### Feature Ablation\n",
    "**Description:** Feature ablation involves selectively removing or ablating individual features or groups of features in the input and observing the impact on the model's output.\r\n",
    "\r\n",
    "**Use Case:** Similar to occlusion, feature ablation helps identify the significance of specific features in the decision-making process."
   ]
  },
  {
   "cell_type": "code",
   "execution_count": 129,
   "id": "ca8a65eb-8d50-4afe-a7a1-ceb46cec0c49",
   "metadata": {},
   "outputs": [],
   "source": [
    "feature_ablation = FeatureAblation(model)\n",
    "feature_ablation_attributions = attribute_image_features(feature_ablation, input)\n",
    "feature_ablation_attributions = np.transpose(feature_ablation_attributions.squeeze(0).cpu().detach().numpy(), (1, 2, 0))"
   ]
  },
  {
   "cell_type": "code",
   "execution_count": 135,
   "id": "ea314d3a-65b9-40f3-922a-bb75eac7b9ca",
   "metadata": {},
   "outputs": [
    {
     "data": {
      "image/png": "[encoded data removed]",
      "text/plain": [
       "<Figure size 600x600 with 1 Axes>"
      ]
     },
     "metadata": {},
     "output_type": "display_data"
    },
    {
     "data": {
      "image/png": "[encoded data removed]",
      "text/plain": [
       "<Figure size 600x600 with 2 Axes>"
      ]
     },
     "metadata": {},
     "output_type": "display_data"
    },
    {
     "data": {
      "image/png": "[encoded data removed]",
      "text/plain": [
       "<Figure size 600x600 with 2 Axes>"
      ]
     },
     "metadata": {},
     "output_type": "display_data"
    },
    {
     "data": {
      "image/png": "[encoded data removed]",
      "text/plain": [
       "<Figure size 600x600 with 2 Axes>"
      ]
     },
     "metadata": {},
     "output_type": "display_data"
    },
    {
     "data": {
      "image/png": "[encoded data removed]",
      "text/plain": [
       "<Figure size 600x600 with 2 Axes>"
      ]
     },
     "metadata": {},
     "output_type": "display_data"
    },
    {
     "data": {
      "image/png": "[encoded data removed]",
      "text/plain": [
       "<Figure size 600x600 with 2 Axes>"
      ]
     },
     "metadata": {},
     "output_type": "display_data"
    },
    {
     "data": {
      "image/png": "[encoded data removed]",
      "text/plain": [
       "<Figure size 600x600 with 2 Axes>"
      ]
     },
     "metadata": {},
     "output_type": "display_data"
    }
   ],
   "source": [
    "# Convert the input image tensor to a NumPy array and adjust normalization\n",
    "original_image = np.transpose((images[ind].cpu().detach().numpy() / 2) + 0.5, (1, 2, 0))\n",
    "\n",
    "# Visualize the original image\n",
    "_ = viz.visualize_image_attr(\n",
    "    None, original_image, \n",
    "    method=\"original_image\", title=\"Original Image\"\n",
    ")\n",
    "\n",
    "# Visualize the saliency map overlaid on the original image\n",
    "_ = viz.visualize_image_attr(\n",
    "    saliency_map_np, original_image, \n",
    "    method=\"blended_heat_map\", sign=\"absolute_value\",\n",
    "    show_colorbar=True, title=\"Overlayed Gradient Magnitudes\"\n",
    ")\n",
    "\n",
    "# Visualize Integrated Gradients attributions overlaid on the original image\n",
    "_ = viz.visualize_image_attr(\n",
    "    attr_ig, original_image, \n",
    "    method=\"blended_heat_map\", sign=\"all\",\n",
    "    show_colorbar=True, title=\"Overlayed Integrated Gradients\"\n",
    ")\n",
    "\n",
    "# Visualize Integrated Gradients with Noise Tunnel attributions overlaid on the original image\n",
    "_ = viz.visualize_image_attr(\n",
    "    attr_ig_nt, original_image, \n",
    "    method=\"blended_heat_map\", \n",
    "    sign=\"absolute_value\", \n",
    "    outlier_perc=10, show_colorbar=True,\n",
    "    title=\"Overlayed Integrated Gradients \\n with SmoothGrad Squared\"\n",
    ")\n",
    "\n",
    "# Visualize DeepLIFT attributions overlaid on the original image\n",
    "_ = viz.visualize_image_attr(\n",
    "    attr_dl, original_image, \n",
    "    method=\"blended_heat_map\", sign=\"all\", \n",
    "    show_colorbar=True, title=\"Overlayed DeepLift\"\n",
    ")\n",
    "\n",
    "# Visualize Occlusion Sensitivity attributions overlaid on the original image\n",
    "_ = viz.visualize_image_attr(\n",
    "    occlusion_sensitivity, original_image, \n",
    "    method=\"blended_heat_map\", sign=\"all\", \n",
    "    show_colorbar=True, title=\"Occlusion Sensitivity\"\n",
    ")\n",
    "\n",
    "# Visualize Feature Ablation attributions overlaid on the original image\n",
    "_ = viz.visualize_image_attr(\n",
    "    feature_ablation_attributions, original_image, \n",
    "    method=\"blended_heat_map\", sign=\"all\", \n",
    "    show_colorbar=True, title=\"Feature Ablation\"\n",
    ")"
   ]
  },
  {
   "cell_type": "code",
   "execution_count": null,
   "id": "e818dabb-7d3f-4d9e-9461-e6d0914feda5",
   "metadata": {},
   "outputs": [],
   "source": []
  }
 ],
 "metadata": {
  "kernelspec": {
   "display_name": "Python 3 (ipykernel)",
   "language": "python",
   "name": "python3"
  },
  "language_info": {
   "codemirror_mode": {
    "name": "ipython",
    "version": 3
   },
   "file_extension": ".py",
   "mimetype": "text/x-python",
   "name": "python",
   "nbconvert_exporter": "python",
   "pygments_lexer": "ipython3",
   "version": "3.9.18"
  }
 },
 "nbformat": 4,
 "nbformat_minor": 5
}
