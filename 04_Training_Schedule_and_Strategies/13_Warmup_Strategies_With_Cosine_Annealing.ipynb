{
 "cells": [
  {
   "cell_type": "code",
   "execution_count": 2,
   "id": "9e0c293c",
   "metadata": {},
   "outputs": [],
   "source": [
    "import os \n",
    "os.environ['KMP_DUPLICATE_LIB_OK']='True'"
   ]
  },
  {
   "cell_type": "code",
   "execution_count": 14,
   "id": "903f8943",
   "metadata": {},
   "outputs": [],
   "source": [
    "# Import dependencies\n",
    "import math\n",
    "from collections import OrderedDict\n",
    "from tqdm.auto import tqdm\n",
    "\n",
    "import torch\n",
    "import torchvision\n",
    "import torch.nn as nn\n",
    "import torch.nn.functional as F\n",
    "import torch.optim as optim\n",
    "from torch.optim import lr_scheduler\n",
    "from torchvision.datasets.mnist import MNIST\n",
    "import torchvision.transforms as transforms\n",
    "from torch.utils.data import DataLoader\n",
    "from torch.utils.data.sampler import RandomSampler, SequentialSampler\n",
    "import torch.nn.init as init\n",
    "\n",
    "import random\n",
    "import numpy as np\n",
    "import psutil\n",
    "from torchsummary import summary\n",
    "import matplotlib.pyplot as plt\n",
    "\n",
    "import warnings \n",
    "warnings.filterwarnings(\"ignore\")"
   ]
  },
  {
   "cell_type": "code",
   "execution_count": 4,
   "id": "4b56f9ea-54b0-4175-972a-523290fdbe41",
   "metadata": {},
   "outputs": [
    {
     "name": "stdout",
     "output_type": "stream",
     "text": [
      "Random seed set to 42\n"
     ]
    }
   ],
   "source": [
    "def set_experiment_seed(seed=42):\n",
    "    \"\"\"\n",
    "    Set random seeds and CUDA-related flags for experiment reproducibility.\n",
    "    \"\"\"\n",
    "    # Set random seeds for reproducibility\n",
    "    torch.manual_seed(seed)\n",
    "    np.random.seed(seed)\n",
    "    random.seed(seed)\n",
    "\n",
    "    # If using GPU, set random seed for CUDA operations\n",
    "    if torch.cuda.is_available():\n",
    "        torch.cuda.manual_seed(seed)\n",
    "        torch.backends.cudnn.deterministic = True\n",
    "        torch.backends.cudnn.benchmark = False  # Set to False for reproducibility\n",
    "\n",
    "    # Optionally log seed information\n",
    "    print(f\"Random seed set to {seed}\")\n",
    "\n",
    "set_experiment_seed()"
   ]
  },
  {
   "cell_type": "code",
   "execution_count": 5,
   "id": "079ce688",
   "metadata": {},
   "outputs": [],
   "source": [
    "# Download MNIST dataset\n",
    "data_train = MNIST(\n",
    "    \"./data/mnist\", download=True, \n",
    "    transform=transforms.Compose([\n",
    "        transforms.Resize((32, 32)),\n",
    "        transforms.RandomRotation(degrees=15),\n",
    "        transforms.RandomAffine(degrees=0, translate=(0.1, 0.1)),\n",
    "        transforms.RandomVerticalFlip(),\n",
    "        transforms.ColorJitter(brightness=0.2, contrast=0.2),\n",
    "        transforms.GaussianBlur(kernel_size=1),\n",
    "        transforms.ToTensor()\n",
    "    ])\n",
    ")\n",
    "        \n",
    "data_test = MNIST(\n",
    "    \"./data/mnist\", download=True, train=False,\n",
    "    transform=transforms.Compose([\n",
    "        transforms.Resize((32, 32)),\n",
    "        transforms.ToTensor()\n",
    "    ])\n",
    ")"
   ]
  },
  {
   "cell_type": "code",
   "execution_count": 32,
   "id": "372c5b4a",
   "metadata": {},
   "outputs": [],
   "source": [
    "# Define hyperparameters\n",
    "N_CLASSES = 10\n",
    "EPOCHS = 50\n",
    "BATCH_SIZE = 512\n",
    "DROPOUT_PROB = 0.2\n",
    "USE_BATCHNORM = True\n",
    "LABEL_SMOOTHING = 0.1\n",
    "LR = 1.34E-03\n",
    "WARMUP_PROPORTION = 0.1"
   ]
  },
  {
   "cell_type": "code",
   "execution_count": 7,
   "id": "93918f18",
   "metadata": {},
   "outputs": [],
   "source": [
    "# plt.figure(figsize=(10,10))\n",
    "# for i in range(25):\n",
    "#     plt.subplot(5,5,i+1)\n",
    "#     plt.xticks([])\n",
    "#     plt.yticks([])\n",
    "#     plt.grid(False)\n",
    "#     plt.imshow(data_train[i][0].permute(1,2,0).numpy(), cmap=plt.cm.binary)\n",
    "#     plt.xlabel(data_train[i][1])\n",
    "# plt.show()"
   ]
  },
  {
   "cell_type": "markdown",
   "id": "ce264b0f-c32e-4907-bc34-c7644df7d2c7",
   "metadata": {},
   "source": [
    "`torch.utils.data.DataLoader` supports asynchronous data loading and data augmentation in separate worker subprocesses. The default setting for DataLoader is `num_workers=0`, which means that the data loading is synchronous and done in the main process. As a result the main training process has to wait for the data to be available to continue the execution.\r\n",
    "\r\n",
    "Settin`g num_workers >` 0 enables asynchronous data loading and overlap between the training and data loading. num_workers should be tuned depending on the workload, CPU, GPU, and location of training data.`\r\n",
    "\r\n",
    "DataLo`ader acce`pts pin_me`mory argument, which defaults` to F`alse. When using a GPU it’s better to `set pin_memory=`True, this instru`cts DataLo`ader to use pinned memory and enables faster and asynchronous memory copy from the host to the GPU."
   ]
  },
  {
   "cell_type": "code",
   "execution_count": 8,
   "id": "fb249649-163b-495a-bd21-94711d5ec411",
   "metadata": {},
   "outputs": [],
   "source": [
    "def calculate_num_workers():\n",
    "    # Calculate the number of CPU cores\n",
    "    num_cpu_cores = os.cpu_count()\n",
    "\n",
    "    # Set a safe maximum multiplier value (e.g., 0.5) to avoid using all available resources\n",
    "    max_multiplier = 0.5\n",
    "\n",
    "    # Calculate the number of workers based on the available resources\n",
    "    multiplier = min(sum(psutil.cpu_percent(interval=1, percpu=True)) / 100.0, max_multiplier)\n",
    "    \n",
    "    # Ensure that num_workers is at least 1\n",
    "    num_workers = max(1, int(num_cpu_cores * multiplier))\n",
    "\n",
    "    return num_workers"
   ]
  },
  {
   "cell_type": "code",
   "execution_count": 9,
   "id": "5b752015",
   "metadata": {},
   "outputs": [],
   "source": [
    "# Define train dataloader\n",
    "train_dataloader = DataLoader(\n",
    "    data_train, batch_size=BATCH_SIZE, \n",
    "    sampler=RandomSampler(data_train), \n",
    "    pin_memory=True, num_workers=calculate_num_workers()\n",
    ")\n",
    "\n",
    "# Define test dataloader\n",
    "test_dataloader = DataLoader(\n",
    "    data_test, batch_size=BATCH_SIZE, \n",
    "    sampler=SequentialSampler(data_test),\n",
    "    pin_memory=True, num_workers=calculate_num_workers()\n",
    ")"
   ]
  },
  {
   "cell_type": "markdown",
   "id": "6864f541-00b1-4851-a1da-288992d8d709",
   "metadata": {},
   "source": [
    "`torch.nn.Conv2d()` has `bias` parameter which defaults to `True` (the same is true for `Conv1d` and `Conv3d` ).\n",
    "\n",
    "If a `nn.Conv2d` layer is directly followed by a `nn.BatchNorm2d` layer, then the bias in the convolution is not needed, instead use `nn.Conv2d(..., bias=False, ....)`. Bias is not needed because in the first step `BatchNorm` subtracts the mean, which effectively cancels out the effect of bias.\n",
    "\n",
    "This is also applicable to 1d and 3d convolutions as long as `BatchNorm`(or other normalization layer) normalizes on the same dimension as convolution’s bias."
   ]
  },
  {
   "cell_type": "code",
   "execution_count": 10,
   "id": "35af50e0-5861-444c-ab61-8581c61f9af0",
   "metadata": {},
   "outputs": [],
   "source": [
    "class LeNet(nn.Module):\n",
    "    def __init__(self):\n",
    "        super(LeNet, self).__init__()\n",
    "                \n",
    "        self.features1 = nn.Sequential(\n",
    "            nn.Conv2d(1, 6, kernel_size=(5, 5), bias=not USE_BATCHNORM),\n",
    "            self._get_norm_layer(6),\n",
    "            nn.ReLU(),\n",
    "            nn.MaxPool2d(kernel_size=(2, 2), stride=2),\n",
    "            nn.Dropout2d(p=DROPOUT_PROB)\n",
    "        )\n",
    "        \n",
    "        self.features2 = nn.Sequential(\n",
    "            nn.Conv2d(6, 16, kernel_size=(5, 5), bias=not USE_BATCHNORM),\n",
    "            self._get_norm_layer(16),\n",
    "            nn.ReLU(),\n",
    "            nn.MaxPool2d(kernel_size=(2, 2), stride=2),\n",
    "            nn.Dropout2d(p=DROPOUT_PROB)\n",
    "        )\n",
    "\n",
    "        self.features3 = nn.Sequential(\n",
    "            nn.Conv2d(16, 120, kernel_size=(5, 5), bias=not USE_BATCHNORM),\n",
    "            self._get_norm_layer(120),\n",
    "            nn.ReLU(),\n",
    "            nn.Dropout2d(p=DROPOUT_PROB)\n",
    "        )\n",
    "\n",
    "        self.classifier = nn.Sequential(\n",
    "            nn.Linear(120, 84, bias=True),\n",
    "            nn.ReLU(),\n",
    "            nn.Dropout(p=DROPOUT_PROB),\n",
    "            nn.Linear(84, 10, bias=True)\n",
    "        )\n",
    "\n",
    "        # Initialize layers\n",
    "        self.apply(self._initialize_weights)\n",
    "\n",
    "    def _get_norm_layer(self, channels):\n",
    "        if USE_BATCHNORM:\n",
    "            return nn.BatchNorm2d(channels)\n",
    "        else:\n",
    "            return nn.Identity()\n",
    "\n",
    "    def _initialize_weights(self, m):\n",
    "        if isinstance(m, nn.Conv2d) or isinstance(m, nn.Linear):\n",
    "            init.kaiming_uniform_(m.weight)\n",
    "            if m.bias is not None:\n",
    "                init.constant_(m.bias, 0)\n",
    "        \n",
    "    def forward(self, x):\n",
    "        x = self.features1(x)\n",
    "        x = self.features2(x)\n",
    "        x = self.features3(x)\n",
    "        x = x.view(x.size(0), -1)\n",
    "        x = self.classifier(x)\n",
    "        return x"
   ]
  },
  {
   "cell_type": "code",
   "execution_count": 11,
   "id": "621c6db2-e8a3-42cc-ab36-5694abdf5764",
   "metadata": {},
   "outputs": [],
   "source": [
    "device = torch.device(\"cuda\" if torch.cuda.is_available() else \"cpu\")"
   ]
  },
  {
   "cell_type": "code",
   "execution_count": 12,
   "id": "31f61bca",
   "metadata": {},
   "outputs": [
    {
     "name": "stdout",
     "output_type": "stream",
     "text": [
      "----------------------------------------------------------------\n",
      "        Layer (type)               Output Shape         Param #\n",
      "================================================================\n",
      "            Conv2d-1           [512, 6, 28, 28]             150\n",
      "       BatchNorm2d-2           [512, 6, 28, 28]              12\n",
      "              ReLU-3           [512, 6, 28, 28]               0\n",
      "         MaxPool2d-4           [512, 6, 14, 14]               0\n",
      "         Dropout2d-5           [512, 6, 14, 14]               0\n",
      "            Conv2d-6          [512, 16, 10, 10]           2,400\n",
      "       BatchNorm2d-7          [512, 16, 10, 10]              32\n",
      "              ReLU-8          [512, 16, 10, 10]               0\n",
      "         MaxPool2d-9            [512, 16, 5, 5]               0\n",
      "        Dropout2d-10            [512, 16, 5, 5]               0\n",
      "           Conv2d-11           [512, 120, 1, 1]          48,000\n",
      "      BatchNorm2d-12           [512, 120, 1, 1]             240\n",
      "             ReLU-13           [512, 120, 1, 1]               0\n",
      "        Dropout2d-14           [512, 120, 1, 1]               0\n",
      "           Linear-15                  [512, 84]          10,164\n",
      "             ReLU-16                  [512, 84]               0\n",
      "          Dropout-17                  [512, 84]               0\n",
      "           Linear-18                  [512, 10]             850\n",
      "================================================================\n",
      "Total params: 61,848\n",
      "Trainable params: 61,848\n",
      "Non-trainable params: 0\n",
      "----------------------------------------------------------------\n",
      "Input size (MB): 2.00\n",
      "Forward/backward pass size (MB): 89.09\n",
      "Params size (MB): 0.24\n",
      "Estimated Total Size (MB): 91.32\n",
      "----------------------------------------------------------------\n"
     ]
    }
   ],
   "source": [
    "# Instantiate the model\n",
    "model = LeNet()\n",
    "model = model.to(device)\n",
    "\n",
    "# Test with a random input\n",
    "summary(model, input_size=(1, 32, 32), batch_size=BATCH_SIZE)"
   ]
  },
  {
   "cell_type": "markdown",
   "id": "6d186351-babd-4d4e-886e-d9338ca71640",
   "metadata": {},
   "source": [
    "#### 1. Cross Entropy Loss\n",
    "The standard cross-entropy loss for classification tasks is given by:\n",
    "\n",
    "$$ \\text{Traditional Cross Entropy Loss: } H(y, \\hat{y}) = - \\sum_i y_i \\log(\\hat{y}_i) $$\n",
    "\n",
    " - $y_i$ is a binary indicator of whether class $i$ is the correct classification.  \n",
    " - $p_i$ is the predicted probability of class $i$.\n",
    "\n",
    "#### 2. Label Smoothed Cross Entropy\n",
    "Label Smoothing Cross Entropy Loss introduces a modification to the target distribution:\n",
    "\n",
    " $$ \\text{Label Smoothed Cross Entropy Loss} = - \\sum_i \\left( (1 - \\text{smoothing}) \\cdot 1_{\\{y_i\\}} + \\frac{\\text{smoothing}}{C-1} \\cdot 1_{\\{1 - y_i\\}} \\right) \\cdot \\log(p_i) $$\n",
    "\n",
    "Where:\n",
    "- $1_{\\{y_i\\}}$ is a binary indicator of whether class $i$ is the correct classification.\n",
    "- $p_i$ is the predicted probability of class $i$.\n",
    "- $C$ is the number of classes.\n",
    "- $\\text{smoothing}$  is the smoothing factor.\n",
    "\n"
   ]
  },
  {
   "cell_type": "code",
   "execution_count": 13,
   "id": "5556bcc8-3ff2-4169-b316-0a7b17aa1d2e",
   "metadata": {},
   "outputs": [],
   "source": [
    "class LabelSmoothedCrossEntropy(nn.Module):\n",
    "    def __init__(self, num_classes, smoothing):\n",
    "        super(LabelSmoothedCrossEntropy, self).__init__()\n",
    "        self.num_classes = num_classes\n",
    "        self.smoothing = smoothing\n",
    "        self.confidence = 1.0 - smoothing\n",
    "\n",
    "    def forward(self, input_logits, target):\n",
    "        log_probs = F.log_softmax(input_logits, dim=-1)\n",
    "        true_dist = torch.zeros_like(log_probs)\n",
    "        true_dist.fill_(self.smoothing / (self.num_classes - 1))\n",
    "        true_dist.scatter_(1, target.data.unsqueeze(1), self.confidence)\n",
    "        loss = -torch.sum(true_dist * log_probs) / input_logits.size(0)\n",
    "        return loss"
   ]
  },
  {
   "cell_type": "code",
   "execution_count": 68,
   "id": "262d50c6-de05-416f-8ad7-14792edf403c",
   "metadata": {},
   "outputs": [],
   "source": [
    "# Initialize loss\n",
    "# criterion = nn.CrossEntropyLoss()\n",
    "criterion = LabelSmoothedCrossEntropy(num_classes=N_CLASSES, smoothing=LABEL_SMOOTHING)\n",
    "\n",
    "# Initialize optimizer\n",
    "optimizer = optim.Adam(model.parameters(), lr=LR)"
   ]
  },
  {
   "cell_type": "markdown",
   "id": "7f78d5cf-5ad7-4d10-be31-cb8d498227c4",
   "metadata": {},
   "source": [
    "#### Cosine Annealing With Warmup"
   ]
  },
  {
   "cell_type": "code",
   "execution_count": 69,
   "id": "6ebc561a-59b6-4848-92f0-bb32d4682d1d",
   "metadata": {},
   "outputs": [],
   "source": [
    "def get_lr_lambda(initial_lr, warmup_steps, total_steps):\n",
    "    def lr_lambda(current_step):\n",
    "        if current_step < warmup_steps:\n",
    "            return initial_lr + (1.0 - initial_lr) * float(current_step) / float(max(1, warmup_steps))\n",
    "        else:\n",
    "            return max(0.0, 0.5 * (1.0 + math.cos(math.pi * (current_step - warmup_steps) / float(total_steps - warmup_steps))))\n",
    "    return lr_lambda"
   ]
  },
  {
   "cell_type": "code",
   "execution_count": 70,
   "id": "b45993ef-a7a2-4154-9eeb-d10e5e003e4d",
   "metadata": {},
   "outputs": [],
   "source": [
    "len_dataloader = len(train_dataloader)\n",
    "num_update_steps_per_epoch = max(len_dataloader, 1) \n",
    "num_examples = len(train_dataloader.dataset)\n",
    "max_steps = math.ceil(EPOCHS * num_update_steps_per_epoch)\n",
    "num_warmup_steps = math.ceil(max_steps * WARMUP_PROPORTION)\n",
    "lr_lambda = get_lr_lambda(LR, num_warmup_steps, max_steps)\n",
    "scheduler = lr_scheduler.LambdaLR(optimizer, lr_lambda=lr_lambda)"
   ]
  },
  {
   "cell_type": "markdown",
   "id": "e88f5212-0ec9-4be0-bca4-260d4d6f6cf1",
   "metadata": {
    "jp-MarkdownHeadingCollapsed": true
   },
   "source": [
    "#### LR Finder"
   ]
  },
  {
   "cell_type": "code",
   "execution_count": 71,
   "id": "c872fb49-b472-44e3-bc6c-bfced9e7a162",
   "metadata": {},
   "outputs": [],
   "source": [
    "class TrainDataLoaderIter:\n",
    "    \"\"\"\n",
    "    Iterator for a PyTorch DataLoader, facilitating easy iteration over batches of data.\n",
    "\n",
    "    Args:\n",
    "        dataloader (torch.utils.data.DataLoader): The PyTorch DataLoader providing batches of data.\n",
    "        auto_reset (bool, optional): If True, the iterator resets to the beginning of the DataLoader\n",
    "            when it reaches the end. If False, a StopIteration exception is raised at the end.\n",
    "            Default is True.\n",
    "\n",
    "    Methods:\n",
    "        inputs_labels_from_batch(batch_data):\n",
    "            Extracts inputs and labels from a batch of data.\n",
    "\n",
    "        __next__():\n",
    "            Gets the next batch of data from the DataLoader, automatically resetting if necessary.\n",
    "\n",
    "        __iter__():\n",
    "            Returns the iterator object.\n",
    "\n",
    "    Usage:\n",
    "        # Create a TrainDataLoaderIter object\n",
    "        train_iter = TrainDataLoaderIter(train_dataloader)\n",
    "\n",
    "        # Iterate over batches of data\n",
    "        for inputs, labels in train_iter:\n",
    "            # Perform training using the current batch\n",
    "\n",
    "    Example with custom inputs_labels_from_batch:\n",
    "        class CustomTrainDataLoaderIter(TrainDataLoaderIter):\n",
    "            def inputs_labels_from_batch(self, batch_data):\n",
    "                # Custom logic to extract inputs and labels from the batch_data\n",
    "                inputs, labels = batch_data['data'], batch_data['label']\n",
    "                return inputs, labels\n",
    "    \"\"\"\n",
    "    def __init__(self, dataloader, auto_reset=True):\n",
    "        \"\"\"\n",
    "        Initialize the TrainDataLoaderIter.\n",
    "\n",
    "        Args:\n",
    "            dataloader (torch.utils.data.DataLoader): The PyTorch DataLoader providing batches of data.\n",
    "            auto_reset (bool, optional): If True, the iterator resets to the beginning of the DataLoader\n",
    "                when it reaches the end. If False, a StopIteration exception is raised at the end.\n",
    "                Default is True.\n",
    "        \"\"\"\n",
    "        self.dataloader = dataloader\n",
    "        self._iterator = iter(dataloader)\n",
    "        self.auto_reset = auto_reset\n",
    "\n",
    "    def inputs_labels_from_batch(self, batch_data):\n",
    "        \"\"\"\n",
    "        Extract inputs and labels from a batch of data.\n",
    "\n",
    "        Args:\n",
    "            batch_data: Batch of data returned by the DataLoader.\n",
    "\n",
    "        Returns:\n",
    "            Tuple: A tuple containing inputs and labels extracted from the batch_data.\n",
    "        \"\"\"\n",
    "        inputs, labels = batch_data\n",
    "        return inputs, labels\n",
    "\n",
    "    def __next__(self):\n",
    "        \"\"\"\n",
    "        Get the next batch of data from the DataLoader, automatically resetting if necessary.\n",
    "\n",
    "        Returns:\n",
    "            Tuple: A tuple containing inputs and labels for the next batch of data.\n",
    "\n",
    "        Raises:\n",
    "            StopIteration: If auto_reset is False and the end of the DataLoader is reached.\n",
    "        \"\"\"\n",
    "        try:\n",
    "            batch = next(self._iterator)\n",
    "            inputs, labels = self.inputs_labels_from_batch(batch)\n",
    "        except StopIteration:\n",
    "            if self.auto_reset:\n",
    "                self._iterator = iter(self.dataloader)\n",
    "                batch = next(self._iterator)\n",
    "                inputs, labels = self.inputs_labels_from_batch(batch)\n",
    "            else:\n",
    "                raise\n",
    "\n",
    "        return inputs, labels\n",
    "\n",
    "    def __iter__(self):\n",
    "        \"\"\"\n",
    "        Returns the iterator object.\n",
    "\n",
    "        Returns:\n",
    "            self: The iterator object.\n",
    "        \"\"\"\n",
    "        return self"
   ]
  },
  {
   "cell_type": "code",
   "execution_count": 72,
   "id": "b37eec82-ec8f-407e-be48-d3c532047c7c",
   "metadata": {},
   "outputs": [],
   "source": [
    "class LinearLR(torch.optim.lr_scheduler._LRScheduler):\n",
    "    \"\"\"\n",
    "    Linear learning rate scheduler.\n",
    "\n",
    "    Args:\n",
    "        optimizer (torch.optim.Optimizer): Optimizer to adjust the learning rate for.\n",
    "        end_lr (float): The final learning rate after the specified number of iterations.\n",
    "        num_iter (int): The total number of iterations for the learning rate schedule.\n",
    "        last_epoch (int, optional): The index of the last epoch. Default is -1.\n",
    "\n",
    "    Methods:\n",
    "        get_lr():\n",
    "            Calculate the linearly adjusted learning rates based on the current iteration.\n",
    "\n",
    "    Usage:\n",
    "        # Create a LinearLR scheduler\n",
    "        linear_scheduler = LinearLR(optimizer, end_lr=0.001, num_iter=100)\n",
    "\n",
    "        # Inside the training loop\n",
    "        for epoch in range(num_epochs):\n",
    "            for batch in data_loader:\n",
    "                # Perform training using the current batch\n",
    "\n",
    "                # Update the learning rate\n",
    "                linear_scheduler.step()\n",
    "\n",
    "    Note: Ensure that the scheduler is called within the training loop after each training step.\n",
    "\n",
    "    Example:\n",
    "        linear_scheduler = LinearLR(optimizer, end_lr=0.001, num_iter=100)\n",
    "        for epoch in range(num_epochs):\n",
    "            for batch in data_loader:\n",
    "                # Perform training using the current batch\n",
    "\n",
    "                # Update the learning rate\n",
    "                linear_scheduler.step()\n",
    "    \"\"\"\n",
    "\n",
    "    def __init__(self, optimizer, end_lr, num_iter, last_epoch=-1):\n",
    "        \"\"\"\n",
    "        Initialize the LinearLR scheduler.\n",
    "\n",
    "        Args:\n",
    "            optimizer (torch.optim.Optimizer): Optimizer to adjust the learning rate for.\n",
    "            end_lr (float): The final learning rate after the specified number of iterations.\n",
    "            num_iter (int): The total number of iterations for the learning rate schedule.\n",
    "            last_epoch (int, optional): The index of the last epoch. Default is -1.\n",
    "        \"\"\"\n",
    "        self.end_lr = end_lr\n",
    "        self.num_iter = num_iter\n",
    "        super(LinearLR, self).__init__(optimizer, last_epoch)\n",
    "\n",
    "    def get_lr(self):\n",
    "        \"\"\"\n",
    "        Calculate the linearly adjusted learning rates based on the current iteration.\n",
    "\n",
    "        Returns:\n",
    "            list: List of adjusted learning rates for each parameter group.\n",
    "        \"\"\"\n",
    "        r = self.last_epoch / (self.num_iter - 1)\n",
    "        return [base_lr + r * (self.end_lr - base_lr) for base_lr in self.base_lrs]\n",
    "\n",
    "    \n",
    "class ExponentialLR(torch.optim.lr_scheduler._LRScheduler):\n",
    "    \"\"\"\n",
    "    Exponential learning rate scheduler.\n",
    "\n",
    "    Args:\n",
    "        optimizer (torch.optim.Optimizer): Optimizer to adjust the learning rate for.\n",
    "        end_lr (float): The final learning rate after the specified number of iterations.\n",
    "        num_iter (int): The total number of iterations for the learning rate schedule.\n",
    "        last_epoch (int, optional): The index of the last epoch. Default is -1.\n",
    "\n",
    "    Methods:\n",
    "        get_lr():\n",
    "            Calculate the exponentially adjusted learning rates based on the current iteration.\n",
    "\n",
    "    Usage:\n",
    "        # Create an ExponentialLR scheduler\n",
    "        exponential_scheduler = ExponentialLR(optimizer, end_lr=0.001, num_iter=100)\n",
    "\n",
    "        # Inside the training loop\n",
    "        for epoch in range(num_epochs):\n",
    "            for batch in data_loader:\n",
    "                # Perform training using the current batch\n",
    "\n",
    "                # Update the learning rate\n",
    "                exponential_scheduler.step()\n",
    "\n",
    "    Note: Ensure that the scheduler is called within the training loop after each training step.\n",
    "\n",
    "    Example:\n",
    "        exponential_scheduler = ExponentialLR(optimizer, end_lr=0.001, num_iter=100)\n",
    "        for epoch in range(num_epochs):\n",
    "            for batch in data_loader:\n",
    "                # Perform training using the current batch\n",
    "\n",
    "                # Update the learning rate\n",
    "                exponential_scheduler.step()\n",
    "    \"\"\"\n",
    "\n",
    "    def __init__(self, optimizer, end_lr, num_iter, last_epoch=-1):\n",
    "        \"\"\"\n",
    "        Initialize the ExponentialLR scheduler.\n",
    "\n",
    "        Args:\n",
    "            optimizer (torch.optim.Optimizer): Optimizer to adjust the learning rate for.\n",
    "            end_lr (float): The final learning rate after the specified number of iterations.\n",
    "            num_iter (int): The total number of iterations for the learning rate schedule.\n",
    "            last_epoch (int, optional): The index of the last epoch. Default is -1.\n",
    "        \"\"\"\n",
    "        self.end_lr = end_lr\n",
    "        self.num_iter = num_iter\n",
    "        super(ExponentialLR, self).__init__(optimizer, last_epoch)\n",
    "\n",
    "    def get_lr(self):\n",
    "        \"\"\"\n",
    "        Calculate the exponentially adjusted learning rates based on the current iteration.\n",
    "\n",
    "        Returns:\n",
    "            list: List of adjusted learning rates for each parameter group.\n",
    "        \"\"\"\n",
    "        r = self.last_epoch / (self.num_iter - 1)\n",
    "        return [base_lr * (self.end_lr / base_lr) ** r for base_lr in self.base_lrs]\n"
   ]
  },
  {
   "cell_type": "code",
   "execution_count": 73,
   "id": "1bde5469-f2cd-456e-b904-2bbff34dbdf1",
   "metadata": {},
   "outputs": [],
   "source": [
    "class LearningRateFinder:\n",
    "    \"\"\"\n",
    "    Learning rate finder class for determining an optimal learning rate during model training.\n",
    "\n",
    "    Args:\n",
    "        model (torch.nn.Module): The neural network model to train.\n",
    "        criterion: The loss function used for training.\n",
    "        optimizer: The optimizer used for updating model parameters.\n",
    "        device (torch.device): The device (CPU or GPU) on which to perform training.\n",
    "\n",
    "    Attributes:\n",
    "        model (torch.nn.Module): The neural network model to train.\n",
    "        criterion: The loss function used for training.\n",
    "        optimizer: The optimizer used for updating model parameters.\n",
    "        device (torch.device): The device (CPU or GPU) on which to perform training.\n",
    "        history (dict): A dictionary to store the learning rate and loss history during search.\n",
    "            Keys: 'lr' for learning rates, 'loss' for corresponding losses.\n",
    "        best_loss: The best observed loss during the learning rate search.\n",
    "\n",
    "    Methods:\n",
    "        find_lr(train_dataloader, start_lr=None, end_lr=10, num_iter=100, step_mode=\"exp\",\n",
    "                smooth_f=0.05, diverge_th=5, early_stop_patience=None):\n",
    "            Search for the optimal learning rate within the specified range.\n",
    "\n",
    "        _train_batch(train_iter):\n",
    "            Train a single batch and update the model parameters.\n",
    "\n",
    "        set_learning_rate(start_lrs):\n",
    "            Set the learning rate(s) for the optimizer.\n",
    "\n",
    "        plot(skip_start=10, skip_end=5, log_lr=True, show_lr=None):\n",
    "            Plot the learning rate search results and suggest an optimal learning rate.\n",
    "\n",
    "    Usage:\n",
    "        # Create a LearningRateFinder instance\n",
    "        lr_finder = LearningRateFinder(model, criterion, optimizer, device)\n",
    "\n",
    "        # Find the optimal learning rate\n",
    "        lr_finder.find_lr(train_dataloader, start_lr=1e-5, end_lr=10, num_iter=100)\n",
    "\n",
    "        # Plot the learning rate search results\n",
    "        lr_finder.plot()\n",
    "    \"\"\"\n",
    "    def __init__(self, model, criterion, optimizer, device):\n",
    "        \"\"\"\n",
    "        Initialize the LearningRateFinder.\n",
    "\n",
    "        Args:\n",
    "            model (torch.nn.Module): The neural network model to train.\n",
    "            criterion: The loss function used for training.\n",
    "            optimizer: The optimizer used for updating model parameters.\n",
    "            device (torch.device): The device (CPU or GPU) on which to perform training.\n",
    "        \"\"\"\n",
    "        self.model = model\n",
    "        self.criterion = criterion\n",
    "        self.optimizer = optimizer\n",
    "        self.device = device\n",
    "        self.history = {\"lr\": [], \"loss\": []}\n",
    "        self.best_loss = None\n",
    "        \n",
    "        self.model.to(device)\n",
    "        \n",
    "    def find_lr(\n",
    "        self, train_dataloader, \n",
    "        start_lr=None, end_lr=10, \n",
    "        num_iter=100, step_mode=\"exp\", \n",
    "        smooth_f=0.05, diverge_th=5,\n",
    "        early_stop_patience=None\n",
    "    ):\n",
    "        \"\"\"\n",
    "        Search for the optimal learning rate within the specified range.\n",
    "\n",
    "        Args:\n",
    "            train_dataloader: The dataloader providing training batches.\n",
    "            start_lr (float or List[float], optional): The starting learning rate(s).\n",
    "                If None, uses the learning rate(s) from the optimizer. Default is None.\n",
    "            end_lr (float): The ending learning rate for the search.\n",
    "            num_iter (int): The number of iterations for the search.\n",
    "            step_mode (str, optional): The mode for adjusting learning rates (\"exp\" or \"linear\").\n",
    "                Default is \"exp\".\n",
    "            smooth_f (float, optional): The smoothing factor for loss values. Default is 0.05.\n",
    "            diverge_th (float, optional): The threshold for loss divergence. Default is 5.\n",
    "            early_stop_patience (int, optional): The patience for early stopping. Default is None.\n",
    "\n",
    "        Returns:\n",
    "            None\n",
    "        \"\"\"\n",
    "        # Initialize variables to track learning rate search history\n",
    "        self.history = {\"lr\": [], \"loss\": []}\n",
    "        self.best_loss = None # Best loss during the learning rate search\n",
    "        early_stop_counter = 0 # Counter for early stopping criteria\n",
    "\n",
    "        # Set initial learning rate if provided\n",
    "        if start_lr:\n",
    "            self.set_learning_rate(start_lr)\n",
    "\n",
    "        # Choose a learning rate scheduler based on the specified step_mode\n",
    "        if step_mode == \"exp\":\n",
    "            lr_schedule = ExponentialLR(self.optimizer, end_lr=end_lr, num_iter=num_iter) \n",
    "        elif step_mode == \"linear\":\n",
    "            lr_schedule = LinearLR(self.optimizer, end_lr=end_lr, num_iter=num_iter)\n",
    "\n",
    "        # Create an iterator for the training dataloader\n",
    "        train_iter = TrainDataLoaderIter(train_dataloader)\n",
    "\n",
    "        # Iterate over the specified number of iterations to find the optimal learning rate\n",
    "        for iteration in tqdm(range(num_iter)):\n",
    "            # Train a batch and obtain the loss\n",
    "            loss = self._train_batch(\n",
    "                train_iter\n",
    "            )\n",
    "            # Record the current learning rate in the history\n",
    "            self.history[\"lr\"].append(lr_schedule.get_lr()[0])\n",
    "            lr_schedule.step() # Update the learning rate according to the scheduler\n",
    "\n",
    "            # Update the best_loss if this is the first iteration, or if a lower loss is encountered\n",
    "            if iteration == 0:\n",
    "                self.best_loss = loss\n",
    "            else:\n",
    "                # Apply smoothing to the loss if specified\n",
    "                if smooth_f > 0:\n",
    "                    loss = smooth_f * loss + (1 - smooth_f) * self.history[\"loss\"][-1]\n",
    "\n",
    "                # Update best_loss and early stopping counter if a lower loss is not encountered\n",
    "                if loss < self.best_loss:\n",
    "                    self.best_loss = loss\n",
    "                else:\n",
    "                    # Check for early stopping based on patience\n",
    "                    early_stop_counter += 1\n",
    "                    if early_stop_patience and early_stop_counter > early_stop_patience:\n",
    "                        print(f\"Early stopping: Loss has not improved for {early_stop_patience} iterations.\")\n",
    "                        break\n",
    "\n",
    "            # Record the current loss in the history\n",
    "            self.history[\"loss\"].append(loss)\n",
    "            # Check for divergence in loss and stop the search if criteria are met\n",
    "            if loss > diverge_th * self.best_loss:\n",
    "                print(\"Stopping early, the loss has diverged.\")\n",
    "                break\n",
    "\n",
    "        # Print a message indicating the completion of the learning rate search\n",
    "        print(\"Learning rate search finished.\")\n",
    "        \n",
    "    def _train_batch(self, train_iter):\n",
    "        \"\"\"\n",
    "        Train a single batch and update the model parameters.\n",
    "\n",
    "        Args:\n",
    "            train_iter: Iterator providing training batches.\n",
    "\n",
    "        Returns:\n",
    "            float: The loss value for the current batch.\n",
    "        \"\"\"\n",
    "        # Set the model in training mode and zero the gradients\n",
    "        self.model.train()\n",
    "        self.optimizer.zero_grad()\n",
    "\n",
    "        # Retrieve inputs and labels for the current batch\n",
    "        inputs, labels = next(train_iter)\n",
    "        inputs, labels = inputs.to(self.device), labels.to(self.device)\n",
    "\n",
    "        # Forward pass: compute model predictions and calculate the loss\n",
    "        outputs = self.model(inputs)\n",
    "        loss = self.criterion(outputs, labels)\n",
    "\n",
    "        # Backward pass: compute gradients and update model parameters\n",
    "        loss.backward()\n",
    "        self.optimizer.step()\n",
    "        \n",
    "        # Return the loss value as a float\n",
    "        return loss.item()\n",
    "    \n",
    "    def set_learning_rate(self, start_lrs):\n",
    "        \"\"\"\n",
    "        Set the learning rate(s) for the optimizer.\n",
    "\n",
    "        Args:\n",
    "            start_lrs (float or List[float]): The initial learning rate(s) to be set.\n",
    "\n",
    "        Returns:\n",
    "            None\n",
    "        \"\"\"\n",
    "        # Ensure start_lrs is a list to handle single and multiple parameter groups\n",
    "        if not isinstance(start_lrs, list):\n",
    "            start_lrs = [start_lrs] * len(self.optimizer.param_groups)\n",
    "\n",
    "        # Update the learning rate for each parameter group\n",
    "        for param_group, start_lr in zip(self.optimizer.param_groups, start_lrs):\n",
    "            param_group['lr'] = start_lr\n",
    "            \n",
    "    def plot(self, skip_start = 10, skip_end=5, log_lr=True, show_lr=None):\n",
    "        \"\"\"\n",
    "        Plot the learning rate search results and suggest an optimal learning rate.\n",
    "\n",
    "        Args:\n",
    "            skip_start (int, optional): Number of initial iterations to skip in the plot. Default is 10.\n",
    "            skip_end (int, optional): Number of final iterations to skip in the plot. Default is 5.\n",
    "            log_lr (bool, optional): Whether to use a logarithmic scale for the learning rate axis.\n",
    "                Default is True.\n",
    "            show_lr (float, optional): The learning rate to highlight on the plot.\n",
    "\n",
    "        Returns:\n",
    "            tuple: A tuple containing the plot axis and the suggested optimal learning rate.\n",
    "        \"\"\"\n",
    "        lrs = self.history[\"lr\"]\n",
    "        losses = self.history[\"loss\"]\n",
    "        if skip_end == 0:\n",
    "            lrs = lrs[skip_start:]\n",
    "            losses = losses[skip_start:]\n",
    "        else:\n",
    "            lrs = lrs[skip_start:-skip_end]\n",
    "            losses = losses[skip_start:-skip_end]\n",
    "            \n",
    "        fig, ax = plt.subplots()    \n",
    "        ax.plot(lrs, losses)\n",
    "        \n",
    "        print(\"LR suggestion: steepest gradient\")\n",
    "        min_grad_idx = (np.gradient(np.array(losses))).argmin()\n",
    "        print(\"Suggested LR: {:.2E}\".format(lrs[min_grad_idx]))\n",
    "        ax.scatter(\n",
    "            lrs[min_grad_idx],\n",
    "            losses[min_grad_idx],\n",
    "            s=75,\n",
    "            marker=\"o\",\n",
    "            color=\"red\",\n",
    "            zorder=3,\n",
    "            label=\"steepest gradient\",\n",
    "        )\n",
    "        ax.legend()\n",
    "        \n",
    "        if log_lr:\n",
    "            ax.set_xscale(\"log\")\n",
    "        ax.set_xlabel(\"Learning rate\")\n",
    "        ax.set_ylabel(\"Loss\")\n",
    "        \n",
    "        if show_lr is not None:\n",
    "            ax.axvline(x=show_lr, color=\"red\")\n",
    "            \n",
    "        plt.show()\n",
    "            \n",
    "        return ax, lrs[min_grad_idx]"
   ]
  },
  {
   "cell_type": "code",
   "execution_count": 74,
   "id": "2e6a0e9d-798f-4adc-b110-ef203922bb6e",
   "metadata": {},
   "outputs": [],
   "source": [
    "# lr_finder = LearningRateFinder(model, criterion, optimizer, device)\n",
    "# lr_finder.find_lr(train_dataloader, num_iter=500, start_lr=1e-3)\n",
    "# lr_finder.plot()"
   ]
  },
  {
   "cell_type": "markdown",
   "id": "6297eb60-ff83-4f9a-abbb-47919289ecc4",
   "metadata": {
    "jp-MarkdownHeadingCollapsed": true
   },
   "source": [
    "#### Train"
   ]
  },
  {
   "cell_type": "code",
   "execution_count": 75,
   "id": "34cd9acf",
   "metadata": {},
   "outputs": [],
   "source": [
    "def train(epoch):\n",
    "    model.train()\n",
    "    total_loss = 0.0\n",
    "\n",
    "    with tqdm(total=len(train_dataloader), desc=f\"Epoch {epoch}/Training\", unit=\"batch\") as pbar:\n",
    "        for i, (images, labels) in enumerate(train_dataloader):\n",
    "            images, labels = images.to(device), labels.to(device)\n",
    "            \n",
    "            optimizer.zero_grad()\n",
    "            output = model(images)\n",
    "            loss = criterion(output, labels)\n",
    "            loss.backward()\n",
    "            optimizer.step()\n",
    "            scheduler.step()\n",
    "            \n",
    "            total_loss += loss.item()\n",
    "            pbar.update(1)\n",
    "            pbar.set_postfix(loss=total_loss / (i+1), lr=f\"{optimizer.param_groups[0]['lr']:.5f}\")\n",
    "\n",
    "    avg_loss = total_loss / len(train_dataloader.dataset)\n",
    "    print(f\"[Train][Epoch {epoch}] Average Loss: {avg_loss:.5f}, Updated Learning Rate: {optimizer.param_groups[0]['lr']}\")"
   ]
  },
  {
   "cell_type": "markdown",
   "id": "a217af40-7a4e-4a1e-8cfc-133fc220090f",
   "metadata": {
    "jp-MarkdownHeadingCollapsed": true
   },
   "source": [
    "#### Eval"
   ]
  },
  {
   "cell_type": "code",
   "execution_count": 76,
   "id": "de2f38e6",
   "metadata": {},
   "outputs": [],
   "source": [
    "def test(epoch):\n",
    "    model.eval()\n",
    "    total_correct = 0\n",
    "    total_loss = 0.0\n",
    "\n",
    "    with tqdm(total=len(test_dataloader), desc=f\"Epoch {epoch}/Testing\", unit=\"batch\") as pbar: \n",
    "        with torch.no_grad():\n",
    "            for i, (images, labels) in enumerate(test_dataloader):\n",
    "                images, labels = images.to(device), labels.to(device)\n",
    "                \n",
    "                output = model(images)                \n",
    "                loss = criterion(output, labels)\n",
    "\n",
    "                total_loss += loss.item()\n",
    "                pbar.update(1)\n",
    "                pbar.set_postfix(loss=total_loss / (i+1))\n",
    "                \n",
    "                pred = output.detach().max(1)[1]\n",
    "                total_correct += pred.eq(labels.view_as(pred)).sum()\n",
    "            \n",
    "    avg_loss = total_loss / len(test_dataloader.dataset)\n",
    "    accuracy = total_correct / len(test_dataloader.dataset)\n",
    "    \n",
    "    print(f\"[Test][Epoch {epoch}] Loss: {avg_loss:.5f}, Accuracy: {accuracy:3f}\")\n",
    "    return avg_loss"
   ]
  },
  {
   "cell_type": "markdown",
   "id": "2e589a1d-848f-4045-813c-662ef287e348",
   "metadata": {},
   "source": [
    "#### Run"
   ]
  },
  {
   "cell_type": "code",
   "execution_count": 77,
   "id": "0c3cd024",
   "metadata": {},
   "outputs": [],
   "source": [
    "def run():\n",
    "    for epoch in range(EPOCHS):\n",
    "        train(epoch)\n",
    "        val_loss = test(epoch)"
   ]
  },
  {
   "cell_type": "code",
   "execution_count": 78,
   "id": "04e628b2-39af-4e82-8d13-e94a3f4ffd86",
   "metadata": {},
   "outputs": [
    {
     "data": {
      "application/vnd.jupyter.widget-view+json": {
       "model_id": "bd60a2ae1df04c81832bdd9c663bdc49",
       "version_major": 2,
       "version_minor": 0
      },
      "text/plain": [
       "Epoch 0/Training:   0%|          | 0/118 [00:00<?, ?batch/s]"
      ]
     },
     "metadata": {},
     "output_type": "display_data"
    },
    {
     "name": "stdout",
     "output_type": "stream",
     "text": [
      "[Train][Epoch 0] Average Loss: 0.00513, Updated Learning Rate: 0.00026943648\n"
     ]
    },
    {
     "data": {
      "application/vnd.jupyter.widget-view+json": {
       "model_id": "6042290bd9c9473f8295cac4d7c6c8e7",
       "version_major": 2,
       "version_minor": 0
      },
      "text/plain": [
       "Epoch 0/Testing:   0%|          | 0/20 [00:00<?, ?batch/s]"
      ]
     },
     "metadata": {},
     "output_type": "display_data"
    },
    {
     "name": "stdout",
     "output_type": "stream",
     "text": [
      "[Test][Epoch 0] Loss: 0.00363, Accuracy: 0.492800\n"
     ]
    },
    {
     "data": {
      "application/vnd.jupyter.widget-view+json": {
       "model_id": "1510882ea46a4784a068d22c3399cead",
       "version_major": 2,
       "version_minor": 0
      },
      "text/plain": [
       "Epoch 1/Training:   0%|          | 0/118 [00:00<?, ?batch/s]"
      ]
     },
     "metadata": {},
     "output_type": "display_data"
    },
    {
     "name": "stdout",
     "output_type": "stream",
     "text": [
      "[Train][Epoch 1] Average Loss: 0.00400, Updated Learning Rate: 0.00053707736\n"
     ]
    },
    {
     "data": {
      "application/vnd.jupyter.widget-view+json": {
       "model_id": "f6042a733f5c47529b707273a2463d74",
       "version_major": 2,
       "version_minor": 0
      },
      "text/plain": [
       "Epoch 1/Testing:   0%|          | 0/20 [00:00<?, ?batch/s]"
      ]
     },
     "metadata": {},
     "output_type": "display_data"
    },
    {
     "name": "stdout",
     "output_type": "stream",
     "text": [
      "[Test][Epoch 1] Loss: 0.00279, Accuracy: 0.698400\n"
     ]
    },
    {
     "data": {
      "application/vnd.jupyter.widget-view+json": {
       "model_id": "3514e881811f40958f240633bfef815c",
       "version_major": 2,
       "version_minor": 0
      },
      "text/plain": [
       "Epoch 2/Training:   0%|          | 0/118 [00:00<?, ?batch/s]"
      ]
     },
     "metadata": {},
     "output_type": "display_data"
    },
    {
     "name": "stdout",
     "output_type": "stream",
     "text": [
      "[Train][Epoch 2] Average Loss: 0.00337, Updated Learning Rate: 0.0008047182400000001\n"
     ]
    },
    {
     "data": {
      "application/vnd.jupyter.widget-view+json": {
       "model_id": "0504336c2e3e4ce58481594dc0731c0e",
       "version_major": 2,
       "version_minor": 0
      },
      "text/plain": [
       "Epoch 2/Testing:   0%|          | 0/20 [00:00<?, ?batch/s]"
      ]
     },
     "metadata": {},
     "output_type": "display_data"
    },
    {
     "name": "stdout",
     "output_type": "stream",
     "text": [
      "[Test][Epoch 2] Loss: 0.00212, Accuracy: 0.835500\n"
     ]
    },
    {
     "data": {
      "application/vnd.jupyter.widget-view+json": {
       "model_id": "fe740b54fb704b15a634810799ac4da1",
       "version_major": 2,
       "version_minor": 0
      },
      "text/plain": [
       "Epoch 3/Training:   0%|          | 0/118 [00:00<?, ?batch/s]"
      ]
     },
     "metadata": {},
     "output_type": "display_data"
    },
    {
     "name": "stdout",
     "output_type": "stream",
     "text": [
      "[Train][Epoch 3] Average Loss: 0.00284, Updated Learning Rate: 0.0010723591200000001\n"
     ]
    },
    {
     "data": {
      "application/vnd.jupyter.widget-view+json": {
       "model_id": "3f170f7d6aa34ca9bc71cccf3af89e88",
       "version_major": 2,
       "version_minor": 0
      },
      "text/plain": [
       "Epoch 3/Testing:   0%|          | 0/20 [00:00<?, ?batch/s]"
      ]
     },
     "metadata": {},
     "output_type": "display_data"
    },
    {
     "name": "stdout",
     "output_type": "stream",
     "text": [
      "[Test][Epoch 3] Loss: 0.00175, Accuracy: 0.902600\n"
     ]
    },
    {
     "data": {
      "application/vnd.jupyter.widget-view+json": {
       "model_id": "d3a50be71a9f46cd9b84bf56fc6b53a5",
       "version_major": 2,
       "version_minor": 0
      },
      "text/plain": [
       "Epoch 4/Training:   0%|          | 0/118 [00:00<?, ?batch/s]"
      ]
     },
     "metadata": {},
     "output_type": "display_data"
    },
    {
     "name": "stdout",
     "output_type": "stream",
     "text": [
      "[Train][Epoch 4] Average Loss: 0.00250, Updated Learning Rate: 0.00134\n"
     ]
    },
    {
     "data": {
      "application/vnd.jupyter.widget-view+json": {
       "model_id": "305f15e0cac74c58998d6b8c0064acd4",
       "version_major": 2,
       "version_minor": 0
      },
      "text/plain": [
       "Epoch 4/Testing:   0%|          | 0/20 [00:00<?, ?batch/s]"
      ]
     },
     "metadata": {},
     "output_type": "display_data"
    },
    {
     "name": "stdout",
     "output_type": "stream",
     "text": [
      "[Test][Epoch 4] Loss: 0.00161, Accuracy: 0.923100\n"
     ]
    },
    {
     "data": {
      "application/vnd.jupyter.widget-view+json": {
       "model_id": "0956cd884e954dca88617291b2d6979f",
       "version_major": 2,
       "version_minor": 0
      },
      "text/plain": [
       "Epoch 5/Training:   0%|          | 0/118 [00:00<?, ?batch/s]"
      ]
     },
     "metadata": {},
     "output_type": "display_data"
    },
    {
     "name": "stdout",
     "output_type": "stream",
     "text": [
      "[Train][Epoch 5] Average Loss: 0.00229, Updated Learning Rate: 0.0013383679136740822\n"
     ]
    },
    {
     "data": {
      "application/vnd.jupyter.widget-view+json": {
       "model_id": "1774b3f9fa67430ca2a0e754c117381d",
       "version_major": 2,
       "version_minor": 0
      },
      "text/plain": [
       "Epoch 5/Testing:   0%|          | 0/20 [00:00<?, ?batch/s]"
      ]
     },
     "metadata": {},
     "output_type": "display_data"
    },
    {
     "name": "stdout",
     "output_type": "stream",
     "text": [
      "[Test][Epoch 5] Loss: 0.00153, Accuracy: 0.937000\n"
     ]
    },
    {
     "data": {
      "application/vnd.jupyter.widget-view+json": {
       "model_id": "b8c6e7bb31544341899dbb28e436ff54",
       "version_major": 2,
       "version_minor": 0
      },
      "text/plain": [
       "Epoch 6/Training:   0%|          | 0/118 [00:00<?, ?batch/s]"
      ]
     },
     "metadata": {},
     "output_type": "display_data"
    },
    {
     "name": "stdout",
     "output_type": "stream",
     "text": [
      "[Train][Epoch 6] Average Loss: 0.00215, Updated Learning Rate: 0.001333479606056852\n"
     ]
    },
    {
     "data": {
      "application/vnd.jupyter.widget-view+json": {
       "model_id": "623550366bbf4621989dd8df0e554b6e",
       "version_major": 2,
       "version_minor": 0
      },
      "text/plain": [
       "Epoch 6/Testing:   0%|          | 0/20 [00:00<?, ?batch/s]"
      ]
     },
     "metadata": {},
     "output_type": "display_data"
    },
    {
     "name": "stdout",
     "output_type": "stream",
     "text": [
      "[Test][Epoch 6] Loss: 0.00149, Accuracy: 0.943900\n"
     ]
    },
    {
     "data": {
      "application/vnd.jupyter.widget-view+json": {
       "model_id": "be6ef87d4c1a4dc4ab677cdd009bc7b0",
       "version_major": 2,
       "version_minor": 0
      },
      "text/plain": [
       "Epoch 7/Training:   0%|          | 0/118 [00:00<?, ?batch/s]"
      ]
     },
     "metadata": {},
     "output_type": "display_data"
    },
    {
     "name": "stdout",
     "output_type": "stream",
     "text": [
      "[Train][Epoch 7] Average Loss: 0.00206, Updated Learning Rate: 0.0013253588924916498\n"
     ]
    },
    {
     "data": {
      "application/vnd.jupyter.widget-view+json": {
       "model_id": "f7a7116a83764b01a53c51b365871956",
       "version_major": 2,
       "version_minor": 0
      },
      "text/plain": [
       "Epoch 7/Testing:   0%|          | 0/20 [00:00<?, ?batch/s]"
      ]
     },
     "metadata": {},
     "output_type": "display_data"
    },
    {
     "name": "stdout",
     "output_type": "stream",
     "text": [
      "[Test][Epoch 7] Loss: 0.00145, Accuracy: 0.950800\n"
     ]
    },
    {
     "data": {
      "application/vnd.jupyter.widget-view+json": {
       "model_id": "5e4f005b73934c9f9b2469030efeea11",
       "version_major": 2,
       "version_minor": 0
      },
      "text/plain": [
       "Epoch 8/Training:   0%|          | 0/118 [00:00<?, ?batch/s]"
      ]
     },
     "metadata": {},
     "output_type": "display_data"
    },
    {
     "name": "stdout",
     "output_type": "stream",
     "text": [
      "[Train][Epoch 8] Average Loss: 0.00200, Updated Learning Rate: 0.0013140453362786738\n"
     ]
    },
    {
     "data": {
      "application/vnd.jupyter.widget-view+json": {
       "model_id": "c4500e3b3b9a4a9b8814b2992d8b6936",
       "version_major": 2,
       "version_minor": 0
      },
      "text/plain": [
       "Epoch 8/Testing:   0%|          | 0/20 [00:00<?, ?batch/s]"
      ]
     },
     "metadata": {},
     "output_type": "display_data"
    },
    {
     "name": "stdout",
     "output_type": "stream",
     "text": [
      "[Test][Epoch 8] Loss: 0.00144, Accuracy: 0.949500\n"
     ]
    },
    {
     "data": {
      "application/vnd.jupyter.widget-view+json": {
       "model_id": "b91d2d3f47544a01a138d6454ef2b414",
       "version_major": 2,
       "version_minor": 0
      },
      "text/plain": [
       "Epoch 9/Training:   0%|          | 0/118 [00:00<?, ?batch/s]"
      ]
     },
     "metadata": {},
     "output_type": "display_data"
    },
    {
     "name": "stdout",
     "output_type": "stream",
     "text": [
      "[Train][Epoch 9] Average Loss: 0.00194, Updated Learning Rate: 0.0012995940559265588\n"
     ]
    },
    {
     "data": {
      "application/vnd.jupyter.widget-view+json": {
       "model_id": "35bd0c58cea143d2b02d624adde40d7f",
       "version_major": 2,
       "version_minor": 0
      },
      "text/plain": [
       "Epoch 9/Testing:   0%|          | 0/20 [00:00<?, ?batch/s]"
      ]
     },
     "metadata": {},
     "output_type": "display_data"
    },
    {
     "name": "stdout",
     "output_type": "stream",
     "text": [
      "[Test][Epoch 9] Loss: 0.00141, Accuracy: 0.955900\n"
     ]
    },
    {
     "data": {
      "application/vnd.jupyter.widget-view+json": {
       "model_id": "cb84f0af688545f6b4f198ba5e1f8aa9",
       "version_major": 2,
       "version_minor": 0
      },
      "text/plain": [
       "Epoch 10/Training:   0%|          | 0/118 [00:00<?, ?batch/s]"
      ]
     },
     "metadata": {},
     "output_type": "display_data"
    },
    {
     "name": "stdout",
     "output_type": "stream",
     "text": [
      "[Train][Epoch 10] Average Loss: 0.00190, Updated Learning Rate: 0.0012820754566205425\n"
     ]
    },
    {
     "data": {
      "application/vnd.jupyter.widget-view+json": {
       "model_id": "2153bbb2808d41d3b206ac1cbddedeb1",
       "version_major": 2,
       "version_minor": 0
      },
      "text/plain": [
       "Epoch 10/Testing:   0%|          | 0/20 [00:00<?, ?batch/s]"
      ]
     },
     "metadata": {},
     "output_type": "display_data"
    },
    {
     "name": "stdout",
     "output_type": "stream",
     "text": [
      "[Test][Epoch 10] Loss: 0.00140, Accuracy: 0.955900\n"
     ]
    },
    {
     "data": {
      "application/vnd.jupyter.widget-view+json": {
       "model_id": "8735bf33ae34456b8c36218c31aa4e64",
       "version_major": 2,
       "version_minor": 0
      },
      "text/plain": [
       "Epoch 11/Training:   0%|          | 0/118 [00:00<?, ?batch/s]"
      ]
     },
     "metadata": {},
     "output_type": "display_data"
    },
    {
     "name": "stdout",
     "output_type": "stream",
     "text": [
      "[Train][Epoch 11] Average Loss: 0.00184, Updated Learning Rate: 0.001261574887215481\n"
     ]
    },
    {
     "data": {
      "application/vnd.jupyter.widget-view+json": {
       "model_id": "dca46bdd765a40ce906a261f1c0d4a52",
       "version_major": 2,
       "version_minor": 0
      },
      "text/plain": [
       "Epoch 11/Testing:   0%|          | 0/20 [00:00<?, ?batch/s]"
      ]
     },
     "metadata": {},
     "output_type": "display_data"
    },
    {
     "name": "stdout",
     "output_type": "stream",
     "text": [
      "[Test][Epoch 11] Loss: 0.00138, Accuracy: 0.959300\n"
     ]
    },
    {
     "data": {
      "application/vnd.jupyter.widget-view+json": {
       "model_id": "a9e8e8fa78354bfda46b7f6879cb2ddb",
       "version_major": 2,
       "version_minor": 0
      },
      "text/plain": [
       "Epoch 12/Training:   0%|          | 0/118 [00:00<?, ?batch/s]"
      ]
     },
     "metadata": {},
     "output_type": "display_data"
    },
    {
     "name": "stdout",
     "output_type": "stream",
     "text": [
      "[Train][Epoch 12] Average Loss: 0.00182, Updated Learning Rate: 0.0012381922244248053\n"
     ]
    },
    {
     "data": {
      "application/vnd.jupyter.widget-view+json": {
       "model_id": "9f357535719840ecba147d357793e706",
       "version_major": 2,
       "version_minor": 0
      },
      "text/plain": [
       "Epoch 12/Testing:   0%|          | 0/20 [00:00<?, ?batch/s]"
      ]
     },
     "metadata": {},
     "output_type": "display_data"
    },
    {
     "name": "stdout",
     "output_type": "stream",
     "text": [
      "[Test][Epoch 12] Loss: 0.00136, Accuracy: 0.960200\n"
     ]
    },
    {
     "data": {
      "application/vnd.jupyter.widget-view+json": {
       "model_id": "8c85eb25114f4b90af952ae8e02a84b8",
       "version_major": 2,
       "version_minor": 0
      },
      "text/plain": [
       "Epoch 13/Training:   0%|          | 0/118 [00:00<?, ?batch/s]"
      ]
     },
     "metadata": {},
     "output_type": "display_data"
    },
    {
     "name": "stdout",
     "output_type": "stream",
     "text": [
      "[Train][Epoch 13] Average Loss: 0.00179, Updated Learning Rate: 0.0012120413862312148\n"
     ]
    },
    {
     "data": {
      "application/vnd.jupyter.widget-view+json": {
       "model_id": "9aa5d7b431494f1dbf9e56d0c2d63a5d",
       "version_major": 2,
       "version_minor": 0
      },
      "text/plain": [
       "Epoch 13/Testing:   0%|          | 0/20 [00:00<?, ?batch/s]"
      ]
     },
     "metadata": {},
     "output_type": "display_data"
    },
    {
     "name": "stdout",
     "output_type": "stream",
     "text": [
      "[Test][Epoch 13] Loss: 0.00136, Accuracy: 0.961000\n"
     ]
    },
    {
     "data": {
      "application/vnd.jupyter.widget-view+json": {
       "model_id": "597facdddbfd4de8afff85de23e2eff2",
       "version_major": 2,
       "version_minor": 0
      },
      "text/plain": [
       "Epoch 14/Training:   0%|          | 0/118 [00:00<?, ?batch/s]"
      ]
     },
     "metadata": {},
     "output_type": "display_data"
    },
    {
     "name": "stdout",
     "output_type": "stream",
     "text": [
      "[Train][Epoch 14] Average Loss: 0.00176, Updated Learning Rate: 0.0011832497768897153\n"
     ]
    },
    {
     "data": {
      "application/vnd.jupyter.widget-view+json": {
       "model_id": "82b3e38cd3c64b718f4454fb4172073c",
       "version_major": 2,
       "version_minor": 0
      },
      "text/plain": [
       "Epoch 14/Testing:   0%|          | 0/20 [00:00<?, ?batch/s]"
      ]
     },
     "metadata": {},
     "output_type": "display_data"
    },
    {
     "name": "stdout",
     "output_type": "stream",
     "text": [
      "[Test][Epoch 14] Loss: 0.00133, Accuracy: 0.965500\n"
     ]
    },
    {
     "data": {
      "application/vnd.jupyter.widget-view+json": {
       "model_id": "22f745147f374194a0a1b259f425aa2a",
       "version_major": 2,
       "version_minor": 0
      },
      "text/plain": [
       "Epoch 15/Training:   0%|          | 0/118 [00:00<?, ?batch/s]"
      ]
     },
     "metadata": {},
     "output_type": "display_data"
    },
    {
     "name": "stdout",
     "output_type": "stream",
     "text": [
      "[Train][Epoch 15] Average Loss: 0.00174, Updated Learning Rate: 0.0011519576662268962\n"
     ]
    },
    {
     "data": {
      "application/vnd.jupyter.widget-view+json": {
       "model_id": "2374d55122124a47a186fc0c3d30dd86",
       "version_major": 2,
       "version_minor": 0
      },
      "text/plain": [
       "Epoch 15/Testing:   0%|          | 0/20 [00:00<?, ?batch/s]"
      ]
     },
     "metadata": {},
     "output_type": "display_data"
    },
    {
     "name": "stdout",
     "output_type": "stream",
     "text": [
      "[Test][Epoch 15] Loss: 0.00133, Accuracy: 0.967300\n"
     ]
    },
    {
     "data": {
      "application/vnd.jupyter.widget-view+json": {
       "model_id": "d40376b2880b42c091bdfe7f529d42bf",
       "version_major": 2,
       "version_minor": 0
      },
      "text/plain": [
       "Epoch 16/Training:   0%|          | 0/118 [00:00<?, ?batch/s]"
      ]
     },
     "metadata": {},
     "output_type": "display_data"
    },
    {
     "name": "stdout",
     "output_type": "stream",
     "text": [
      "[Train][Epoch 16] Average Loss: 0.00172, Updated Learning Rate: 0.001118317506260435\n"
     ]
    },
    {
     "data": {
      "application/vnd.jupyter.widget-view+json": {
       "model_id": "26f634236eb24f86a8885248fe23fbbe",
       "version_major": 2,
       "version_minor": 0
      },
      "text/plain": [
       "Epoch 16/Testing:   0%|          | 0/20 [00:00<?, ?batch/s]"
      ]
     },
     "metadata": {},
     "output_type": "display_data"
    },
    {
     "name": "stdout",
     "output_type": "stream",
     "text": [
      "[Test][Epoch 16] Loss: 0.00132, Accuracy: 0.965400\n"
     ]
    },
    {
     "data": {
      "application/vnd.jupyter.widget-view+json": {
       "model_id": "c56bb1575d924863a83410c14d3c8df1",
       "version_major": 2,
       "version_minor": 0
      },
      "text/plain": [
       "Epoch 17/Training:   0%|          | 0/118 [00:00<?, ?batch/s]"
      ]
     },
     "metadata": {},
     "output_type": "display_data"
    },
    {
     "name": "stdout",
     "output_type": "stream",
     "text": [
      "[Train][Epoch 17] Average Loss: 0.00170, Updated Learning Rate: 0.001082493188468191\n"
     ]
    },
    {
     "data": {
      "application/vnd.jupyter.widget-view+json": {
       "model_id": "a1562522c86b400ba1ac3de74c1344c4",
       "version_major": 2,
       "version_minor": 0
      },
      "text/plain": [
       "Epoch 17/Testing:   0%|          | 0/20 [00:00<?, ?batch/s]"
      ]
     },
     "metadata": {},
     "output_type": "display_data"
    },
    {
     "name": "stdout",
     "output_type": "stream",
     "text": [
      "[Test][Epoch 17] Loss: 0.00132, Accuracy: 0.967300\n"
     ]
    },
    {
     "data": {
      "application/vnd.jupyter.widget-view+json": {
       "model_id": "2aa6c697cc70448da1a90d8848d187ed",
       "version_major": 2,
       "version_minor": 0
      },
      "text/plain": [
       "Epoch 18/Training:   0%|          | 0/118 [00:00<?, ?batch/s]"
      ]
     },
     "metadata": {},
     "output_type": "display_data"
    },
    {
     "name": "stdout",
     "output_type": "stream",
     "text": [
      "[Train][Epoch 18] Average Loss: 0.00169, Updated Learning Rate: 0.0010446592453254005\n"
     ]
    },
    {
     "data": {
      "application/vnd.jupyter.widget-view+json": {
       "model_id": "d1cf6ea22a4b4c0fab1ccc6365f36c37",
       "version_major": 2,
       "version_minor": 0
      },
      "text/plain": [
       "Epoch 18/Testing:   0%|          | 0/20 [00:00<?, ?batch/s]"
      ]
     },
     "metadata": {},
     "output_type": "display_data"
    },
    {
     "name": "stdout",
     "output_type": "stream",
     "text": [
      "[Test][Epoch 18] Loss: 0.00131, Accuracy: 0.968600\n"
     ]
    },
    {
     "data": {
      "application/vnd.jupyter.widget-view+json": {
       "model_id": "0c59595b73704fab857050cc10687486",
       "version_major": 2,
       "version_minor": 0
      },
      "text/plain": [
       "Epoch 19/Training:   0%|          | 0/118 [00:00<?, ?batch/s]"
      ]
     },
     "metadata": {},
     "output_type": "display_data"
    },
    {
     "name": "stdout",
     "output_type": "stream",
     "text": [
      "[Train][Epoch 19] Average Loss: 0.00168, Updated Learning Rate: 0.001005\n"
     ]
    },
    {
     "data": {
      "application/vnd.jupyter.widget-view+json": {
       "model_id": "b603a3c02187485185d2cdb3afdccb2e",
       "version_major": 2,
       "version_minor": 0
      },
      "text/plain": [
       "Epoch 19/Testing:   0%|          | 0/20 [00:00<?, ?batch/s]"
      ]
     },
     "metadata": {},
     "output_type": "display_data"
    },
    {
     "name": "stdout",
     "output_type": "stream",
     "text": [
      "[Test][Epoch 19] Loss: 0.00130, Accuracy: 0.967900\n"
     ]
    },
    {
     "data": {
      "application/vnd.jupyter.widget-view+json": {
       "model_id": "147efd1ee35e46388d4929bab4484d28",
       "version_major": 2,
       "version_minor": 0
      },
      "text/plain": [
       "Epoch 20/Training:   0%|          | 0/118 [00:00<?, ?batch/s]"
      ]
     },
     "metadata": {},
     "output_type": "display_data"
    },
    {
     "name": "stdout",
     "output_type": "stream",
     "text": [
      "[Train][Epoch 20] Average Loss: 0.00166, Updated Learning Rate: 0.0009637086683486819\n"
     ]
    },
    {
     "data": {
      "application/vnd.jupyter.widget-view+json": {
       "model_id": "3776134de45e4c7f9233f57f6e42b008",
       "version_major": 2,
       "version_minor": 0
      },
      "text/plain": [
       "Epoch 20/Testing:   0%|          | 0/20 [00:00<?, ?batch/s]"
      ]
     },
     "metadata": {},
     "output_type": "display_data"
    },
    {
     "name": "stdout",
     "output_type": "stream",
     "text": [
      "[Test][Epoch 20] Loss: 0.00129, Accuracy: 0.970600\n"
     ]
    },
    {
     "data": {
      "application/vnd.jupyter.widget-view+json": {
       "model_id": "e4c7b95078ad4c88ae1dcac0eeb77929",
       "version_major": 2,
       "version_minor": 0
      },
      "text/plain": [
       "Epoch 21/Training:   0%|          | 0/118 [00:00<?, ?batch/s]"
      ]
     },
     "metadata": {},
     "output_type": "display_data"
    },
    {
     "name": "stdout",
     "output_type": "stream",
     "text": [
      "[Train][Epoch 21] Average Loss: 0.00165, Updated Learning Rate: 0.0009209864175886612\n"
     ]
    },
    {
     "data": {
      "application/vnd.jupyter.widget-view+json": {
       "model_id": "ded5637b0499455ca5047fbe08c65bfe",
       "version_major": 2,
       "version_minor": 0
      },
      "text/plain": [
       "Epoch 21/Testing:   0%|          | 0/20 [00:00<?, ?batch/s]"
      ]
     },
     "metadata": {},
     "output_type": "display_data"
    },
    {
     "name": "stdout",
     "output_type": "stream",
     "text": [
      "[Test][Epoch 21] Loss: 0.00129, Accuracy: 0.971200\n"
     ]
    },
    {
     "data": {
      "application/vnd.jupyter.widget-view+json": {
       "model_id": "a90b16a918ca4d40abaa54b6e0b2c3d0",
       "version_major": 2,
       "version_minor": 0
      },
      "text/plain": [
       "Epoch 22/Training:   0%|          | 0/118 [00:00<?, ?batch/s]"
      ]
     },
     "metadata": {},
     "output_type": "display_data"
    },
    {
     "name": "stdout",
     "output_type": "stream",
     "text": [
      "[Train][Epoch 22] Average Loss: 0.00164, Updated Learning Rate: 0.0008770413862312148\n"
     ]
    },
    {
     "data": {
      "application/vnd.jupyter.widget-view+json": {
       "model_id": "c19f8ac59587430ba87cad2c8c57d11e",
       "version_major": 2,
       "version_minor": 0
      },
      "text/plain": [
       "Epoch 22/Testing:   0%|          | 0/20 [00:00<?, ?batch/s]"
      ]
     },
     "metadata": {},
     "output_type": "display_data"
    },
    {
     "name": "stdout",
     "output_type": "stream",
     "text": [
      "[Test][Epoch 22] Loss: 0.00128, Accuracy: 0.972900\n"
     ]
    },
    {
     "data": {
      "application/vnd.jupyter.widget-view+json": {
       "model_id": "94e5504ccf76435188f12e689bf9a8dd",
       "version_major": 2,
       "version_minor": 0
      },
      "text/plain": [
       "Epoch 23/Training:   0%|          | 0/118 [00:00<?, ?batch/s]"
      ]
     },
     "metadata": {},
     "output_type": "display_data"
    },
    {
     "name": "stdout",
     "output_type": "stream",
     "text": [
      "[Train][Epoch 23] Average Loss: 0.00163, Updated Learning Rate: 0.0008320876700517773\n"
     ]
    },
    {
     "data": {
      "application/vnd.jupyter.widget-view+json": {
       "model_id": "9a080c3ba3dd4057b3b2ecd8f2145f40",
       "version_major": 2,
       "version_minor": 0
      },
      "text/plain": [
       "Epoch 23/Testing:   0%|          | 0/20 [00:00<?, ?batch/s]"
      ]
     },
     "metadata": {},
     "output_type": "display_data"
    },
    {
     "name": "stdout",
     "output_type": "stream",
     "text": [
      "[Test][Epoch 23] Loss: 0.00129, Accuracy: 0.969000\n"
     ]
    },
    {
     "data": {
      "application/vnd.jupyter.widget-view+json": {
       "model_id": "b864602aa6f04d4a8d02a1e8fb4e8744",
       "version_major": 2,
       "version_minor": 0
      },
      "text/plain": [
       "Epoch 24/Training:   0%|          | 0/118 [00:00<?, ?batch/s]"
      ]
     },
     "metadata": {},
     "output_type": "display_data"
    },
    {
     "name": "stdout",
     "output_type": "stream",
     "text": [
      "[Train][Epoch 24] Average Loss: 0.00162, Updated Learning Rate: 0.0007863442790368435\n"
     ]
    },
    {
     "data": {
      "application/vnd.jupyter.widget-view+json": {
       "model_id": "ba6c7a0d69c04ae1860e57e4433028ce",
       "version_major": 2,
       "version_minor": 0
      },
      "text/plain": [
       "Epoch 24/Testing:   0%|          | 0/20 [00:00<?, ?batch/s]"
      ]
     },
     "metadata": {},
     "output_type": "display_data"
    },
    {
     "name": "stdout",
     "output_type": "stream",
     "text": [
      "[Test][Epoch 24] Loss: 0.00128, Accuracy: 0.972100\n"
     ]
    },
    {
     "data": {
      "application/vnd.jupyter.widget-view+json": {
       "model_id": "1b825abb46b54655bb11435d7a3b4705",
       "version_major": 2,
       "version_minor": 0
      },
      "text/plain": [
       "Epoch 25/Training:   0%|          | 0/118 [00:00<?, ?batch/s]"
      ]
     },
     "metadata": {},
     "output_type": "display_data"
    },
    {
     "name": "stdout",
     "output_type": "stream",
     "text": [
      "[Train][Epoch 25] Average Loss: 0.00162, Updated Learning Rate: 0.0007400340703893279\n"
     ]
    },
    {
     "data": {
      "application/vnd.jupyter.widget-view+json": {
       "model_id": "19064228f6a84949b19090513ab6e1ed",
       "version_major": 2,
       "version_minor": 0
      },
      "text/plain": [
       "Epoch 25/Testing:   0%|          | 0/20 [00:00<?, ?batch/s]"
      ]
     },
     "metadata": {},
     "output_type": "display_data"
    },
    {
     "name": "stdout",
     "output_type": "stream",
     "text": [
      "[Test][Epoch 25] Loss: 0.00128, Accuracy: 0.973400\n"
     ]
    },
    {
     "data": {
      "application/vnd.jupyter.widget-view+json": {
       "model_id": "30d3b33e4a4b4bc7ab536345d8c270dc",
       "version_major": 2,
       "version_minor": 0
      },
      "text/plain": [
       "Epoch 26/Training:   0%|          | 0/118 [00:00<?, ?batch/s]"
      ]
     },
     "metadata": {},
     "output_type": "display_data"
    },
    {
     "name": "stdout",
     "output_type": "stream",
     "text": [
      "[Train][Epoch 26] Average Loss: 0.00161, Updated Learning Rate: 0.0006933826627906758\n"
     ]
    },
    {
     "data": {
      "application/vnd.jupyter.widget-view+json": {
       "model_id": "1ace4d28ac304836961ddae3530383ec",
       "version_major": 2,
       "version_minor": 0
      },
      "text/plain": [
       "Epoch 26/Testing:   0%|          | 0/20 [00:00<?, ?batch/s]"
      ]
     },
     "metadata": {},
     "output_type": "display_data"
    },
    {
     "name": "stdout",
     "output_type": "stream",
     "text": [
      "[Test][Epoch 26] Loss: 0.00128, Accuracy: 0.973100\n"
     ]
    },
    {
     "data": {
      "application/vnd.jupyter.widget-view+json": {
       "model_id": "042f694ce368483d84385c09a0f95333",
       "version_major": 2,
       "version_minor": 0
      },
      "text/plain": [
       "Epoch 27/Training:   0%|          | 0/118 [00:00<?, ?batch/s]"
      ]
     },
     "metadata": {},
     "output_type": "display_data"
    },
    {
     "name": "stdout",
     "output_type": "stream",
     "text": [
      "[Train][Epoch 27] Average Loss: 0.00160, Updated Learning Rate: 0.0006466173372093244\n"
     ]
    },
    {
     "data": {
      "application/vnd.jupyter.widget-view+json": {
       "model_id": "676b47726dcf4ec2a7569ea9b6deb328",
       "version_major": 2,
       "version_minor": 0
      },
      "text/plain": [
       "Epoch 27/Testing:   0%|          | 0/20 [00:00<?, ?batch/s]"
      ]
     },
     "metadata": {},
     "output_type": "display_data"
    },
    {
     "name": "stdout",
     "output_type": "stream",
     "text": [
      "[Test][Epoch 27] Loss: 0.00127, Accuracy: 0.973100\n"
     ]
    },
    {
     "data": {
      "application/vnd.jupyter.widget-view+json": {
       "model_id": "9fc7e16099bb4974a00228ec7b779b52",
       "version_major": 2,
       "version_minor": 0
      },
      "text/plain": [
       "Epoch 28/Training:   0%|          | 0/118 [00:00<?, ?batch/s]"
      ]
     },
     "metadata": {},
     "output_type": "display_data"
    },
    {
     "name": "stdout",
     "output_type": "stream",
     "text": [
      "[Train][Epoch 28] Average Loss: 0.00160, Updated Learning Rate: 0.0005999659296106721\n"
     ]
    },
    {
     "data": {
      "application/vnd.jupyter.widget-view+json": {
       "model_id": "e3967ec2041f42e9ae4dcbb5a8e738c2",
       "version_major": 2,
       "version_minor": 0
      },
      "text/plain": [
       "Epoch 28/Testing:   0%|          | 0/20 [00:00<?, ?batch/s]"
      ]
     },
     "metadata": {},
     "output_type": "display_data"
    },
    {
     "name": "stdout",
     "output_type": "stream",
     "text": [
      "[Test][Epoch 28] Loss: 0.00126, Accuracy: 0.975400\n"
     ]
    },
    {
     "data": {
      "application/vnd.jupyter.widget-view+json": {
       "model_id": "09c6a298d854494e8748d2356256f956",
       "version_major": 2,
       "version_minor": 0
      },
      "text/plain": [
       "Epoch 29/Training:   0%|          | 0/118 [00:00<?, ?batch/s]"
      ]
     },
     "metadata": {},
     "output_type": "display_data"
    },
    {
     "name": "stdout",
     "output_type": "stream",
     "text": [
      "[Train][Epoch 29] Average Loss: 0.00158, Updated Learning Rate: 0.0005536557209631567\n"
     ]
    },
    {
     "data": {
      "application/vnd.jupyter.widget-view+json": {
       "model_id": "69ba9f4f28a24e23860656c2e84c6e3e",
       "version_major": 2,
       "version_minor": 0
      },
      "text/plain": [
       "Epoch 29/Testing:   0%|          | 0/20 [00:00<?, ?batch/s]"
      ]
     },
     "metadata": {},
     "output_type": "display_data"
    },
    {
     "name": "stdout",
     "output_type": "stream",
     "text": [
      "[Test][Epoch 29] Loss: 0.00126, Accuracy: 0.974200\n"
     ]
    },
    {
     "data": {
      "application/vnd.jupyter.widget-view+json": {
       "model_id": "a650060b09b04ac28f1a3e6d346a2923",
       "version_major": 2,
       "version_minor": 0
      },
      "text/plain": [
       "Epoch 30/Training:   0%|          | 0/118 [00:00<?, ?batch/s]"
      ]
     },
     "metadata": {},
     "output_type": "display_data"
    },
    {
     "name": "stdout",
     "output_type": "stream",
     "text": [
      "[Train][Epoch 30] Average Loss: 0.00159, Updated Learning Rate: 0.0005079123299482226\n"
     ]
    },
    {
     "data": {
      "application/vnd.jupyter.widget-view+json": {
       "model_id": "2c9501d16c8c46ccbe87eab216e334a6",
       "version_major": 2,
       "version_minor": 0
      },
      "text/plain": [
       "Epoch 30/Testing:   0%|          | 0/20 [00:00<?, ?batch/s]"
      ]
     },
     "metadata": {},
     "output_type": "display_data"
    },
    {
     "name": "stdout",
     "output_type": "stream",
     "text": [
      "[Test][Epoch 30] Loss: 0.00126, Accuracy: 0.974000\n"
     ]
    },
    {
     "data": {
      "application/vnd.jupyter.widget-view+json": {
       "model_id": "e22ab29aecb44d45b9ad6c23b7bcb294",
       "version_major": 2,
       "version_minor": 0
      },
      "text/plain": [
       "Epoch 31/Training:   0%|          | 0/118 [00:00<?, ?batch/s]"
      ]
     },
     "metadata": {},
     "output_type": "display_data"
    },
    {
     "name": "stdout",
     "output_type": "stream",
     "text": [
      "[Train][Epoch 31] Average Loss: 0.00158, Updated Learning Rate: 0.0004629586137687853\n"
     ]
    },
    {
     "data": {
      "application/vnd.jupyter.widget-view+json": {
       "model_id": "622666e513bd41d29c1e2e894818bca1",
       "version_major": 2,
       "version_minor": 0
      },
      "text/plain": [
       "Epoch 31/Testing:   0%|          | 0/20 [00:00<?, ?batch/s]"
      ]
     },
     "metadata": {},
     "output_type": "display_data"
    },
    {
     "name": "stdout",
     "output_type": "stream",
     "text": [
      "[Test][Epoch 31] Loss: 0.00127, Accuracy: 0.973000\n"
     ]
    },
    {
     "data": {
      "application/vnd.jupyter.widget-view+json": {
       "model_id": "1d4e7c5a46584f978d419b0d0fccf12b",
       "version_major": 2,
       "version_minor": 0
      },
      "text/plain": [
       "Epoch 32/Training:   0%|          | 0/118 [00:00<?, ?batch/s]"
      ]
     },
     "metadata": {},
     "output_type": "display_data"
    },
    {
     "name": "stdout",
     "output_type": "stream",
     "text": [
      "[Train][Epoch 32] Average Loss: 0.00157, Updated Learning Rate: 0.0004190135824113389\n"
     ]
    },
    {
     "data": {
      "application/vnd.jupyter.widget-view+json": {
       "model_id": "776cdaf917f940d8a8c274b90e2a6824",
       "version_major": 2,
       "version_minor": 0
      },
      "text/plain": [
       "Epoch 32/Testing:   0%|          | 0/20 [00:00<?, ?batch/s]"
      ]
     },
     "metadata": {},
     "output_type": "display_data"
    },
    {
     "name": "stdout",
     "output_type": "stream",
     "text": [
      "[Test][Epoch 32] Loss: 0.00126, Accuracy: 0.973700\n"
     ]
    },
    {
     "data": {
      "application/vnd.jupyter.widget-view+json": {
       "model_id": "cfbc1141f942496abaf19737323a4c63",
       "version_major": 2,
       "version_minor": 0
      },
      "text/plain": [
       "Epoch 33/Training:   0%|          | 0/118 [00:00<?, ?batch/s]"
      ]
     },
     "metadata": {},
     "output_type": "display_data"
    },
    {
     "name": "stdout",
     "output_type": "stream",
     "text": [
      "[Train][Epoch 33] Average Loss: 0.00157, Updated Learning Rate: 0.0003762913316513183\n"
     ]
    },
    {
     "data": {
      "application/vnd.jupyter.widget-view+json": {
       "model_id": "ab542846458d4a5882e3360fb11776c5",
       "version_major": 2,
       "version_minor": 0
      },
      "text/plain": [
       "Epoch 33/Testing:   0%|          | 0/20 [00:00<?, ?batch/s]"
      ]
     },
     "metadata": {},
     "output_type": "display_data"
    },
    {
     "name": "stdout",
     "output_type": "stream",
     "text": [
      "[Test][Epoch 33] Loss: 0.00126, Accuracy: 0.975500\n"
     ]
    },
    {
     "data": {
      "application/vnd.jupyter.widget-view+json": {
       "model_id": "92094bc817564d46974135d22f2b95a2",
       "version_major": 2,
       "version_minor": 0
      },
      "text/plain": [
       "Epoch 34/Training:   0%|          | 0/118 [00:00<?, ?batch/s]"
      ]
     },
     "metadata": {},
     "output_type": "display_data"
    },
    {
     "name": "stdout",
     "output_type": "stream",
     "text": [
      "[Train][Epoch 34] Average Loss: 0.00157, Updated Learning Rate: 0.0003350000000000002\n"
     ]
    },
    {
     "data": {
      "application/vnd.jupyter.widget-view+json": {
       "model_id": "a3608c465d074ada9bee4beb7d6cbbe1",
       "version_major": 2,
       "version_minor": 0
      },
      "text/plain": [
       "Epoch 34/Testing:   0%|          | 0/20 [00:00<?, ?batch/s]"
      ]
     },
     "metadata": {},
     "output_type": "display_data"
    },
    {
     "name": "stdout",
     "output_type": "stream",
     "text": [
      "[Test][Epoch 34] Loss: 0.00126, Accuracy: 0.973400\n"
     ]
    },
    {
     "data": {
      "application/vnd.jupyter.widget-view+json": {
       "model_id": "d1a3d6b74d764e2fbd476a15e7301914",
       "version_major": 2,
       "version_minor": 0
      },
      "text/plain": [
       "Epoch 35/Training:   0%|          | 0/118 [00:00<?, ?batch/s]"
      ]
     },
     "metadata": {},
     "output_type": "display_data"
    },
    {
     "name": "stdout",
     "output_type": "stream",
     "text": [
      "[Train][Epoch 35] Average Loss: 0.00156, Updated Learning Rate: 0.0002953407546745997\n"
     ]
    },
    {
     "data": {
      "application/vnd.jupyter.widget-view+json": {
       "model_id": "e3367683576b4ce1a446ac4174eb2cf2",
       "version_major": 2,
       "version_minor": 0
      },
      "text/plain": [
       "Epoch 35/Testing:   0%|          | 0/20 [00:00<?, ?batch/s]"
      ]
     },
     "metadata": {},
     "output_type": "display_data"
    },
    {
     "name": "stdout",
     "output_type": "stream",
     "text": [
      "[Test][Epoch 35] Loss: 0.00126, Accuracy: 0.973700\n"
     ]
    },
    {
     "data": {
      "application/vnd.jupyter.widget-view+json": {
       "model_id": "33d20bd46fb44ad8879c62edfc0d25e9",
       "version_major": 2,
       "version_minor": 0
      },
      "text/plain": [
       "Epoch 36/Training:   0%|          | 0/118 [00:00<?, ?batch/s]"
      ]
     },
     "metadata": {},
     "output_type": "display_data"
    },
    {
     "name": "stdout",
     "output_type": "stream",
     "text": [
      "[Train][Epoch 36] Average Loss: 0.00156, Updated Learning Rate: 0.00025750681153180894\n"
     ]
    },
    {
     "data": {
      "application/vnd.jupyter.widget-view+json": {
       "model_id": "9ecea7e7ac25487b9c840a0f8b5daf0d",
       "version_major": 2,
       "version_minor": 0
      },
      "text/plain": [
       "Epoch 36/Testing:   0%|          | 0/20 [00:00<?, ?batch/s]"
      ]
     },
     "metadata": {},
     "output_type": "display_data"
    },
    {
     "name": "stdout",
     "output_type": "stream",
     "text": [
      "[Test][Epoch 36] Loss: 0.00125, Accuracy: 0.974600\n"
     ]
    },
    {
     "data": {
      "application/vnd.jupyter.widget-view+json": {
       "model_id": "7e814fbd8cde4629a1910f5dafc19c6c",
       "version_major": 2,
       "version_minor": 0
      },
      "text/plain": [
       "Epoch 37/Training:   0%|          | 0/118 [00:00<?, ?batch/s]"
      ]
     },
     "metadata": {},
     "output_type": "display_data"
    },
    {
     "name": "stdout",
     "output_type": "stream",
     "text": [
      "[Train][Epoch 37] Average Loss: 0.00155, Updated Learning Rate: 0.00022168249373956498\n"
     ]
    },
    {
     "data": {
      "application/vnd.jupyter.widget-view+json": {
       "model_id": "f8c89513533f4a848319fd861ab56924",
       "version_major": 2,
       "version_minor": 0
      },
      "text/plain": [
       "Epoch 37/Testing:   0%|          | 0/20 [00:00<?, ?batch/s]"
      ]
     },
     "metadata": {},
     "output_type": "display_data"
    },
    {
     "name": "stdout",
     "output_type": "stream",
     "text": [
      "[Test][Epoch 37] Loss: 0.00125, Accuracy: 0.975300\n"
     ]
    },
    {
     "data": {
      "application/vnd.jupyter.widget-view+json": {
       "model_id": "ef84579da4334e3eb7d5464665ec33e8",
       "version_major": 2,
       "version_minor": 0
      },
      "text/plain": [
       "Epoch 38/Training:   0%|          | 0/118 [00:00<?, ?batch/s]"
      ]
     },
     "metadata": {},
     "output_type": "display_data"
    },
    {
     "name": "stdout",
     "output_type": "stream",
     "text": [
      "[Train][Epoch 38] Average Loss: 0.00156, Updated Learning Rate: 0.00018804233377310385\n"
     ]
    },
    {
     "data": {
      "application/vnd.jupyter.widget-view+json": {
       "model_id": "e9eade234de54592ac9ed3b3de2c53a1",
       "version_major": 2,
       "version_minor": 0
      },
      "text/plain": [
       "Epoch 38/Testing:   0%|          | 0/20 [00:00<?, ?batch/s]"
      ]
     },
     "metadata": {},
     "output_type": "display_data"
    },
    {
     "name": "stdout",
     "output_type": "stream",
     "text": [
      "[Test][Epoch 38] Loss: 0.00125, Accuracy: 0.975100\n"
     ]
    },
    {
     "data": {
      "application/vnd.jupyter.widget-view+json": {
       "model_id": "fb2737cc0cfd4e2d9a7d68edbeea4446",
       "version_major": 2,
       "version_minor": 0
      },
      "text/plain": [
       "Epoch 39/Training:   0%|          | 0/118 [00:00<?, ?batch/s]"
      ]
     },
     "metadata": {},
     "output_type": "display_data"
    },
    {
     "name": "stdout",
     "output_type": "stream",
     "text": [
      "[Train][Epoch 39] Average Loss: 0.00155, Updated Learning Rate: 0.00015675022311028482\n"
     ]
    },
    {
     "data": {
      "application/vnd.jupyter.widget-view+json": {
       "model_id": "c038df6d29be4f2db6aa3f0e2ea7651b",
       "version_major": 2,
       "version_minor": 0
      },
      "text/plain": [
       "Epoch 39/Testing:   0%|          | 0/20 [00:00<?, ?batch/s]"
      ]
     },
     "metadata": {},
     "output_type": "display_data"
    },
    {
     "name": "stdout",
     "output_type": "stream",
     "text": [
      "[Test][Epoch 39] Loss: 0.00126, Accuracy: 0.974600\n"
     ]
    },
    {
     "data": {
      "application/vnd.jupyter.widget-view+json": {
       "model_id": "3c099036048c4864ae5a077fa9ec9979",
       "version_major": 2,
       "version_minor": 0
      },
      "text/plain": [
       "Epoch 40/Training:   0%|          | 0/118 [00:00<?, ?batch/s]"
      ]
     },
     "metadata": {},
     "output_type": "display_data"
    },
    {
     "name": "stdout",
     "output_type": "stream",
     "text": [
      "[Train][Epoch 40] Average Loss: 0.00155, Updated Learning Rate: 0.0001279586137687853\n"
     ]
    },
    {
     "data": {
      "application/vnd.jupyter.widget-view+json": {
       "model_id": "f2bd90479af54230afdeaac2a43db87d",
       "version_major": 2,
       "version_minor": 0
      },
      "text/plain": [
       "Epoch 40/Testing:   0%|          | 0/20 [00:00<?, ?batch/s]"
      ]
     },
     "metadata": {},
     "output_type": "display_data"
    },
    {
     "name": "stdout",
     "output_type": "stream",
     "text": [
      "[Test][Epoch 40] Loss: 0.00125, Accuracy: 0.975300\n"
     ]
    },
    {
     "data": {
      "application/vnd.jupyter.widget-view+json": {
       "model_id": "2b7cf61225ca49b48e0cf0639cdb6e24",
       "version_major": 2,
       "version_minor": 0
      },
      "text/plain": [
       "Epoch 41/Training:   0%|          | 0/118 [00:00<?, ?batch/s]"
      ]
     },
     "metadata": {},
     "output_type": "display_data"
    },
    {
     "name": "stdout",
     "output_type": "stream",
     "text": [
      "[Train][Epoch 41] Average Loss: 0.00155, Updated Learning Rate: 0.00010180777557519461\n"
     ]
    },
    {
     "data": {
      "application/vnd.jupyter.widget-view+json": {
       "model_id": "e399a29191ec47358978a7fe0798efe5",
       "version_major": 2,
       "version_minor": 0
      },
      "text/plain": [
       "Epoch 41/Testing:   0%|          | 0/20 [00:00<?, ?batch/s]"
      ]
     },
     "metadata": {},
     "output_type": "display_data"
    },
    {
     "name": "stdout",
     "output_type": "stream",
     "text": [
      "[Test][Epoch 41] Loss: 0.00125, Accuracy: 0.974900\n"
     ]
    },
    {
     "data": {
      "application/vnd.jupyter.widget-view+json": {
       "model_id": "8fc0396eac8d44bcac8b14667c3c48ea",
       "version_major": 2,
       "version_minor": 0
      },
      "text/plain": [
       "Epoch 42/Training:   0%|          | 0/118 [00:00<?, ?batch/s]"
      ]
     },
     "metadata": {},
     "output_type": "display_data"
    },
    {
     "name": "stdout",
     "output_type": "stream",
     "text": [
      "[Train][Epoch 42] Average Loss: 0.00155, Updated Learning Rate: 7.842511278451892e-05\n"
     ]
    },
    {
     "data": {
      "application/vnd.jupyter.widget-view+json": {
       "model_id": "a697579bacbc40968eb5a5f4340cb02e",
       "version_major": 2,
       "version_minor": 0
      },
      "text/plain": [
       "Epoch 42/Testing:   0%|          | 0/20 [00:00<?, ?batch/s]"
      ]
     },
     "metadata": {},
     "output_type": "display_data"
    },
    {
     "name": "stdout",
     "output_type": "stream",
     "text": [
      "[Test][Epoch 42] Loss: 0.00125, Accuracy: 0.975100\n"
     ]
    },
    {
     "data": {
      "application/vnd.jupyter.widget-view+json": {
       "model_id": "1e3981adbbdf43829fc91d352770cf26",
       "version_major": 2,
       "version_minor": 0
      },
      "text/plain": [
       "Epoch 43/Training:   0%|          | 0/118 [00:00<?, ?batch/s]"
      ]
     },
     "metadata": {},
     "output_type": "display_data"
    },
    {
     "name": "stdout",
     "output_type": "stream",
     "text": [
      "[Train][Epoch 43] Average Loss: 0.00155, Updated Learning Rate: 5.7924543379457494e-05\n"
     ]
    },
    {
     "data": {
      "application/vnd.jupyter.widget-view+json": {
       "model_id": "177d34b74f174b70afe98e4418ea6b1e",
       "version_major": 2,
       "version_minor": 0
      },
      "text/plain": [
       "Epoch 43/Testing:   0%|          | 0/20 [00:00<?, ?batch/s]"
      ]
     },
     "metadata": {},
     "output_type": "display_data"
    },
    {
     "name": "stdout",
     "output_type": "stream",
     "text": [
      "[Test][Epoch 43] Loss: 0.00125, Accuracy: 0.975700\n"
     ]
    },
    {
     "data": {
      "application/vnd.jupyter.widget-view+json": {
       "model_id": "1d66bea5c2a34ffd865b2fba21939943",
       "version_major": 2,
       "version_minor": 0
      },
      "text/plain": [
       "Epoch 44/Training:   0%|          | 0/118 [00:00<?, ?batch/s]"
      ]
     },
     "metadata": {},
     "output_type": "display_data"
    },
    {
     "name": "stdout",
     "output_type": "stream",
     "text": [
      "[Train][Epoch 44] Average Loss: 0.00155, Updated Learning Rate: 4.040594407344143e-05\n"
     ]
    },
    {
     "data": {
      "application/vnd.jupyter.widget-view+json": {
       "model_id": "922b85b5447a4e87be194d5005ae76f4",
       "version_major": 2,
       "version_minor": 0
      },
      "text/plain": [
       "Epoch 44/Testing:   0%|          | 0/20 [00:00<?, ?batch/s]"
      ]
     },
     "metadata": {},
     "output_type": "display_data"
    },
    {
     "name": "stdout",
     "output_type": "stream",
     "text": [
      "[Test][Epoch 44] Loss: 0.00125, Accuracy: 0.975500\n"
     ]
    },
    {
     "data": {
      "application/vnd.jupyter.widget-view+json": {
       "model_id": "9d57a57bb1f74f988503c934db2721e1",
       "version_major": 2,
       "version_minor": 0
      },
      "text/plain": [
       "Epoch 45/Training:   0%|          | 0/118 [00:00<?, ?batch/s]"
      ]
     },
     "metadata": {},
     "output_type": "display_data"
    },
    {
     "name": "stdout",
     "output_type": "stream",
     "text": [
      "[Train][Epoch 45] Average Loss: 0.00155, Updated Learning Rate: 2.5954663721326342e-05\n"
     ]
    },
    {
     "data": {
      "application/vnd.jupyter.widget-view+json": {
       "model_id": "31aa3842018342289c743caeb23611f2",
       "version_major": 2,
       "version_minor": 0
      },
      "text/plain": [
       "Epoch 45/Testing:   0%|          | 0/20 [00:00<?, ?batch/s]"
      ]
     },
     "metadata": {},
     "output_type": "display_data"
    },
    {
     "name": "stdout",
     "output_type": "stream",
     "text": [
      "[Test][Epoch 45] Loss: 0.00125, Accuracy: 0.975700\n"
     ]
    },
    {
     "data": {
      "application/vnd.jupyter.widget-view+json": {
       "model_id": "34bdcd22f34e48329dfb9a62ee61e830",
       "version_major": 2,
       "version_minor": 0
      },
      "text/plain": [
       "Epoch 46/Training:   0%|          | 0/118 [00:00<?, ?batch/s]"
      ]
     },
     "metadata": {},
     "output_type": "display_data"
    },
    {
     "name": "stdout",
     "output_type": "stream",
     "text": [
      "[Train][Epoch 46] Average Loss: 0.00154, Updated Learning Rate: 1.464110750835019e-05\n"
     ]
    },
    {
     "data": {
      "application/vnd.jupyter.widget-view+json": {
       "model_id": "14a4ba0f4e4b44ce90c201e430a69b5b",
       "version_major": 2,
       "version_minor": 0
      },
      "text/plain": [
       "Epoch 46/Testing:   0%|          | 0/20 [00:00<?, ?batch/s]"
      ]
     },
     "metadata": {},
     "output_type": "display_data"
    },
    {
     "name": "stdout",
     "output_type": "stream",
     "text": [
      "[Test][Epoch 46] Loss: 0.00125, Accuracy: 0.976000\n"
     ]
    },
    {
     "data": {
      "application/vnd.jupyter.widget-view+json": {
       "model_id": "6d82e40e80a7494fa6b996196b1be681",
       "version_major": 2,
       "version_minor": 0
      },
      "text/plain": [
       "Epoch 47/Training:   0%|          | 0/118 [00:00<?, ?batch/s]"
      ]
     },
     "metadata": {},
     "output_type": "display_data"
    },
    {
     "name": "stdout",
     "output_type": "stream",
     "text": [
      "[Train][Epoch 47] Average Loss: 0.00155, Updated Learning Rate: 6.520393943147932e-06\n"
     ]
    },
    {
     "data": {
      "application/vnd.jupyter.widget-view+json": {
       "model_id": "ec3779c5b89844389d8d3ab639e4c496",
       "version_major": 2,
       "version_minor": 0
      },
      "text/plain": [
       "Epoch 47/Testing:   0%|          | 0/20 [00:00<?, ?batch/s]"
      ]
     },
     "metadata": {},
     "output_type": "display_data"
    },
    {
     "name": "stdout",
     "output_type": "stream",
     "text": [
      "[Test][Epoch 47] Loss: 0.00125, Accuracy: 0.975700\n"
     ]
    },
    {
     "data": {
      "application/vnd.jupyter.widget-view+json": {
       "model_id": "29a636f539f3457783cb53664215b175",
       "version_major": 2,
       "version_minor": 0
      },
      "text/plain": [
       "Epoch 48/Training:   0%|          | 0/118 [00:00<?, ?batch/s]"
      ]
     },
     "metadata": {},
     "output_type": "display_data"
    },
    {
     "name": "stdout",
     "output_type": "stream",
     "text": [
      "[Train][Epoch 48] Average Loss: 0.00155, Updated Learning Rate: 1.6320863259177876e-06\n"
     ]
    },
    {
     "data": {
      "application/vnd.jupyter.widget-view+json": {
       "model_id": "b6ae715a2c004d96ad9c6e0c3d4b9a26",
       "version_major": 2,
       "version_minor": 0
      },
      "text/plain": [
       "Epoch 48/Testing:   0%|          | 0/20 [00:00<?, ?batch/s]"
      ]
     },
     "metadata": {},
     "output_type": "display_data"
    },
    {
     "name": "stdout",
     "output_type": "stream",
     "text": [
      "[Test][Epoch 48] Loss: 0.00125, Accuracy: 0.976300\n"
     ]
    },
    {
     "data": {
      "application/vnd.jupyter.widget-view+json": {
       "model_id": "3f3da9f8de3c4121b2766a11ecde963d",
       "version_major": 2,
       "version_minor": 0
      },
      "text/plain": [
       "Epoch 49/Training:   0%|          | 0/118 [00:00<?, ?batch/s]"
      ]
     },
     "metadata": {},
     "output_type": "display_data"
    },
    {
     "name": "stdout",
     "output_type": "stream",
     "text": [
      "[Train][Epoch 49] Average Loss: 0.00155, Updated Learning Rate: 0.0\n"
     ]
    },
    {
     "data": {
      "application/vnd.jupyter.widget-view+json": {
       "model_id": "84b5164c1cf84c7490ab6bd010e9a311",
       "version_major": 2,
       "version_minor": 0
      },
      "text/plain": [
       "Epoch 49/Testing:   0%|          | 0/20 [00:00<?, ?batch/s]"
      ]
     },
     "metadata": {},
     "output_type": "display_data"
    },
    {
     "name": "stdout",
     "output_type": "stream",
     "text": [
      "[Test][Epoch 49] Loss: 0.00125, Accuracy: 0.975600\n"
     ]
    }
   ],
   "source": [
    "run()"
   ]
  },
  {
   "cell_type": "code",
   "execution_count": null,
   "id": "e7ee87b2-3663-4643-aeaf-05b7be98dd42",
   "metadata": {},
   "outputs": [],
   "source": []
  }
 ],
 "metadata": {
  "kernelspec": {
   "display_name": "Python 3 (ipykernel)",
   "language": "python",
   "name": "python3"
  },
  "language_info": {
   "codemirror_mode": {
    "name": "ipython",
    "version": 3
   },
   "file_extension": ".py",
   "mimetype": "text/x-python",
   "name": "python",
   "nbconvert_exporter": "python",
   "pygments_lexer": "ipython3",
   "version": "3.9.18"
  }
 },
 "nbformat": 4,
 "nbformat_minor": 5
}
